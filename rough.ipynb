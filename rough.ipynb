{
 "cells": [
  {
   "cell_type": "code",
   "execution_count": null,
   "metadata": {},
   "outputs": [],
   "source": []
  },
  {
   "cell_type": "code",
   "execution_count": null,
   "metadata": {},
   "outputs": [],
   "source": [
    "from itertools import permutations\n",
    "\n",
    "def candidate_set_generation(xi, pi0, Ti, T0i, F):\n",
    "    c0 = []\n",
    "    for i in range(len(pi0)):\n",
    "      c0.append('MASK')\n",
    "    # c0 = ['MASK'] * len(pi0)\n",
    "    print(c0)\n",
    "    \n",
    "    # Ci = {c0}\n",
    "    Ci = c0\n",
    "    \n",
    "    Tshared = Ti.intersection(T0i)\n",
    "    print(f'T shared {Tshared}')\n",
    "\n",
    "    for tk in Tshared:\n",
    "        # print(tk)\n",
    "\n",
    "        Wk = [word for word, pos in xi if pos == tk]\n",
    "        print(f'Wk {Wk}')\n",
    "    \n",
    "        Sk = [i for i, pos in enumerate(pi0) if pos[1] == tk]\n",
    "        print(f'Sk {Sk}')\n",
    "\n",
    "        # Ak = list(permutations(Wk, len(Sk)))\n",
    "        if len(Wk)<len(Sk):\n",
    "            Ak = list(permutations(Sk,len(Wk)))\n",
    "        else:\n",
    "            Ak = list(permutations(Wk,len(Sk)))\n",
    "\n",
    "          \n",
    "        print(f'Ak {Ak}')\n",
    "\n",
    "        if not Ak:\n",
    "            continue\n",
    "        new_Ci = set()\n",
    "        for cj in Ci:\n",
    "        cj = Ci\n",
    "        # print('cj',cj)\n",
    "        for a in Ak:\n",
    "            c0j = cj\n",
    "            # print('c0j', c0j)\n",
    "            for i, word in zip(Sk, a):\n",
    "                # print(i,word)\n",
    "                c0j[i] = pi0[word][0]\n",
    "            # print('c0j', c0j)    \n",
    "            new_Ci.add(' '.join(c0j))\n",
    "        Ci = new_Ci\n",
    "        print('Ci', Ci)\n",
    "        # break\n",
    "    print(len(Ci))\n",
    "    return Ci\n",
    "    # return {F(cj) for cj in Ci}\n"
   ]
  }
 ],
 "metadata": {
  "kernelspec": {
   "display_name": "csci544",
   "language": "python",
   "name": "python3"
  },
  "language_info": {
   "codemirror_mode": {
    "name": "ipython",
    "version": 3
   },
   "file_extension": ".py",
   "mimetype": "text/x-python",
   "name": "python",
   "nbconvert_exporter": "python",
   "pygments_lexer": "ipython3",
   "version": "3.9.16"
  },
  "orig_nbformat": 4
 },
 "nbformat": 4,
 "nbformat_minor": 2
}
