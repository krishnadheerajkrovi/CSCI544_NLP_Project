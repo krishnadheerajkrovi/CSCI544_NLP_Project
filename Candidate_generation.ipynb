{
  "cells": [
    {
      "cell_type": "code",
      "execution_count": 19,
      "id": "6d1014c7",
      "metadata": {
        "id": "6d1014c7"
      },
      "outputs": [],
      "source": [
        "from itertools import permutations\n",
        "\n",
        "def candidate_set_generation(xi, pi0, Ti, T0i, F):\n",
        "    # Initialize candidate sentence with masked tokens\n",
        "    c0 = '[MASK]' * len(pi0)\n",
        "    Ci = {c0}\n",
        "    # Find shared POS tags between pi and pi0\n",
        "    Tshared = Ti.intersection(T0i)\n",
        "    for tk in Tshared:\n",
        "        # Find words in xi that are tagged with tk\n",
        "        Wk = [word for word, pos in xi if pos == tk]\n",
        "        # Find positions in pi0 where tk occurs\n",
        "        Sk = [i for i, pos in enumerate(pi0) if pos == tk]\n",
        "        # Generate all possible assignments of words in Wk to positions in Sk\n",
        "        Ak = list(permutations(Wk, len(Sk)))\n",
        "        if not Ak:\n",
        "            continue\n",
        "        # Generate new candidate sentences by filling in masked tokens with word assignments\n",
        "        new_Ci = set()\n",
        "        for cj in Ci:\n",
        "            for a in Ak:\n",
        "                c0j = [c for c in cj]\n",
        "                for i, word in zip(Sk, a):\n",
        "                    c0j[i] = word\n",
        "                new_Ci.add(' '.join(c0j))\n",
        "        Ci = new_Ci\n",
        "    # Apply mask-filling model to each candidate sentence and return the set of filled sentences\n",
        "    return {F(cj) for cj in Ci}\n"
      ]
    },
    {
      "cell_type": "code",
      "execution_count": null,
      "id": "43ee7a0b",
      "metadata": {
        "id": "43ee7a0b",
        "outputId": "de5b98aa-d50d-421b-e14b-b154a6d52315"
      },
      "outputs": [
        {
          "data": {
            "text/plain": [
              "{'I like     d o g s       f u c k i n g       S       K       ]       [       M       A       S       K       ]       [       M       A       S       K       ]       [       M       A       S       K       ]       [       M       A       S       K       ]',\n",
              " 'I like     f u c k i n g       d o g s       S       K       ]       [       M       A       S       K       ]       [       M       A       S       K       ]       [       M       A       S       K       ]       [       M       A       S       K       ]'}"
            ]
          },
          "execution_count": 3,
          "metadata": {},
          "output_type": "execute_result"
        }
      ],
      "source": [
        "xi = [('I', 'PRP'), ('like', 'VBP'), ('fucking', 'NNS'), ('and', 'CC'), ('dogs', 'NNS')]\n",
        "pi0 = ['PRP', 'VBP', 'NNS', 'CC', 'NNS']\n",
        "Ti = {'PRP', 'VBP', 'NNS'}\n",
        "T0i = {'PRP', 'VBP', 'NNS', 'CC'}\n",
        "F = \n",
        "\n",
        "candidate_set_generation(xi, pi0, Ti, T0i, F)"
      ]
    },
    {
      "cell_type": "markdown",
      "id": "2088c25b",
      "metadata": {
        "id": "2088c25b"
      },
      "source": [
        "Distiled Roberta tokenizer"
      ]
    },
    {
      "cell_type": "code",
      "execution_count": 2,
      "id": "ofKKZ9hPhpBv",
      "metadata": {
        "colab": {
          "base_uri": "https://localhost:8080/"
        },
        "id": "ofKKZ9hPhpBv",
        "outputId": "f507eaae-9a5f-40b8-c1b1-8ca57c4cac97"
      },
      "outputs": [
        {
          "name": "stdout",
          "output_type": "stream",
          "text": [
            "Looking in indexes: https://pypi.org/simple, https://us-python.pkg.dev/colab-wheels/public/simple/\n",
            "Collecting transformers\n",
            "  Downloading transformers-4.27.4-py3-none-any.whl (6.8 MB)\n",
            "\u001b[2K     \u001b[90m━━━━━━━━━━━━━━━━━━━━━━━━━━━━━━━━━━━━━━━━\u001b[0m \u001b[32m6.8/6.8 MB\u001b[0m \u001b[31m63.7 MB/s\u001b[0m eta \u001b[36m0:00:00\u001b[0m\n",
            "\u001b[?25hRequirement already satisfied: pyyaml>=5.1 in /usr/local/lib/python3.9/dist-packages (from transformers) (6.0)\n",
            "Requirement already satisfied: regex!=2019.12.17 in /usr/local/lib/python3.9/dist-packages (from transformers) (2022.10.31)\n",
            "Collecting tokenizers!=0.11.3,<0.14,>=0.11.1\n",
            "  Downloading tokenizers-0.13.3-cp39-cp39-manylinux_2_17_x86_64.manylinux2014_x86_64.whl (7.8 MB)\n",
            "\u001b[2K     \u001b[90m━━━━━━━━━━━━━━━━━━━━━━━━━━━━━━━━━━━━━━━━\u001b[0m \u001b[32m7.8/7.8 MB\u001b[0m \u001b[31m65.7 MB/s\u001b[0m eta \u001b[36m0:00:00\u001b[0m\n",
            "\u001b[?25hRequirement already satisfied: requests in /usr/local/lib/python3.9/dist-packages (from transformers) (2.27.1)\n",
            "Requirement already satisfied: packaging>=20.0 in /usr/local/lib/python3.9/dist-packages (from transformers) (23.0)\n",
            "Collecting huggingface-hub<1.0,>=0.11.0\n",
            "  Downloading huggingface_hub-0.13.4-py3-none-any.whl (200 kB)\n",
            "\u001b[2K     \u001b[90m━━━━━━━━━━━━━━━━━━━━━━━━━━━━━━━━━━━━━━\u001b[0m \u001b[32m200.1/200.1 KB\u001b[0m \u001b[31m13.3 MB/s\u001b[0m eta \u001b[36m0:00:00\u001b[0m\n",
            "\u001b[?25hRequirement already satisfied: filelock in /usr/local/lib/python3.9/dist-packages (from transformers) (3.10.7)\n",
            "Requirement already satisfied: tqdm>=4.27 in /usr/local/lib/python3.9/dist-packages (from transformers) (4.65.0)\n",
            "Requirement already satisfied: numpy>=1.17 in /usr/local/lib/python3.9/dist-packages (from transformers) (1.22.4)\n",
            "Requirement already satisfied: typing-extensions>=3.7.4.3 in /usr/local/lib/python3.9/dist-packages (from huggingface-hub<1.0,>=0.11.0->transformers) (4.5.0)\n",
            "Requirement already satisfied: charset-normalizer~=2.0.0 in /usr/local/lib/python3.9/dist-packages (from requests->transformers) (2.0.12)\n",
            "Requirement already satisfied: certifi>=2017.4.17 in /usr/local/lib/python3.9/dist-packages (from requests->transformers) (2022.12.7)\n",
            "Requirement already satisfied: idna<4,>=2.5 in /usr/local/lib/python3.9/dist-packages (from requests->transformers) (3.4)\n",
            "Requirement already satisfied: urllib3<1.27,>=1.21.1 in /usr/local/lib/python3.9/dist-packages (from requests->transformers) (1.26.15)\n",
            "Installing collected packages: tokenizers, huggingface-hub, transformers\n",
            "Successfully installed huggingface-hub-0.13.4 tokenizers-0.13.3 transformers-4.27.4\n"
          ]
        }
      ],
      "source": [
        "!pip install transformers"
      ]
    },
    {
      "cell_type": "code",
      "execution_count": 3,
      "id": "0a7f3a8a",
      "metadata": {
        "colab": {
          "base_uri": "https://localhost:8080/",
          "height": 131,
          "referenced_widgets": [
            "45ecb65993a0440b94e740ea818a8b8d",
            "7fcbb21e2d2641b390a320d5e8b5f246",
            "1e6bace12e0148cca7bf9a939c8e2654",
            "ba4e65b79bcb40a68806e0d408a6dc4d",
            "62270d216085440f85b20eba834f937d",
            "ce365e56effe4fc482dc61a89e3cd239",
            "af2f6a57e3134e948d344b9b234b8408",
            "75f33320310945a7b8f62378e19de02a",
            "3ee3726a18df4452b33073596b4daac2",
            "2847c81b840a4d8eb43eb1410f425acb",
            "7323e6c7a22a4008a0d27d1e84d0fde3",
            "830f609e63b7410a9afb6c9a7e003f3a",
            "271f07cdf0d9444ab77297f48ae81633",
            "ace0f7d6bfa34b9ca675c486001a3a99",
            "24e368f53c8f4b35a8deecadea6a8b5d",
            "6f1c7530456b420a87620c71199c0bb5",
            "f0f5cf433d3e42e5bf9f3d6205395dfc",
            "6a88d2dd0e884140a9f60a7d0aa803f9",
            "e501ed2a3cd24fd991669dfbbbe5dedc",
            "e75877d52a024880b73bfcdbb28d6df6",
            "45a6a0803f464b4d862f38aaf1bf4c70",
            "cc6c2ee01e89480cb0e7204032e21034",
            "35078d584dcf4bfd9a7ad2b93001a609",
            "9d88a4635420470899a34a11f588be2b",
            "0dc2e0da15314957b3e9621a70e5dcd4",
            "c04e569293454d52bcb70a10d5f5a244",
            "46a840d2a37140d28a3d08f2725f00b3",
            "facd13ef8e7845f09b47257cde73141f",
            "0b9400bd49964a5cb863d609cabb857a",
            "9b82f9a4165b4b8bad3e29b4ae1a7ddc",
            "4bc3f69069864d87b5440070365a469f",
            "3c874a932da445c1b3210206f7d58c1e",
            "4a92fa802ac7406abeca0477bb9db747"
          ]
        },
        "id": "0a7f3a8a",
        "outputId": "f6f3efd9-5a87-4879-8a85-b428be2f1217"
      },
      "outputs": [
        {
          "data": {
            "application/vnd.jupyter.widget-view+json": {
              "model_id": "45ecb65993a0440b94e740ea818a8b8d",
              "version_major": 2,
              "version_minor": 0
            },
            "text/plain": [
              "Downloading (…)olve/main/vocab.json:   0%|          | 0.00/899k [00:00<?, ?B/s]"
            ]
          },
          "metadata": {},
          "output_type": "display_data"
        },
        {
          "data": {
            "application/vnd.jupyter.widget-view+json": {
              "model_id": "830f609e63b7410a9afb6c9a7e003f3a",
              "version_major": 2,
              "version_minor": 0
            },
            "text/plain": [
              "Downloading (…)olve/main/merges.txt:   0%|          | 0.00/456k [00:00<?, ?B/s]"
            ]
          },
          "metadata": {},
          "output_type": "display_data"
        },
        {
          "data": {
            "application/vnd.jupyter.widget-view+json": {
              "model_id": "35078d584dcf4bfd9a7ad2b93001a609",
              "version_major": 2,
              "version_minor": 0
            },
            "text/plain": [
              "Downloading (…)lve/main/config.json:   0%|          | 0.00/480 [00:00<?, ?B/s]"
            ]
          },
          "metadata": {},
          "output_type": "display_data"
        },
        {
          "data": {
            "text/plain": [
              "[0, 20920, 232, 2]"
            ]
          },
          "execution_count": 3,
          "metadata": {},
          "output_type": "execute_result"
        }
      ],
      "source": [
        "from transformers import RobertaTokenizer\n",
        "tokenizer = RobertaTokenizer.from_pretrained(\"distilroberta-base\")\n",
        "tokenizer(\"Hello world\")['input_ids']\n",
        "tokenizer(\" Hello world\")['input_ids']  "
      ]
    },
    {
      "cell_type": "code",
      "execution_count": 7,
      "id": "dWbrEEP3h5Yq",
      "metadata": {
        "colab": {
          "base_uri": "https://localhost:8080/"
        },
        "id": "dWbrEEP3h5Yq",
        "outputId": "f45a4b3a-5c7a-4f5b-96de-6f2aea373e92"
      },
      "outputs": [
        {
          "name": "stdout",
          "output_type": "stream",
          "text": [
            "Looking in indexes: https://pypi.org/simple, https://us-python.pkg.dev/colab-wheels/public/simple/\n",
            "Requirement already satisfied: transformers in /usr/local/lib/python3.9/dist-packages (4.27.4)\n",
            "Requirement already satisfied: requests in /usr/local/lib/python3.9/dist-packages (from transformers) (2.27.1)\n",
            "Requirement already satisfied: pyyaml>=5.1 in /usr/local/lib/python3.9/dist-packages (from transformers) (6.0)\n",
            "Requirement already satisfied: huggingface-hub<1.0,>=0.11.0 in /usr/local/lib/python3.9/dist-packages (from transformers) (0.13.4)\n",
            "Requirement already satisfied: packaging>=20.0 in /usr/local/lib/python3.9/dist-packages (from transformers) (23.0)\n",
            "Requirement already satisfied: tqdm>=4.27 in /usr/local/lib/python3.9/dist-packages (from transformers) (4.65.0)\n",
            "Requirement already satisfied: numpy>=1.17 in /usr/local/lib/python3.9/dist-packages (from transformers) (1.22.4)\n",
            "Requirement already satisfied: tokenizers!=0.11.3,<0.14,>=0.11.1 in /usr/local/lib/python3.9/dist-packages (from transformers) (0.13.3)\n",
            "Requirement already satisfied: filelock in /usr/local/lib/python3.9/dist-packages (from transformers) (3.10.7)\n",
            "Requirement already satisfied: regex!=2019.12.17 in /usr/local/lib/python3.9/dist-packages (from transformers) (2022.10.31)\n",
            "Requirement already satisfied: typing-extensions>=3.7.4.3 in /usr/local/lib/python3.9/dist-packages (from huggingface-hub<1.0,>=0.11.0->transformers) (4.5.0)\n",
            "Requirement already satisfied: urllib3<1.27,>=1.21.1 in /usr/local/lib/python3.9/dist-packages (from requests->transformers) (1.26.15)\n",
            "Requirement already satisfied: certifi>=2017.4.17 in /usr/local/lib/python3.9/dist-packages (from requests->transformers) (2022.12.7)\n",
            "Requirement already satisfied: charset-normalizer~=2.0.0 in /usr/local/lib/python3.9/dist-packages (from requests->transformers) (2.0.12)\n",
            "Requirement already satisfied: idna<4,>=2.5 in /usr/local/lib/python3.9/dist-packages (from requests->transformers) (3.4)\n"
          ]
        }
      ],
      "source": [
        "# !pip install transformers.RobertaForMaSkedLM\n",
        "!pip install transformers --upgrade"
      ]
    },
    {
      "cell_type": "code",
      "execution_count": null,
      "id": "0x5Ylt-giYX3",
      "metadata": {
        "id": "0x5Ylt-giYX3"
      },
      "outputs": [],
      "source": []
    },
    {
      "cell_type": "code",
      "execution_count": 14,
      "id": "KtWrjeneiUKx",
      "metadata": {
        "id": "KtWrjeneiUKx"
      },
      "outputs": [],
      "source": [
        "from transformers import RobertaForMaskedLM"
      ]
    },
    {
      "cell_type": "code",
      "execution_count": 16,
      "id": "FL1FrdcNiu-g",
      "metadata": {
        "id": "FL1FrdcNiu-g"
      },
      "outputs": [],
      "source": [
        "from transformers import RobertaTokenizer"
      ]
    },
    {
      "cell_type": "code",
      "execution_count": 17,
      "id": "32121e47",
      "metadata": {
        "colab": {
          "base_uri": "https://localhost:8080/",
          "height": 67,
          "referenced_widgets": [
            "d3345321fa694e6fb9d643272e700d8d",
            "ca54b6a7dd054b08a232a6b61a012626",
            "c557181b86a04bbfaee379018e1ac2d5",
            "6a16fdaf889644358506c4d6978ea585",
            "95cb3949115746d7900ba8e27e3454e1",
            "335293a312de43efa976599e3280d0d6",
            "6958f431680b49e88b05a62a6f22d565",
            "bc94eca1ef474dd4a50a362ae8706cfc",
            "4f915ab171024cd0aef9718b62567d77",
            "30cd3e3351c04e99ae000c5ebc9b097f",
            "4fafb1a4cb764fa3b4b836fbeca4e09f"
          ]
        },
        "id": "32121e47",
        "outputId": "caef08a8-8618-4268-ad71-541e0628c48d"
      },
      "outputs": [
        {
          "data": {
            "application/vnd.jupyter.widget-view+json": {
              "model_id": "d3345321fa694e6fb9d643272e700d8d",
              "version_major": 2,
              "version_minor": 0
            },
            "text/plain": [
              "Downloading pytorch_model.bin:   0%|          | 0.00/331M [00:00<?, ?B/s]"
            ]
          },
          "metadata": {},
          "output_type": "display_data"
        },
        {
          "name": "stdout",
          "output_type": "stream",
          "text": [
            "top_5_tokens: [7105, 17835, 26536, 11141, 39072]\n"
          ]
        }
      ],
      "source": [
        "import torch\n",
        "# from transformers import RobertaTokenizer, RobertaForMaSkedLM\n",
        "\n",
        "model = RobertaForMaskedLM.from_pretrained('distilroberta-base')\n",
        "tokenizer = RobertaTokenizer.from_pretrained('distilroberta-base')\n",
        "\n",
        "sequence = f\"What the {tokenizer.mask_token} is going on?\" # \"The world will end in <mask>\"\n",
        "\n",
        "input_seq = tokenizer.encode(sequence, return_tensors='pt') # tensor([[0, 133, 232, 40, 253, 11, 50264, 2]])\n",
        "mask_token_index = torch.where(input_seq == tokenizer.mask_token_id)[1] # (tensor([0]), tensor([6])) - we only want the the 2nd dimension\n",
        "token_logits = model(input_seq).logits\n",
        "masked_token_logits = token_logits[0, mask_token_index, :]\n",
        "\n",
        "top_5_tokens = torch.topk(masked_token_logits, 5, dim=1).indices[0].tolist()\n",
        "\n",
        "# print('sequence:', sequence)\n",
        "# print('input_seq:', input_seq)\n",
        "# print('mask_token_index:', mask_token_index)\n",
        "# print('token_logits:', token_logits)\n",
        "# print('masked_token_logits:', masked_token_logits)\n",
        "print('top_5_tokens:', top_5_tokens)\n"
      ]
    },
    {
      "cell_type": "code",
      "execution_count": 18,
      "id": "63dc1bb7",
      "metadata": {
        "colab": {
          "base_uri": "https://localhost:8080/"
        },
        "id": "63dc1bb7",
        "outputId": "c9b3a2d6-6785-49d6-b468-0abdb9645c2c"
      },
      "outputs": [
        {
          "name": "stdout",
          "output_type": "stream",
          "text": [
            "What the  hell is going on?\n",
            "What the  heck is going on?\n",
            "What the  fuck is going on?\n",
            "What the  Hell is going on?\n",
            "What the  HELL is going on?\n"
          ]
        }
      ],
      "source": [
        "for token in top_5_tokens:\n",
        "    print(sequence.replace(tokenizer.mask_token, tokenizer.decode([token])))"
      ]
    },
    {
      "cell_type": "code",
      "execution_count": null,
      "id": "XZ0PzKmChltC",
      "metadata": {
        "id": "XZ0PzKmChltC"
      },
      "outputs": [],
      "source": [
        "from itertools import permutations\n",
        "Sk = [1,2,4,5]\n",
        "Wk = ['A','B','C']\n",
        "if len(Wk)<len(Sk):\n",
        "    Ak = list(permutations(Sk,len(Wk)))\n",
        "else:\n",
        "    Ak = list(permutations(Wk,len(Sk)))\n",
        "print(Ak)"
      ]
    },
    {
      "cell_type": "code",
      "execution_count": 31,
      "id": "ae99936d",
      "metadata": {
        "colab": {
          "base_uri": "https://localhost:8080/"
        },
        "id": "ae99936d",
        "outputId": "9377f59c-c44c-436b-a19a-6337b761bf09"
      },
      "outputs": [
        {
          "name": "stdout",
          "output_type": "stream",
          "text": [
            "[('A', 'B'), ('B', 'A')]\n"
          ]
        }
      ],
      "source": [
        "from itertools import permutations\n",
        "Sk = [1,2]\n",
        "Wk = ['A','B']\n",
        "if len(Wk)<len(Sk):\n",
        "    Ak = list(permutations(Sk,len(Wk)))\n",
        "else:\n",
        "    Ak = list(permutations(Wk,len(Sk)))\n",
        "print(Ak)"
      ]
    },
    {
      "cell_type": "code",
      "execution_count": null,
      "id": "f64520fa",
      "metadata": {
        "id": "f64520fa"
      },
      "outputs": [],
      "source": [
        "c0 = '[MASK]' * 4\n",
        "Ci = {c0}"
      ]
    },
    {
      "cell_type": "code",
      "execution_count": null,
      "id": "60d3f75f",
      "metadata": {
        "id": "60d3f75f"
      },
      "outputs": [],
      "source": [
        "Ci"
      ]
    },
    {
      "cell_type": "code",
      "execution_count": null,
      "id": "26f61ceb",
      "metadata": {
        "id": "26f61ceb"
      },
      "outputs": [],
      "source": [
        "new_Ci = set()\n",
        "for cj in Ci:\n",
        "    for a in Ak:\n",
        "        c0j = [c for c in cj]\n",
        "        for i, word in zip(Sk, a):\n",
        "            c0j[i] = word\n",
        "        new_Ci.add(' '.join(c0j))\n",
        "Ci = new_Ci"
      ]
    },
    {
      "cell_type": "code",
      "execution_count": null,
      "id": "c5ce95a9",
      "metadata": {
        "id": "c5ce95a9"
      },
      "outputs": [],
      "source": [
        "import torch\n",
        "from transformers import RobertaTokenizer, RobertaForMaskedLM\n",
        "\n",
        "# Load pre-trained RoBERTa model and tokenizer\n",
        "model = RobertaForMaskedLM.from_pretrained('distilroberta-base')\n",
        "tokenizer = RobertaTokenizer.from_pretrained('distilroberta-base')\n",
        "\n",
        "# Set model to evaluation mode\n",
        "model.eval()\n",
        "\n",
        "# Define mask-filling function using RoBERTa\n",
        "def fill_mask(text):\n",
        "    # Tokenize input text\n",
        "    input_ids = tokenizer.encode(text, return_tensors='pt')\n",
        "    # Find the [MASK] token index\n",
        "    mask_token_index = torch.where(input_ids == tokenizer.mask_token_id)[1]\n",
        "    # Get model predictions for the masked tokens\n",
        "    with torch.no_grad():\n",
        "        output = model(input_ids)\n",
        "        print(output)\n",
        "        mask_token_logits = output.logits[0, mask_token_index, :]\n",
        "    # Get the top predicted tokens and convert them to strings\n",
        "    top_tokens = torch.topk(mask_token_logits, k=5, dim=1).indices[0].tolist()\n",
        "    top_token_strings = tokenizer.convert_ids_to_tokens(top_tokens)\n",
        "    # Replace the [MASK] token with each of the top predicted tokens and return the resulting texts\n",
        "    # print(top_token_strings)\n",
        "    return [text[:mask_token_index[0].item()] + token + text[mask_token_index[0].item()+1:] for token in top_token_strings]"
      ]
    },
    {
      "cell_type": "code",
      "execution_count": null,
      "id": "PuRDe2P0t6S7",
      "metadata": {
        "id": "PuRDe2P0t6S7"
      },
      "outputs": [],
      "source": []
    },
    {
      "cell_type": "code",
      "execution_count": 12,
      "id": "09443594",
      "metadata": {
        "id": "09443594"
      },
      "outputs": [],
      "source": [
        "from itertools import permutations\n",
        "\n",
        "def candidate_set_generation(xi, pi0, Ti, T0i, F):\n",
        "    c0 = []\n",
        "    for i in range(len(pi0)):\n",
        "      c0.append('MASK')\n",
        "    # c0 = ['MASK'] * len(pi0)\n",
        "    print(c0)\n",
        "    \n",
        "    # Ci = {c0}\n",
        "    Ci = c0\n",
        "    \n",
        "    Tshared = Ti.intersection(T0i)\n",
        "    print(f'T shared {Tshared}')\n",
        "\n",
        "    for tk in Tshared:\n",
        "        # print(tk)\n",
        "\n",
        "        Wk = [word for word, pos in xi if pos == tk]\n",
        "        print(f'Wk {Wk}')\n",
        "    \n",
        "        Sk = [i for i, pos in enumerate(pi0) if pos[1] == tk]\n",
        "        print(f'Sk {Sk}')\n",
        "\n",
        "        # Ak = list(permutations(Wk, len(Sk)))\n",
        "        if len(Wk)<=len(Sk):\n",
        "            Ak = list(permutations(Sk,len(Wk)))\n",
        "        else:\n",
        "            Ak = list(permutations(Wk,len(Sk)))\n",
        "\n",
        "          \n",
        "        print(f'Ak {Ak}')\n",
        "\n",
        "        if not Ak:\n",
        "            continue\n",
        "        new_Ci = set()\n",
        "        for cj in Ci:\n",
        "            print('cj',cj)\n",
        "            for a in Ak:\n",
        "                c0j = [c for c in cj]\n",
        "                print('c0j', c0j)\n",
        "                for i, word in zip(Sk, a):\n",
        "                    print(i,word)\n",
        "                    c0j[i] = word\n",
        "                new_Ci.add(' '.join(c0j))\n",
        "        Ci = new_Ci\n",
        "        break\n",
        "    print(len(Ci))\n",
        "    return Ci\n",
        "    # return {F(cj) for cj in Ci}\n"
      ]
    },
    {
      "cell_type": "code",
      "execution_count": 13,
      "id": "9811a983",
      "metadata": {
        "id": "9811a983"
      },
      "outputs": [],
      "source": [
        "# non-offensive sentence\n",
        "pi0 = 'it is not they happen all the time there are thousands of train derailments a year but when a particularly bad one happens news outlets jump on the trend and start reporting more they are not more frequent this is just the first a lot of people are hearing about them edit you all can downvote but i am right look it up if you are really concerned you should know this'\n",
        "# non-offensive sentence pos tags \n",
        "tag_pi0 = ['PRP', 'VBZ', 'RB', 'PRP', 'VBP', 'PDT', 'DT', 'NN', 'EX', 'VBP', 'NNS', 'IN', 'NN', 'NNS', 'DT', 'NN', 'CC', 'WRB', 'DT', 'RB', 'JJ', 'NN', 'VBZ', 'NN', 'NNS', 'VB', 'IN', 'DT', 'NN', 'CC', 'VBP', 'VBG', 'JJR', 'PRP', 'VBP', 'RB', 'RBR', 'JJ', 'DT', 'VBZ', 'RB', 'DT', 'JJ', 'DT', 'NN', 'IN', 'NNS', 'VBP', 'VBG', 'IN', 'PRP', 'NN', 'PRP', 'DT', 'MD', 'VB', 'CC', 'PRP', 'VBP', 'JJ', 'VB', 'PRP', 'RP', 'IN', 'PRP', 'VBP', 'RB', 'JJ', 'PRP', 'MD', 'VB', 'DT']\n",
        "\n",
        "\n",
        "# offensive sentence \n",
        "xi = 'i get this feeling that derailments happen a lot and we are only paying attention now because of what happened in ohio that said why the fuck do they happen so often'\n",
        "# offensive sentence pos sequence \n",
        "tag_xi = ['PRP', 'VBP', 'DT', 'NN', 'IN', 'NNS', 'VBP', 'DT', 'NN', 'CC', 'PRP', 'VBP', 'RB', 'VBG', 'NN', 'RB', 'IN', 'IN', 'WP', 'VBD', 'IN', 'NNP', 'WDT', 'VBD', 'WRB', 'DT', 'BW', 'VBP', 'PRP', 'VB', 'RB', 'RB']\n",
        "\n",
        "\n",
        "# unique pos tags/tokens of non-offensive sentence\n",
        "T0i = set(['PRP', 'VBZ', 'RB', 'PRP', 'VBP', 'PDT', 'DT', 'NN', 'EX', 'VB\"P', 'NNS', 'IN', 'NN', 'NNS', 'DT', 'NN', 'CC', 'WRB', 'DT', 'RB', 'JJ', 'NN', 'VBZ', 'NN', 'NNS', 'VB', 'IN', 'DT', 'NN', 'CC', 'VBP', 'VBG', 'JJR', 'PRP', 'VBP', 'RB', 'RBR', 'JJ', 'DT', 'VBZ', 'RB', 'DT', 'JJ', 'DT', 'NN', 'IN', 'NNS', 'VBP', 'VBG', 'IN', 'PRP', 'NN', 'PRP', 'DT', 'MD', 'VB', 'CC', 'PRP', 'VBP', 'JJ', 'VB', 'PRP', 'RP', 'IN', 'PRP', 'VBP', 'RB', 'JJ', 'PRP', 'MD', 'VB', 'DT'])\n",
        "# unique pos tags/tokens of offensive sentence\n",
        "Ti = set(['PRP', 'VBP', 'DT', 'NN', 'IN', 'NNS', 'VBP', 'DT', 'NN', 'CC', 'PRP', 'VBP', 'RB', 'VBG', 'NN', 'RB', 'IN', 'IN', 'WP', 'VBD', 'IN', 'NNP', 'WDT', 'VBD', 'WRB', 'DT', 'BW', 'VBP', 'PRP', 'VB', 'RB', 'RB'])\n",
        "\n",
        "\n",
        "# tuple set of word in offensive sentence and its corresponding pos tag\n",
        "xi_mod = [(word,tag) for word,tag in zip(xi.split(),tag_xi)]\n",
        "# tuple set of word in non-offensive sentence and its corresponding pos tag\n",
        "pi0_mod = [(word,tag) for word,tag in zip(pi0.split(),tag_pi0)]"
      ]
    },
    {
      "cell_type": "code",
      "execution_count": 14,
      "id": "95339ea2",
      "metadata": {
        "colab": {
          "base_uri": "https://localhost:8080/",
          "height": 457
        },
        "id": "95339ea2",
        "outputId": "e8301444-4a29-41d3-cf9d-501042414179"
      },
      "outputs": [
        {
          "name": "stdout",
          "output_type": "stream",
          "text": [
            "['MASK', 'MASK', 'MASK', 'MASK', 'MASK', 'MASK', 'MASK', 'MASK', 'MASK', 'MASK', 'MASK', 'MASK', 'MASK', 'MASK', 'MASK', 'MASK', 'MASK', 'MASK', 'MASK', 'MASK', 'MASK', 'MASK', 'MASK', 'MASK', 'MASK', 'MASK', 'MASK', 'MASK', 'MASK', 'MASK', 'MASK', 'MASK', 'MASK', 'MASK', 'MASK', 'MASK', 'MASK', 'MASK', 'MASK', 'MASK', 'MASK', 'MASK', 'MASK', 'MASK', 'MASK', 'MASK', 'MASK', 'MASK', 'MASK', 'MASK', 'MASK', 'MASK', 'MASK', 'MASK', 'MASK', 'MASK', 'MASK', 'MASK', 'MASK', 'MASK', 'MASK', 'MASK', 'MASK', 'MASK', 'MASK', 'MASK', 'MASK', 'MASK', 'MASK', 'MASK', 'MASK', 'MASK']\n",
            "T shared {'VBP', 'VBG', 'VB', 'NN', 'WRB', 'DT', 'NNS', 'RB', 'IN', 'PRP', 'CC'}\n",
            "Wk ['get', 'happen', 'are', 'do']\n",
            "Sk [4, 9, 30, 34, 47, 58, 65]\n",
            "Ak [(4, 9, 30, 34), (4, 9, 30, 47), (4, 9, 30, 58), (4, 9, 30, 65), (4, 9, 34, 30), (4, 9, 34, 47), (4, 9, 34, 58), (4, 9, 34, 65), (4, 9, 47, 30), (4, 9, 47, 34), (4, 9, 47, 58), (4, 9, 47, 65), (4, 9, 58, 30), (4, 9, 58, 34), (4, 9, 58, 47), (4, 9, 58, 65), (4, 9, 65, 30), (4, 9, 65, 34), (4, 9, 65, 47), (4, 9, 65, 58), (4, 30, 9, 34), (4, 30, 9, 47), (4, 30, 9, 58), (4, 30, 9, 65), (4, 30, 34, 9), (4, 30, 34, 47), (4, 30, 34, 58), (4, 30, 34, 65), (4, 30, 47, 9), (4, 30, 47, 34), (4, 30, 47, 58), (4, 30, 47, 65), (4, 30, 58, 9), (4, 30, 58, 34), (4, 30, 58, 47), (4, 30, 58, 65), (4, 30, 65, 9), (4, 30, 65, 34), (4, 30, 65, 47), (4, 30, 65, 58), (4, 34, 9, 30), (4, 34, 9, 47), (4, 34, 9, 58), (4, 34, 9, 65), (4, 34, 30, 9), (4, 34, 30, 47), (4, 34, 30, 58), (4, 34, 30, 65), (4, 34, 47, 9), (4, 34, 47, 30), (4, 34, 47, 58), (4, 34, 47, 65), (4, 34, 58, 9), (4, 34, 58, 30), (4, 34, 58, 47), (4, 34, 58, 65), (4, 34, 65, 9), (4, 34, 65, 30), (4, 34, 65, 47), (4, 34, 65, 58), (4, 47, 9, 30), (4, 47, 9, 34), (4, 47, 9, 58), (4, 47, 9, 65), (4, 47, 30, 9), (4, 47, 30, 34), (4, 47, 30, 58), (4, 47, 30, 65), (4, 47, 34, 9), (4, 47, 34, 30), (4, 47, 34, 58), (4, 47, 34, 65), (4, 47, 58, 9), (4, 47, 58, 30), (4, 47, 58, 34), (4, 47, 58, 65), (4, 47, 65, 9), (4, 47, 65, 30), (4, 47, 65, 34), (4, 47, 65, 58), (4, 58, 9, 30), (4, 58, 9, 34), (4, 58, 9, 47), (4, 58, 9, 65), (4, 58, 30, 9), (4, 58, 30, 34), (4, 58, 30, 47), (4, 58, 30, 65), (4, 58, 34, 9), (4, 58, 34, 30), (4, 58, 34, 47), (4, 58, 34, 65), (4, 58, 47, 9), (4, 58, 47, 30), (4, 58, 47, 34), (4, 58, 47, 65), (4, 58, 65, 9), (4, 58, 65, 30), (4, 58, 65, 34), (4, 58, 65, 47), (4, 65, 9, 30), (4, 65, 9, 34), (4, 65, 9, 47), (4, 65, 9, 58), (4, 65, 30, 9), (4, 65, 30, 34), (4, 65, 30, 47), (4, 65, 30, 58), (4, 65, 34, 9), (4, 65, 34, 30), (4, 65, 34, 47), (4, 65, 34, 58), (4, 65, 47, 9), (4, 65, 47, 30), (4, 65, 47, 34), (4, 65, 47, 58), (4, 65, 58, 9), (4, 65, 58, 30), (4, 65, 58, 34), (4, 65, 58, 47), (9, 4, 30, 34), (9, 4, 30, 47), (9, 4, 30, 58), (9, 4, 30, 65), (9, 4, 34, 30), (9, 4, 34, 47), (9, 4, 34, 58), (9, 4, 34, 65), (9, 4, 47, 30), (9, 4, 47, 34), (9, 4, 47, 58), (9, 4, 47, 65), (9, 4, 58, 30), (9, 4, 58, 34), (9, 4, 58, 47), (9, 4, 58, 65), (9, 4, 65, 30), (9, 4, 65, 34), (9, 4, 65, 47), (9, 4, 65, 58), (9, 30, 4, 34), (9, 30, 4, 47), (9, 30, 4, 58), (9, 30, 4, 65), (9, 30, 34, 4), (9, 30, 34, 47), (9, 30, 34, 58), (9, 30, 34, 65), (9, 30, 47, 4), (9, 30, 47, 34), (9, 30, 47, 58), (9, 30, 47, 65), (9, 30, 58, 4), (9, 30, 58, 34), (9, 30, 58, 47), (9, 30, 58, 65), (9, 30, 65, 4), (9, 30, 65, 34), (9, 30, 65, 47), (9, 30, 65, 58), (9, 34, 4, 30), (9, 34, 4, 47), (9, 34, 4, 58), (9, 34, 4, 65), (9, 34, 30, 4), (9, 34, 30, 47), (9, 34, 30, 58), (9, 34, 30, 65), (9, 34, 47, 4), (9, 34, 47, 30), (9, 34, 47, 58), (9, 34, 47, 65), (9, 34, 58, 4), (9, 34, 58, 30), (9, 34, 58, 47), (9, 34, 58, 65), (9, 34, 65, 4), (9, 34, 65, 30), (9, 34, 65, 47), (9, 34, 65, 58), (9, 47, 4, 30), (9, 47, 4, 34), (9, 47, 4, 58), (9, 47, 4, 65), (9, 47, 30, 4), (9, 47, 30, 34), (9, 47, 30, 58), (9, 47, 30, 65), (9, 47, 34, 4), (9, 47, 34, 30), (9, 47, 34, 58), (9, 47, 34, 65), (9, 47, 58, 4), (9, 47, 58, 30), (9, 47, 58, 34), (9, 47, 58, 65), (9, 47, 65, 4), (9, 47, 65, 30), (9, 47, 65, 34), (9, 47, 65, 58), (9, 58, 4, 30), (9, 58, 4, 34), (9, 58, 4, 47), (9, 58, 4, 65), (9, 58, 30, 4), (9, 58, 30, 34), (9, 58, 30, 47), (9, 58, 30, 65), (9, 58, 34, 4), (9, 58, 34, 30), (9, 58, 34, 47), (9, 58, 34, 65), (9, 58, 47, 4), (9, 58, 47, 30), (9, 58, 47, 34), (9, 58, 47, 65), (9, 58, 65, 4), (9, 58, 65, 30), (9, 58, 65, 34), (9, 58, 65, 47), (9, 65, 4, 30), (9, 65, 4, 34), (9, 65, 4, 47), (9, 65, 4, 58), (9, 65, 30, 4), (9, 65, 30, 34), (9, 65, 30, 47), (9, 65, 30, 58), (9, 65, 34, 4), (9, 65, 34, 30), (9, 65, 34, 47), (9, 65, 34, 58), (9, 65, 47, 4), (9, 65, 47, 30), (9, 65, 47, 34), (9, 65, 47, 58), (9, 65, 58, 4), (9, 65, 58, 30), (9, 65, 58, 34), (9, 65, 58, 47), (30, 4, 9, 34), (30, 4, 9, 47), (30, 4, 9, 58), (30, 4, 9, 65), (30, 4, 34, 9), (30, 4, 34, 47), (30, 4, 34, 58), (30, 4, 34, 65), (30, 4, 47, 9), (30, 4, 47, 34), (30, 4, 47, 58), (30, 4, 47, 65), (30, 4, 58, 9), (30, 4, 58, 34), (30, 4, 58, 47), (30, 4, 58, 65), (30, 4, 65, 9), (30, 4, 65, 34), (30, 4, 65, 47), (30, 4, 65, 58), (30, 9, 4, 34), (30, 9, 4, 47), (30, 9, 4, 58), (30, 9, 4, 65), (30, 9, 34, 4), (30, 9, 34, 47), (30, 9, 34, 58), (30, 9, 34, 65), (30, 9, 47, 4), (30, 9, 47, 34), (30, 9, 47, 58), (30, 9, 47, 65), (30, 9, 58, 4), (30, 9, 58, 34), (30, 9, 58, 47), (30, 9, 58, 65), (30, 9, 65, 4), (30, 9, 65, 34), (30, 9, 65, 47), (30, 9, 65, 58), (30, 34, 4, 9), (30, 34, 4, 47), (30, 34, 4, 58), (30, 34, 4, 65), (30, 34, 9, 4), (30, 34, 9, 47), (30, 34, 9, 58), (30, 34, 9, 65), (30, 34, 47, 4), (30, 34, 47, 9), (30, 34, 47, 58), (30, 34, 47, 65), (30, 34, 58, 4), (30, 34, 58, 9), (30, 34, 58, 47), (30, 34, 58, 65), (30, 34, 65, 4), (30, 34, 65, 9), (30, 34, 65, 47), (30, 34, 65, 58), (30, 47, 4, 9), (30, 47, 4, 34), (30, 47, 4, 58), (30, 47, 4, 65), (30, 47, 9, 4), (30, 47, 9, 34), (30, 47, 9, 58), (30, 47, 9, 65), (30, 47, 34, 4), (30, 47, 34, 9), (30, 47, 34, 58), (30, 47, 34, 65), (30, 47, 58, 4), (30, 47, 58, 9), (30, 47, 58, 34), (30, 47, 58, 65), (30, 47, 65, 4), (30, 47, 65, 9), (30, 47, 65, 34), (30, 47, 65, 58), (30, 58, 4, 9), (30, 58, 4, 34), (30, 58, 4, 47), (30, 58, 4, 65), (30, 58, 9, 4), (30, 58, 9, 34), (30, 58, 9, 47), (30, 58, 9, 65), (30, 58, 34, 4), (30, 58, 34, 9), (30, 58, 34, 47), (30, 58, 34, 65), (30, 58, 47, 4), (30, 58, 47, 9), (30, 58, 47, 34), (30, 58, 47, 65), (30, 58, 65, 4), (30, 58, 65, 9), (30, 58, 65, 34), (30, 58, 65, 47), (30, 65, 4, 9), (30, 65, 4, 34), (30, 65, 4, 47), (30, 65, 4, 58), (30, 65, 9, 4), (30, 65, 9, 34), (30, 65, 9, 47), (30, 65, 9, 58), (30, 65, 34, 4), (30, 65, 34, 9), (30, 65, 34, 47), (30, 65, 34, 58), (30, 65, 47, 4), (30, 65, 47, 9), (30, 65, 47, 34), (30, 65, 47, 58), (30, 65, 58, 4), (30, 65, 58, 9), (30, 65, 58, 34), (30, 65, 58, 47), (34, 4, 9, 30), (34, 4, 9, 47), (34, 4, 9, 58), (34, 4, 9, 65), (34, 4, 30, 9), (34, 4, 30, 47), (34, 4, 30, 58), (34, 4, 30, 65), (34, 4, 47, 9), (34, 4, 47, 30), (34, 4, 47, 58), (34, 4, 47, 65), (34, 4, 58, 9), (34, 4, 58, 30), (34, 4, 58, 47), (34, 4, 58, 65), (34, 4, 65, 9), (34, 4, 65, 30), (34, 4, 65, 47), (34, 4, 65, 58), (34, 9, 4, 30), (34, 9, 4, 47), (34, 9, 4, 58), (34, 9, 4, 65), (34, 9, 30, 4), (34, 9, 30, 47), (34, 9, 30, 58), (34, 9, 30, 65), (34, 9, 47, 4), (34, 9, 47, 30), (34, 9, 47, 58), (34, 9, 47, 65), (34, 9, 58, 4), (34, 9, 58, 30), (34, 9, 58, 47), (34, 9, 58, 65), (34, 9, 65, 4), (34, 9, 65, 30), (34, 9, 65, 47), (34, 9, 65, 58), (34, 30, 4, 9), (34, 30, 4, 47), (34, 30, 4, 58), (34, 30, 4, 65), (34, 30, 9, 4), (34, 30, 9, 47), (34, 30, 9, 58), (34, 30, 9, 65), (34, 30, 47, 4), (34, 30, 47, 9), (34, 30, 47, 58), (34, 30, 47, 65), (34, 30, 58, 4), (34, 30, 58, 9), (34, 30, 58, 47), (34, 30, 58, 65), (34, 30, 65, 4), (34, 30, 65, 9), (34, 30, 65, 47), (34, 30, 65, 58), (34, 47, 4, 9), (34, 47, 4, 30), (34, 47, 4, 58), (34, 47, 4, 65), (34, 47, 9, 4), (34, 47, 9, 30), (34, 47, 9, 58), (34, 47, 9, 65), (34, 47, 30, 4), (34, 47, 30, 9), (34, 47, 30, 58), (34, 47, 30, 65), (34, 47, 58, 4), (34, 47, 58, 9), (34, 47, 58, 30), (34, 47, 58, 65), (34, 47, 65, 4), (34, 47, 65, 9), (34, 47, 65, 30), (34, 47, 65, 58), (34, 58, 4, 9), (34, 58, 4, 30), (34, 58, 4, 47), (34, 58, 4, 65), (34, 58, 9, 4), (34, 58, 9, 30), (34, 58, 9, 47), (34, 58, 9, 65), (34, 58, 30, 4), (34, 58, 30, 9), (34, 58, 30, 47), (34, 58, 30, 65), (34, 58, 47, 4), (34, 58, 47, 9), (34, 58, 47, 30), (34, 58, 47, 65), (34, 58, 65, 4), (34, 58, 65, 9), (34, 58, 65, 30), (34, 58, 65, 47), (34, 65, 4, 9), (34, 65, 4, 30), (34, 65, 4, 47), (34, 65, 4, 58), (34, 65, 9, 4), (34, 65, 9, 30), (34, 65, 9, 47), (34, 65, 9, 58), (34, 65, 30, 4), (34, 65, 30, 9), (34, 65, 30, 47), (34, 65, 30, 58), (34, 65, 47, 4), (34, 65, 47, 9), (34, 65, 47, 30), (34, 65, 47, 58), (34, 65, 58, 4), (34, 65, 58, 9), (34, 65, 58, 30), (34, 65, 58, 47), (47, 4, 9, 30), (47, 4, 9, 34), (47, 4, 9, 58), (47, 4, 9, 65), (47, 4, 30, 9), (47, 4, 30, 34), (47, 4, 30, 58), (47, 4, 30, 65), (47, 4, 34, 9), (47, 4, 34, 30), (47, 4, 34, 58), (47, 4, 34, 65), (47, 4, 58, 9), (47, 4, 58, 30), (47, 4, 58, 34), (47, 4, 58, 65), (47, 4, 65, 9), (47, 4, 65, 30), (47, 4, 65, 34), (47, 4, 65, 58), (47, 9, 4, 30), (47, 9, 4, 34), (47, 9, 4, 58), (47, 9, 4, 65), (47, 9, 30, 4), (47, 9, 30, 34), (47, 9, 30, 58), (47, 9, 30, 65), (47, 9, 34, 4), (47, 9, 34, 30), (47, 9, 34, 58), (47, 9, 34, 65), (47, 9, 58, 4), (47, 9, 58, 30), (47, 9, 58, 34), (47, 9, 58, 65), (47, 9, 65, 4), (47, 9, 65, 30), (47, 9, 65, 34), (47, 9, 65, 58), (47, 30, 4, 9), (47, 30, 4, 34), (47, 30, 4, 58), (47, 30, 4, 65), (47, 30, 9, 4), (47, 30, 9, 34), (47, 30, 9, 58), (47, 30, 9, 65), (47, 30, 34, 4), (47, 30, 34, 9), (47, 30, 34, 58), (47, 30, 34, 65), (47, 30, 58, 4), (47, 30, 58, 9), (47, 30, 58, 34), (47, 30, 58, 65), (47, 30, 65, 4), (47, 30, 65, 9), (47, 30, 65, 34), (47, 30, 65, 58), (47, 34, 4, 9), (47, 34, 4, 30), (47, 34, 4, 58), (47, 34, 4, 65), (47, 34, 9, 4), (47, 34, 9, 30), (47, 34, 9, 58), (47, 34, 9, 65), (47, 34, 30, 4), (47, 34, 30, 9), (47, 34, 30, 58), (47, 34, 30, 65), (47, 34, 58, 4), (47, 34, 58, 9), (47, 34, 58, 30), (47, 34, 58, 65), (47, 34, 65, 4), (47, 34, 65, 9), (47, 34, 65, 30), (47, 34, 65, 58), (47, 58, 4, 9), (47, 58, 4, 30), (47, 58, 4, 34), (47, 58, 4, 65), (47, 58, 9, 4), (47, 58, 9, 30), (47, 58, 9, 34), (47, 58, 9, 65), (47, 58, 30, 4), (47, 58, 30, 9), (47, 58, 30, 34), (47, 58, 30, 65), (47, 58, 34, 4), (47, 58, 34, 9), (47, 58, 34, 30), (47, 58, 34, 65), (47, 58, 65, 4), (47, 58, 65, 9), (47, 58, 65, 30), (47, 58, 65, 34), (47, 65, 4, 9), (47, 65, 4, 30), (47, 65, 4, 34), (47, 65, 4, 58), (47, 65, 9, 4), (47, 65, 9, 30), (47, 65, 9, 34), (47, 65, 9, 58), (47, 65, 30, 4), (47, 65, 30, 9), (47, 65, 30, 34), (47, 65, 30, 58), (47, 65, 34, 4), (47, 65, 34, 9), (47, 65, 34, 30), (47, 65, 34, 58), (47, 65, 58, 4), (47, 65, 58, 9), (47, 65, 58, 30), (47, 65, 58, 34), (58, 4, 9, 30), (58, 4, 9, 34), (58, 4, 9, 47), (58, 4, 9, 65), (58, 4, 30, 9), (58, 4, 30, 34), (58, 4, 30, 47), (58, 4, 30, 65), (58, 4, 34, 9), (58, 4, 34, 30), (58, 4, 34, 47), (58, 4, 34, 65), (58, 4, 47, 9), (58, 4, 47, 30), (58, 4, 47, 34), (58, 4, 47, 65), (58, 4, 65, 9), (58, 4, 65, 30), (58, 4, 65, 34), (58, 4, 65, 47), (58, 9, 4, 30), (58, 9, 4, 34), (58, 9, 4, 47), (58, 9, 4, 65), (58, 9, 30, 4), (58, 9, 30, 34), (58, 9, 30, 47), (58, 9, 30, 65), (58, 9, 34, 4), (58, 9, 34, 30), (58, 9, 34, 47), (58, 9, 34, 65), (58, 9, 47, 4), (58, 9, 47, 30), (58, 9, 47, 34), (58, 9, 47, 65), (58, 9, 65, 4), (58, 9, 65, 30), (58, 9, 65, 34), (58, 9, 65, 47), (58, 30, 4, 9), (58, 30, 4, 34), (58, 30, 4, 47), (58, 30, 4, 65), (58, 30, 9, 4), (58, 30, 9, 34), (58, 30, 9, 47), (58, 30, 9, 65), (58, 30, 34, 4), (58, 30, 34, 9), (58, 30, 34, 47), (58, 30, 34, 65), (58, 30, 47, 4), (58, 30, 47, 9), (58, 30, 47, 34), (58, 30, 47, 65), (58, 30, 65, 4), (58, 30, 65, 9), (58, 30, 65, 34), (58, 30, 65, 47), (58, 34, 4, 9), (58, 34, 4, 30), (58, 34, 4, 47), (58, 34, 4, 65), (58, 34, 9, 4), (58, 34, 9, 30), (58, 34, 9, 47), (58, 34, 9, 65), (58, 34, 30, 4), (58, 34, 30, 9), (58, 34, 30, 47), (58, 34, 30, 65), (58, 34, 47, 4), (58, 34, 47, 9), (58, 34, 47, 30), (58, 34, 47, 65), (58, 34, 65, 4), (58, 34, 65, 9), (58, 34, 65, 30), (58, 34, 65, 47), (58, 47, 4, 9), (58, 47, 4, 30), (58, 47, 4, 34), (58, 47, 4, 65), (58, 47, 9, 4), (58, 47, 9, 30), (58, 47, 9, 34), (58, 47, 9, 65), (58, 47, 30, 4), (58, 47, 30, 9), (58, 47, 30, 34), (58, 47, 30, 65), (58, 47, 34, 4), (58, 47, 34, 9), (58, 47, 34, 30), (58, 47, 34, 65), (58, 47, 65, 4), (58, 47, 65, 9), (58, 47, 65, 30), (58, 47, 65, 34), (58, 65, 4, 9), (58, 65, 4, 30), (58, 65, 4, 34), (58, 65, 4, 47), (58, 65, 9, 4), (58, 65, 9, 30), (58, 65, 9, 34), (58, 65, 9, 47), (58, 65, 30, 4), (58, 65, 30, 9), (58, 65, 30, 34), (58, 65, 30, 47), (58, 65, 34, 4), (58, 65, 34, 9), (58, 65, 34, 30), (58, 65, 34, 47), (58, 65, 47, 4), (58, 65, 47, 9), (58, 65, 47, 30), (58, 65, 47, 34), (65, 4, 9, 30), (65, 4, 9, 34), (65, 4, 9, 47), (65, 4, 9, 58), (65, 4, 30, 9), (65, 4, 30, 34), (65, 4, 30, 47), (65, 4, 30, 58), (65, 4, 34, 9), (65, 4, 34, 30), (65, 4, 34, 47), (65, 4, 34, 58), (65, 4, 47, 9), (65, 4, 47, 30), (65, 4, 47, 34), (65, 4, 47, 58), (65, 4, 58, 9), (65, 4, 58, 30), (65, 4, 58, 34), (65, 4, 58, 47), (65, 9, 4, 30), (65, 9, 4, 34), (65, 9, 4, 47), (65, 9, 4, 58), (65, 9, 30, 4), (65, 9, 30, 34), (65, 9, 30, 47), (65, 9, 30, 58), (65, 9, 34, 4), (65, 9, 34, 30), (65, 9, 34, 47), (65, 9, 34, 58), (65, 9, 47, 4), (65, 9, 47, 30), (65, 9, 47, 34), (65, 9, 47, 58), (65, 9, 58, 4), (65, 9, 58, 30), (65, 9, 58, 34), (65, 9, 58, 47), (65, 30, 4, 9), (65, 30, 4, 34), (65, 30, 4, 47), (65, 30, 4, 58), (65, 30, 9, 4), (65, 30, 9, 34), (65, 30, 9, 47), (65, 30, 9, 58), (65, 30, 34, 4), (65, 30, 34, 9), (65, 30, 34, 47), (65, 30, 34, 58), (65, 30, 47, 4), (65, 30, 47, 9), (65, 30, 47, 34), (65, 30, 47, 58), (65, 30, 58, 4), (65, 30, 58, 9), (65, 30, 58, 34), (65, 30, 58, 47), (65, 34, 4, 9), (65, 34, 4, 30), (65, 34, 4, 47), (65, 34, 4, 58), (65, 34, 9, 4), (65, 34, 9, 30), (65, 34, 9, 47), (65, 34, 9, 58), (65, 34, 30, 4), (65, 34, 30, 9), (65, 34, 30, 47), (65, 34, 30, 58), (65, 34, 47, 4), (65, 34, 47, 9), (65, 34, 47, 30), (65, 34, 47, 58), (65, 34, 58, 4), (65, 34, 58, 9), (65, 34, 58, 30), (65, 34, 58, 47), (65, 47, 4, 9), (65, 47, 4, 30), (65, 47, 4, 34), (65, 47, 4, 58), (65, 47, 9, 4), (65, 47, 9, 30), (65, 47, 9, 34), (65, 47, 9, 58), (65, 47, 30, 4), (65, 47, 30, 9), (65, 47, 30, 34), (65, 47, 30, 58), (65, 47, 34, 4), (65, 47, 34, 9), (65, 47, 34, 30), (65, 47, 34, 58), (65, 47, 58, 4), (65, 47, 58, 9), (65, 47, 58, 30), (65, 47, 58, 34), (65, 58, 4, 9), (65, 58, 4, 30), (65, 58, 4, 34), (65, 58, 4, 47), (65, 58, 9, 4), (65, 58, 9, 30), (65, 58, 9, 34), (65, 58, 9, 47), (65, 58, 30, 4), (65, 58, 30, 9), (65, 58, 30, 34), (65, 58, 30, 47), (65, 58, 34, 4), (65, 58, 34, 9), (65, 58, 34, 30), (65, 58, 34, 47), (65, 58, 47, 4), (65, 58, 47, 9), (65, 58, 47, 30), (65, 58, 47, 34)]\n",
            "cj MASK\n",
            "c0j ['M', 'A', 'S', 'K']\n",
            "4 4\n"
          ]
        },
        {
          "ename": "IndexError",
          "evalue": "ignored",
          "output_type": "error",
          "traceback": [
            "\u001b[0;31m---------------------------------------------------------------------------\u001b[0m",
            "\u001b[0;31mIndexError\u001b[0m                                Traceback (most recent call last)",
            "\u001b[0;32m<ipython-input-14-1459a86e53be>\u001b[0m in \u001b[0;36m<cell line: 1>\u001b[0;34m()\u001b[0m\n\u001b[0;32m----> 1\u001b[0;31m \u001b[0mprint\u001b[0m\u001b[0;34m(\u001b[0m\u001b[0mcandidate_set_generation\u001b[0m\u001b[0;34m(\u001b[0m\u001b[0mxi\u001b[0m\u001b[0;34m=\u001b[0m\u001b[0mxi_mod\u001b[0m\u001b[0;34m,\u001b[0m\u001b[0mpi0\u001b[0m\u001b[0;34m=\u001b[0m\u001b[0mpi0_mod\u001b[0m\u001b[0;34m,\u001b[0m\u001b[0mTi\u001b[0m\u001b[0;34m=\u001b[0m\u001b[0mTi\u001b[0m\u001b[0;34m,\u001b[0m\u001b[0mT0i\u001b[0m\u001b[0;34m=\u001b[0m\u001b[0mT0i\u001b[0m\u001b[0;34m,\u001b[0m\u001b[0mF\u001b[0m\u001b[0;34m=\u001b[0m\u001b[0;32mNone\u001b[0m\u001b[0;34m)\u001b[0m\u001b[0;34m)\u001b[0m\u001b[0;34m\u001b[0m\u001b[0;34m\u001b[0m\u001b[0m\n\u001b[0m",
            "\u001b[0;32m<ipython-input-12-1086c295fc5d>\u001b[0m in \u001b[0;36mcandidate_set_generation\u001b[0;34m(xi, pi0, Ti, T0i, F)\u001b[0m\n\u001b[1;32m     42\u001b[0m                 \u001b[0;32mfor\u001b[0m \u001b[0mi\u001b[0m\u001b[0;34m,\u001b[0m \u001b[0mword\u001b[0m \u001b[0;32min\u001b[0m \u001b[0mzip\u001b[0m\u001b[0;34m(\u001b[0m\u001b[0mSk\u001b[0m\u001b[0;34m,\u001b[0m \u001b[0ma\u001b[0m\u001b[0;34m)\u001b[0m\u001b[0;34m:\u001b[0m\u001b[0;34m\u001b[0m\u001b[0;34m\u001b[0m\u001b[0m\n\u001b[1;32m     43\u001b[0m                     \u001b[0mprint\u001b[0m\u001b[0;34m(\u001b[0m\u001b[0mi\u001b[0m\u001b[0;34m,\u001b[0m\u001b[0mword\u001b[0m\u001b[0;34m)\u001b[0m\u001b[0;34m\u001b[0m\u001b[0;34m\u001b[0m\u001b[0m\n\u001b[0;32m---> 44\u001b[0;31m                     \u001b[0mc0j\u001b[0m\u001b[0;34m[\u001b[0m\u001b[0mi\u001b[0m\u001b[0;34m]\u001b[0m \u001b[0;34m=\u001b[0m \u001b[0mword\u001b[0m\u001b[0;34m\u001b[0m\u001b[0;34m\u001b[0m\u001b[0m\n\u001b[0m\u001b[1;32m     45\u001b[0m                 \u001b[0mnew_Ci\u001b[0m\u001b[0;34m.\u001b[0m\u001b[0madd\u001b[0m\u001b[0;34m(\u001b[0m\u001b[0;34m' '\u001b[0m\u001b[0;34m.\u001b[0m\u001b[0mjoin\u001b[0m\u001b[0;34m(\u001b[0m\u001b[0mc0j\u001b[0m\u001b[0;34m)\u001b[0m\u001b[0;34m)\u001b[0m\u001b[0;34m\u001b[0m\u001b[0;34m\u001b[0m\u001b[0m\n\u001b[1;32m     46\u001b[0m         \u001b[0mCi\u001b[0m \u001b[0;34m=\u001b[0m \u001b[0mnew_Ci\u001b[0m\u001b[0;34m\u001b[0m\u001b[0;34m\u001b[0m\u001b[0m\n",
            "\u001b[0;31mIndexError\u001b[0m: list assignment index out of range"
          ]
        }
      ],
      "source": [
        "print(candidate_set_generation(xi=xi_mod,pi0=pi0_mod,Ti=Ti,T0i=T0i,F=None))"
      ]
    },
    {
      "cell_type": "code",
      "execution_count": null,
      "id": "cb91819c",
      "metadata": {
        "id": "cb91819c"
      },
      "outputs": [],
      "source": [
        "# Example inputs\n",
        "xi = [('The', 'DT'), ('fuck', '[MASK]'), ('brown', 'JJ'), ('fox', 'NN')]\n",
        "pi = ['The', 'quick', 'brown', 'fox']\n",
        "pi0 = ['DT', 'JJ', 'JJ', 'NN']\n",
        "Vr = {'brown': 1}\n",
        "Ti = {'DT', 'JJ', 'NN'}\n",
        "T0i = {'DT', 'JJ', 'NN'}\n",
        "\n",
        "# Call candidate_set_generation function\n",
        "candidate_sentences = candidate_set_generation(xi, pi, pi0, Vr, Ti, T0i, fill_mask)\n",
        "\n",
        "# Print the set of candidate sentences\n",
        "print(candidate_sentences)\n"
      ]
    },
    {
      "cell_type": "markdown",
      "id": "2ab1c051",
      "metadata": {
        "id": "2ab1c051"
      },
      "source": [
        "References\n",
        "\n",
        "https://www.kaggle.com/code/juliusalphonso/filling-in-masked-words-with-roberta"
      ]
    },
    {
      "cell_type": "markdown",
      "id": "799a25a9",
      "metadata": {
        "id": "799a25a9"
      },
      "source": []
    }
  ],
  "metadata": {
    "colab": {
      "provenance": []
    },
    "kernelspec": {
      "display_name": "csci544",
      "language": "python",
      "name": "python3"
    },
    "language_info": {
      "codemirror_mode": {
        "name": "ipython",
        "version": 3
      },
      "file_extension": ".py",
      "mimetype": "text/x-python",
      "name": "python",
      "nbconvert_exporter": "python",
      "pygments_lexer": "ipython3",
      "version": "3.9.16"
    },
    "widgets": {
      "application/vnd.jupyter.widget-state+json": {
        "0b9400bd49964a5cb863d609cabb857a": {
          "model_module": "@jupyter-widgets/controls",
          "model_module_version": "1.5.0",
          "model_name": "DescriptionStyleModel",
          "state": {
            "_model_module": "@jupyter-widgets/controls",
            "_model_module_version": "1.5.0",
            "_model_name": "DescriptionStyleModel",
            "_view_count": null,
            "_view_module": "@jupyter-widgets/base",
            "_view_module_version": "1.2.0",
            "_view_name": "StyleView",
            "description_width": ""
          }
        },
        "0dc2e0da15314957b3e9621a70e5dcd4": {
          "model_module": "@jupyter-widgets/controls",
          "model_module_version": "1.5.0",
          "model_name": "FloatProgressModel",
          "state": {
            "_dom_classes": [],
            "_model_module": "@jupyter-widgets/controls",
            "_model_module_version": "1.5.0",
            "_model_name": "FloatProgressModel",
            "_view_count": null,
            "_view_module": "@jupyter-widgets/controls",
            "_view_module_version": "1.5.0",
            "_view_name": "ProgressView",
            "bar_style": "success",
            "description": "",
            "description_tooltip": null,
            "layout": "IPY_MODEL_9b82f9a4165b4b8bad3e29b4ae1a7ddc",
            "max": 480,
            "min": 0,
            "orientation": "horizontal",
            "style": "IPY_MODEL_4bc3f69069864d87b5440070365a469f",
            "value": 480
          }
        },
        "1e6bace12e0148cca7bf9a939c8e2654": {
          "model_module": "@jupyter-widgets/controls",
          "model_module_version": "1.5.0",
          "model_name": "FloatProgressModel",
          "state": {
            "_dom_classes": [],
            "_model_module": "@jupyter-widgets/controls",
            "_model_module_version": "1.5.0",
            "_model_name": "FloatProgressModel",
            "_view_count": null,
            "_view_module": "@jupyter-widgets/controls",
            "_view_module_version": "1.5.0",
            "_view_name": "ProgressView",
            "bar_style": "success",
            "description": "",
            "description_tooltip": null,
            "layout": "IPY_MODEL_75f33320310945a7b8f62378e19de02a",
            "max": 898823,
            "min": 0,
            "orientation": "horizontal",
            "style": "IPY_MODEL_3ee3726a18df4452b33073596b4daac2",
            "value": 898823
          }
        },
        "24e368f53c8f4b35a8deecadea6a8b5d": {
          "model_module": "@jupyter-widgets/controls",
          "model_module_version": "1.5.0",
          "model_name": "HTMLModel",
          "state": {
            "_dom_classes": [],
            "_model_module": "@jupyter-widgets/controls",
            "_model_module_version": "1.5.0",
            "_model_name": "HTMLModel",
            "_view_count": null,
            "_view_module": "@jupyter-widgets/controls",
            "_view_module_version": "1.5.0",
            "_view_name": "HTMLView",
            "description": "",
            "description_tooltip": null,
            "layout": "IPY_MODEL_45a6a0803f464b4d862f38aaf1bf4c70",
            "placeholder": "​",
            "style": "IPY_MODEL_cc6c2ee01e89480cb0e7204032e21034",
            "value": " 456k/456k [00:00&lt;00:00, 13.0MB/s]"
          }
        },
        "271f07cdf0d9444ab77297f48ae81633": {
          "model_module": "@jupyter-widgets/controls",
          "model_module_version": "1.5.0",
          "model_name": "HTMLModel",
          "state": {
            "_dom_classes": [],
            "_model_module": "@jupyter-widgets/controls",
            "_model_module_version": "1.5.0",
            "_model_name": "HTMLModel",
            "_view_count": null,
            "_view_module": "@jupyter-widgets/controls",
            "_view_module_version": "1.5.0",
            "_view_name": "HTMLView",
            "description": "",
            "description_tooltip": null,
            "layout": "IPY_MODEL_f0f5cf433d3e42e5bf9f3d6205395dfc",
            "placeholder": "​",
            "style": "IPY_MODEL_6a88d2dd0e884140a9f60a7d0aa803f9",
            "value": "Downloading (…)olve/main/merges.txt: 100%"
          }
        },
        "2847c81b840a4d8eb43eb1410f425acb": {
          "model_module": "@jupyter-widgets/base",
          "model_module_version": "1.2.0",
          "model_name": "LayoutModel",
          "state": {
            "_model_module": "@jupyter-widgets/base",
            "_model_module_version": "1.2.0",
            "_model_name": "LayoutModel",
            "_view_count": null,
            "_view_module": "@jupyter-widgets/base",
            "_view_module_version": "1.2.0",
            "_view_name": "LayoutView",
            "align_content": null,
            "align_items": null,
            "align_self": null,
            "border": null,
            "bottom": null,
            "display": null,
            "flex": null,
            "flex_flow": null,
            "grid_area": null,
            "grid_auto_columns": null,
            "grid_auto_flow": null,
            "grid_auto_rows": null,
            "grid_column": null,
            "grid_gap": null,
            "grid_row": null,
            "grid_template_areas": null,
            "grid_template_columns": null,
            "grid_template_rows": null,
            "height": null,
            "justify_content": null,
            "justify_items": null,
            "left": null,
            "margin": null,
            "max_height": null,
            "max_width": null,
            "min_height": null,
            "min_width": null,
            "object_fit": null,
            "object_position": null,
            "order": null,
            "overflow": null,
            "overflow_x": null,
            "overflow_y": null,
            "padding": null,
            "right": null,
            "top": null,
            "visibility": null,
            "width": null
          }
        },
        "30cd3e3351c04e99ae000c5ebc9b097f": {
          "model_module": "@jupyter-widgets/base",
          "model_module_version": "1.2.0",
          "model_name": "LayoutModel",
          "state": {
            "_model_module": "@jupyter-widgets/base",
            "_model_module_version": "1.2.0",
            "_model_name": "LayoutModel",
            "_view_count": null,
            "_view_module": "@jupyter-widgets/base",
            "_view_module_version": "1.2.0",
            "_view_name": "LayoutView",
            "align_content": null,
            "align_items": null,
            "align_self": null,
            "border": null,
            "bottom": null,
            "display": null,
            "flex": null,
            "flex_flow": null,
            "grid_area": null,
            "grid_auto_columns": null,
            "grid_auto_flow": null,
            "grid_auto_rows": null,
            "grid_column": null,
            "grid_gap": null,
            "grid_row": null,
            "grid_template_areas": null,
            "grid_template_columns": null,
            "grid_template_rows": null,
            "height": null,
            "justify_content": null,
            "justify_items": null,
            "left": null,
            "margin": null,
            "max_height": null,
            "max_width": null,
            "min_height": null,
            "min_width": null,
            "object_fit": null,
            "object_position": null,
            "order": null,
            "overflow": null,
            "overflow_x": null,
            "overflow_y": null,
            "padding": null,
            "right": null,
            "top": null,
            "visibility": null,
            "width": null
          }
        },
        "335293a312de43efa976599e3280d0d6": {
          "model_module": "@jupyter-widgets/base",
          "model_module_version": "1.2.0",
          "model_name": "LayoutModel",
          "state": {
            "_model_module": "@jupyter-widgets/base",
            "_model_module_version": "1.2.0",
            "_model_name": "LayoutModel",
            "_view_count": null,
            "_view_module": "@jupyter-widgets/base",
            "_view_module_version": "1.2.0",
            "_view_name": "LayoutView",
            "align_content": null,
            "align_items": null,
            "align_self": null,
            "border": null,
            "bottom": null,
            "display": null,
            "flex": null,
            "flex_flow": null,
            "grid_area": null,
            "grid_auto_columns": null,
            "grid_auto_flow": null,
            "grid_auto_rows": null,
            "grid_column": null,
            "grid_gap": null,
            "grid_row": null,
            "grid_template_areas": null,
            "grid_template_columns": null,
            "grid_template_rows": null,
            "height": null,
            "justify_content": null,
            "justify_items": null,
            "left": null,
            "margin": null,
            "max_height": null,
            "max_width": null,
            "min_height": null,
            "min_width": null,
            "object_fit": null,
            "object_position": null,
            "order": null,
            "overflow": null,
            "overflow_x": null,
            "overflow_y": null,
            "padding": null,
            "right": null,
            "top": null,
            "visibility": null,
            "width": null
          }
        },
        "35078d584dcf4bfd9a7ad2b93001a609": {
          "model_module": "@jupyter-widgets/controls",
          "model_module_version": "1.5.0",
          "model_name": "HBoxModel",
          "state": {
            "_dom_classes": [],
            "_model_module": "@jupyter-widgets/controls",
            "_model_module_version": "1.5.0",
            "_model_name": "HBoxModel",
            "_view_count": null,
            "_view_module": "@jupyter-widgets/controls",
            "_view_module_version": "1.5.0",
            "_view_name": "HBoxView",
            "box_style": "",
            "children": [
              "IPY_MODEL_9d88a4635420470899a34a11f588be2b",
              "IPY_MODEL_0dc2e0da15314957b3e9621a70e5dcd4",
              "IPY_MODEL_c04e569293454d52bcb70a10d5f5a244"
            ],
            "layout": "IPY_MODEL_46a840d2a37140d28a3d08f2725f00b3"
          }
        },
        "3c874a932da445c1b3210206f7d58c1e": {
          "model_module": "@jupyter-widgets/base",
          "model_module_version": "1.2.0",
          "model_name": "LayoutModel",
          "state": {
            "_model_module": "@jupyter-widgets/base",
            "_model_module_version": "1.2.0",
            "_model_name": "LayoutModel",
            "_view_count": null,
            "_view_module": "@jupyter-widgets/base",
            "_view_module_version": "1.2.0",
            "_view_name": "LayoutView",
            "align_content": null,
            "align_items": null,
            "align_self": null,
            "border": null,
            "bottom": null,
            "display": null,
            "flex": null,
            "flex_flow": null,
            "grid_area": null,
            "grid_auto_columns": null,
            "grid_auto_flow": null,
            "grid_auto_rows": null,
            "grid_column": null,
            "grid_gap": null,
            "grid_row": null,
            "grid_template_areas": null,
            "grid_template_columns": null,
            "grid_template_rows": null,
            "height": null,
            "justify_content": null,
            "justify_items": null,
            "left": null,
            "margin": null,
            "max_height": null,
            "max_width": null,
            "min_height": null,
            "min_width": null,
            "object_fit": null,
            "object_position": null,
            "order": null,
            "overflow": null,
            "overflow_x": null,
            "overflow_y": null,
            "padding": null,
            "right": null,
            "top": null,
            "visibility": null,
            "width": null
          }
        },
        "3ee3726a18df4452b33073596b4daac2": {
          "model_module": "@jupyter-widgets/controls",
          "model_module_version": "1.5.0",
          "model_name": "ProgressStyleModel",
          "state": {
            "_model_module": "@jupyter-widgets/controls",
            "_model_module_version": "1.5.0",
            "_model_name": "ProgressStyleModel",
            "_view_count": null,
            "_view_module": "@jupyter-widgets/base",
            "_view_module_version": "1.2.0",
            "_view_name": "StyleView",
            "bar_color": null,
            "description_width": ""
          }
        },
        "45a6a0803f464b4d862f38aaf1bf4c70": {
          "model_module": "@jupyter-widgets/base",
          "model_module_version": "1.2.0",
          "model_name": "LayoutModel",
          "state": {
            "_model_module": "@jupyter-widgets/base",
            "_model_module_version": "1.2.0",
            "_model_name": "LayoutModel",
            "_view_count": null,
            "_view_module": "@jupyter-widgets/base",
            "_view_module_version": "1.2.0",
            "_view_name": "LayoutView",
            "align_content": null,
            "align_items": null,
            "align_self": null,
            "border": null,
            "bottom": null,
            "display": null,
            "flex": null,
            "flex_flow": null,
            "grid_area": null,
            "grid_auto_columns": null,
            "grid_auto_flow": null,
            "grid_auto_rows": null,
            "grid_column": null,
            "grid_gap": null,
            "grid_row": null,
            "grid_template_areas": null,
            "grid_template_columns": null,
            "grid_template_rows": null,
            "height": null,
            "justify_content": null,
            "justify_items": null,
            "left": null,
            "margin": null,
            "max_height": null,
            "max_width": null,
            "min_height": null,
            "min_width": null,
            "object_fit": null,
            "object_position": null,
            "order": null,
            "overflow": null,
            "overflow_x": null,
            "overflow_y": null,
            "padding": null,
            "right": null,
            "top": null,
            "visibility": null,
            "width": null
          }
        },
        "45ecb65993a0440b94e740ea818a8b8d": {
          "model_module": "@jupyter-widgets/controls",
          "model_module_version": "1.5.0",
          "model_name": "HBoxModel",
          "state": {
            "_dom_classes": [],
            "_model_module": "@jupyter-widgets/controls",
            "_model_module_version": "1.5.0",
            "_model_name": "HBoxModel",
            "_view_count": null,
            "_view_module": "@jupyter-widgets/controls",
            "_view_module_version": "1.5.0",
            "_view_name": "HBoxView",
            "box_style": "",
            "children": [
              "IPY_MODEL_7fcbb21e2d2641b390a320d5e8b5f246",
              "IPY_MODEL_1e6bace12e0148cca7bf9a939c8e2654",
              "IPY_MODEL_ba4e65b79bcb40a68806e0d408a6dc4d"
            ],
            "layout": "IPY_MODEL_62270d216085440f85b20eba834f937d"
          }
        },
        "46a840d2a37140d28a3d08f2725f00b3": {
          "model_module": "@jupyter-widgets/base",
          "model_module_version": "1.2.0",
          "model_name": "LayoutModel",
          "state": {
            "_model_module": "@jupyter-widgets/base",
            "_model_module_version": "1.2.0",
            "_model_name": "LayoutModel",
            "_view_count": null,
            "_view_module": "@jupyter-widgets/base",
            "_view_module_version": "1.2.0",
            "_view_name": "LayoutView",
            "align_content": null,
            "align_items": null,
            "align_self": null,
            "border": null,
            "bottom": null,
            "display": null,
            "flex": null,
            "flex_flow": null,
            "grid_area": null,
            "grid_auto_columns": null,
            "grid_auto_flow": null,
            "grid_auto_rows": null,
            "grid_column": null,
            "grid_gap": null,
            "grid_row": null,
            "grid_template_areas": null,
            "grid_template_columns": null,
            "grid_template_rows": null,
            "height": null,
            "justify_content": null,
            "justify_items": null,
            "left": null,
            "margin": null,
            "max_height": null,
            "max_width": null,
            "min_height": null,
            "min_width": null,
            "object_fit": null,
            "object_position": null,
            "order": null,
            "overflow": null,
            "overflow_x": null,
            "overflow_y": null,
            "padding": null,
            "right": null,
            "top": null,
            "visibility": null,
            "width": null
          }
        },
        "4a92fa802ac7406abeca0477bb9db747": {
          "model_module": "@jupyter-widgets/controls",
          "model_module_version": "1.5.0",
          "model_name": "DescriptionStyleModel",
          "state": {
            "_model_module": "@jupyter-widgets/controls",
            "_model_module_version": "1.5.0",
            "_model_name": "DescriptionStyleModel",
            "_view_count": null,
            "_view_module": "@jupyter-widgets/base",
            "_view_module_version": "1.2.0",
            "_view_name": "StyleView",
            "description_width": ""
          }
        },
        "4bc3f69069864d87b5440070365a469f": {
          "model_module": "@jupyter-widgets/controls",
          "model_module_version": "1.5.0",
          "model_name": "ProgressStyleModel",
          "state": {
            "_model_module": "@jupyter-widgets/controls",
            "_model_module_version": "1.5.0",
            "_model_name": "ProgressStyleModel",
            "_view_count": null,
            "_view_module": "@jupyter-widgets/base",
            "_view_module_version": "1.2.0",
            "_view_name": "StyleView",
            "bar_color": null,
            "description_width": ""
          }
        },
        "4f915ab171024cd0aef9718b62567d77": {
          "model_module": "@jupyter-widgets/controls",
          "model_module_version": "1.5.0",
          "model_name": "ProgressStyleModel",
          "state": {
            "_model_module": "@jupyter-widgets/controls",
            "_model_module_version": "1.5.0",
            "_model_name": "ProgressStyleModel",
            "_view_count": null,
            "_view_module": "@jupyter-widgets/base",
            "_view_module_version": "1.2.0",
            "_view_name": "StyleView",
            "bar_color": null,
            "description_width": ""
          }
        },
        "4fafb1a4cb764fa3b4b836fbeca4e09f": {
          "model_module": "@jupyter-widgets/controls",
          "model_module_version": "1.5.0",
          "model_name": "DescriptionStyleModel",
          "state": {
            "_model_module": "@jupyter-widgets/controls",
            "_model_module_version": "1.5.0",
            "_model_name": "DescriptionStyleModel",
            "_view_count": null,
            "_view_module": "@jupyter-widgets/base",
            "_view_module_version": "1.2.0",
            "_view_name": "StyleView",
            "description_width": ""
          }
        },
        "62270d216085440f85b20eba834f937d": {
          "model_module": "@jupyter-widgets/base",
          "model_module_version": "1.2.0",
          "model_name": "LayoutModel",
          "state": {
            "_model_module": "@jupyter-widgets/base",
            "_model_module_version": "1.2.0",
            "_model_name": "LayoutModel",
            "_view_count": null,
            "_view_module": "@jupyter-widgets/base",
            "_view_module_version": "1.2.0",
            "_view_name": "LayoutView",
            "align_content": null,
            "align_items": null,
            "align_self": null,
            "border": null,
            "bottom": null,
            "display": null,
            "flex": null,
            "flex_flow": null,
            "grid_area": null,
            "grid_auto_columns": null,
            "grid_auto_flow": null,
            "grid_auto_rows": null,
            "grid_column": null,
            "grid_gap": null,
            "grid_row": null,
            "grid_template_areas": null,
            "grid_template_columns": null,
            "grid_template_rows": null,
            "height": null,
            "justify_content": null,
            "justify_items": null,
            "left": null,
            "margin": null,
            "max_height": null,
            "max_width": null,
            "min_height": null,
            "min_width": null,
            "object_fit": null,
            "object_position": null,
            "order": null,
            "overflow": null,
            "overflow_x": null,
            "overflow_y": null,
            "padding": null,
            "right": null,
            "top": null,
            "visibility": null,
            "width": null
          }
        },
        "6958f431680b49e88b05a62a6f22d565": {
          "model_module": "@jupyter-widgets/controls",
          "model_module_version": "1.5.0",
          "model_name": "DescriptionStyleModel",
          "state": {
            "_model_module": "@jupyter-widgets/controls",
            "_model_module_version": "1.5.0",
            "_model_name": "DescriptionStyleModel",
            "_view_count": null,
            "_view_module": "@jupyter-widgets/base",
            "_view_module_version": "1.2.0",
            "_view_name": "StyleView",
            "description_width": ""
          }
        },
        "6a16fdaf889644358506c4d6978ea585": {
          "model_module": "@jupyter-widgets/controls",
          "model_module_version": "1.5.0",
          "model_name": "HTMLModel",
          "state": {
            "_dom_classes": [],
            "_model_module": "@jupyter-widgets/controls",
            "_model_module_version": "1.5.0",
            "_model_name": "HTMLModel",
            "_view_count": null,
            "_view_module": "@jupyter-widgets/controls",
            "_view_module_version": "1.5.0",
            "_view_name": "HTMLView",
            "description": "",
            "description_tooltip": null,
            "layout": "IPY_MODEL_30cd3e3351c04e99ae000c5ebc9b097f",
            "placeholder": "​",
            "style": "IPY_MODEL_4fafb1a4cb764fa3b4b836fbeca4e09f",
            "value": " 331M/331M [00:01&lt;00:00, 262MB/s]"
          }
        },
        "6a88d2dd0e884140a9f60a7d0aa803f9": {
          "model_module": "@jupyter-widgets/controls",
          "model_module_version": "1.5.0",
          "model_name": "DescriptionStyleModel",
          "state": {
            "_model_module": "@jupyter-widgets/controls",
            "_model_module_version": "1.5.0",
            "_model_name": "DescriptionStyleModel",
            "_view_count": null,
            "_view_module": "@jupyter-widgets/base",
            "_view_module_version": "1.2.0",
            "_view_name": "StyleView",
            "description_width": ""
          }
        },
        "6f1c7530456b420a87620c71199c0bb5": {
          "model_module": "@jupyter-widgets/base",
          "model_module_version": "1.2.0",
          "model_name": "LayoutModel",
          "state": {
            "_model_module": "@jupyter-widgets/base",
            "_model_module_version": "1.2.0",
            "_model_name": "LayoutModel",
            "_view_count": null,
            "_view_module": "@jupyter-widgets/base",
            "_view_module_version": "1.2.0",
            "_view_name": "LayoutView",
            "align_content": null,
            "align_items": null,
            "align_self": null,
            "border": null,
            "bottom": null,
            "display": null,
            "flex": null,
            "flex_flow": null,
            "grid_area": null,
            "grid_auto_columns": null,
            "grid_auto_flow": null,
            "grid_auto_rows": null,
            "grid_column": null,
            "grid_gap": null,
            "grid_row": null,
            "grid_template_areas": null,
            "grid_template_columns": null,
            "grid_template_rows": null,
            "height": null,
            "justify_content": null,
            "justify_items": null,
            "left": null,
            "margin": null,
            "max_height": null,
            "max_width": null,
            "min_height": null,
            "min_width": null,
            "object_fit": null,
            "object_position": null,
            "order": null,
            "overflow": null,
            "overflow_x": null,
            "overflow_y": null,
            "padding": null,
            "right": null,
            "top": null,
            "visibility": null,
            "width": null
          }
        },
        "7323e6c7a22a4008a0d27d1e84d0fde3": {
          "model_module": "@jupyter-widgets/controls",
          "model_module_version": "1.5.0",
          "model_name": "DescriptionStyleModel",
          "state": {
            "_model_module": "@jupyter-widgets/controls",
            "_model_module_version": "1.5.0",
            "_model_name": "DescriptionStyleModel",
            "_view_count": null,
            "_view_module": "@jupyter-widgets/base",
            "_view_module_version": "1.2.0",
            "_view_name": "StyleView",
            "description_width": ""
          }
        },
        "75f33320310945a7b8f62378e19de02a": {
          "model_module": "@jupyter-widgets/base",
          "model_module_version": "1.2.0",
          "model_name": "LayoutModel",
          "state": {
            "_model_module": "@jupyter-widgets/base",
            "_model_module_version": "1.2.0",
            "_model_name": "LayoutModel",
            "_view_count": null,
            "_view_module": "@jupyter-widgets/base",
            "_view_module_version": "1.2.0",
            "_view_name": "LayoutView",
            "align_content": null,
            "align_items": null,
            "align_self": null,
            "border": null,
            "bottom": null,
            "display": null,
            "flex": null,
            "flex_flow": null,
            "grid_area": null,
            "grid_auto_columns": null,
            "grid_auto_flow": null,
            "grid_auto_rows": null,
            "grid_column": null,
            "grid_gap": null,
            "grid_row": null,
            "grid_template_areas": null,
            "grid_template_columns": null,
            "grid_template_rows": null,
            "height": null,
            "justify_content": null,
            "justify_items": null,
            "left": null,
            "margin": null,
            "max_height": null,
            "max_width": null,
            "min_height": null,
            "min_width": null,
            "object_fit": null,
            "object_position": null,
            "order": null,
            "overflow": null,
            "overflow_x": null,
            "overflow_y": null,
            "padding": null,
            "right": null,
            "top": null,
            "visibility": null,
            "width": null
          }
        },
        "7fcbb21e2d2641b390a320d5e8b5f246": {
          "model_module": "@jupyter-widgets/controls",
          "model_module_version": "1.5.0",
          "model_name": "HTMLModel",
          "state": {
            "_dom_classes": [],
            "_model_module": "@jupyter-widgets/controls",
            "_model_module_version": "1.5.0",
            "_model_name": "HTMLModel",
            "_view_count": null,
            "_view_module": "@jupyter-widgets/controls",
            "_view_module_version": "1.5.0",
            "_view_name": "HTMLView",
            "description": "",
            "description_tooltip": null,
            "layout": "IPY_MODEL_ce365e56effe4fc482dc61a89e3cd239",
            "placeholder": "​",
            "style": "IPY_MODEL_af2f6a57e3134e948d344b9b234b8408",
            "value": "Downloading (…)olve/main/vocab.json: 100%"
          }
        },
        "830f609e63b7410a9afb6c9a7e003f3a": {
          "model_module": "@jupyter-widgets/controls",
          "model_module_version": "1.5.0",
          "model_name": "HBoxModel",
          "state": {
            "_dom_classes": [],
            "_model_module": "@jupyter-widgets/controls",
            "_model_module_version": "1.5.0",
            "_model_name": "HBoxModel",
            "_view_count": null,
            "_view_module": "@jupyter-widgets/controls",
            "_view_module_version": "1.5.0",
            "_view_name": "HBoxView",
            "box_style": "",
            "children": [
              "IPY_MODEL_271f07cdf0d9444ab77297f48ae81633",
              "IPY_MODEL_ace0f7d6bfa34b9ca675c486001a3a99",
              "IPY_MODEL_24e368f53c8f4b35a8deecadea6a8b5d"
            ],
            "layout": "IPY_MODEL_6f1c7530456b420a87620c71199c0bb5"
          }
        },
        "95cb3949115746d7900ba8e27e3454e1": {
          "model_module": "@jupyter-widgets/base",
          "model_module_version": "1.2.0",
          "model_name": "LayoutModel",
          "state": {
            "_model_module": "@jupyter-widgets/base",
            "_model_module_version": "1.2.0",
            "_model_name": "LayoutModel",
            "_view_count": null,
            "_view_module": "@jupyter-widgets/base",
            "_view_module_version": "1.2.0",
            "_view_name": "LayoutView",
            "align_content": null,
            "align_items": null,
            "align_self": null,
            "border": null,
            "bottom": null,
            "display": null,
            "flex": null,
            "flex_flow": null,
            "grid_area": null,
            "grid_auto_columns": null,
            "grid_auto_flow": null,
            "grid_auto_rows": null,
            "grid_column": null,
            "grid_gap": null,
            "grid_row": null,
            "grid_template_areas": null,
            "grid_template_columns": null,
            "grid_template_rows": null,
            "height": null,
            "justify_content": null,
            "justify_items": null,
            "left": null,
            "margin": null,
            "max_height": null,
            "max_width": null,
            "min_height": null,
            "min_width": null,
            "object_fit": null,
            "object_position": null,
            "order": null,
            "overflow": null,
            "overflow_x": null,
            "overflow_y": null,
            "padding": null,
            "right": null,
            "top": null,
            "visibility": null,
            "width": null
          }
        },
        "9b82f9a4165b4b8bad3e29b4ae1a7ddc": {
          "model_module": "@jupyter-widgets/base",
          "model_module_version": "1.2.0",
          "model_name": "LayoutModel",
          "state": {
            "_model_module": "@jupyter-widgets/base",
            "_model_module_version": "1.2.0",
            "_model_name": "LayoutModel",
            "_view_count": null,
            "_view_module": "@jupyter-widgets/base",
            "_view_module_version": "1.2.0",
            "_view_name": "LayoutView",
            "align_content": null,
            "align_items": null,
            "align_self": null,
            "border": null,
            "bottom": null,
            "display": null,
            "flex": null,
            "flex_flow": null,
            "grid_area": null,
            "grid_auto_columns": null,
            "grid_auto_flow": null,
            "grid_auto_rows": null,
            "grid_column": null,
            "grid_gap": null,
            "grid_row": null,
            "grid_template_areas": null,
            "grid_template_columns": null,
            "grid_template_rows": null,
            "height": null,
            "justify_content": null,
            "justify_items": null,
            "left": null,
            "margin": null,
            "max_height": null,
            "max_width": null,
            "min_height": null,
            "min_width": null,
            "object_fit": null,
            "object_position": null,
            "order": null,
            "overflow": null,
            "overflow_x": null,
            "overflow_y": null,
            "padding": null,
            "right": null,
            "top": null,
            "visibility": null,
            "width": null
          }
        },
        "9d88a4635420470899a34a11f588be2b": {
          "model_module": "@jupyter-widgets/controls",
          "model_module_version": "1.5.0",
          "model_name": "HTMLModel",
          "state": {
            "_dom_classes": [],
            "_model_module": "@jupyter-widgets/controls",
            "_model_module_version": "1.5.0",
            "_model_name": "HTMLModel",
            "_view_count": null,
            "_view_module": "@jupyter-widgets/controls",
            "_view_module_version": "1.5.0",
            "_view_name": "HTMLView",
            "description": "",
            "description_tooltip": null,
            "layout": "IPY_MODEL_facd13ef8e7845f09b47257cde73141f",
            "placeholder": "​",
            "style": "IPY_MODEL_0b9400bd49964a5cb863d609cabb857a",
            "value": "Downloading (…)lve/main/config.json: 100%"
          }
        },
        "ace0f7d6bfa34b9ca675c486001a3a99": {
          "model_module": "@jupyter-widgets/controls",
          "model_module_version": "1.5.0",
          "model_name": "FloatProgressModel",
          "state": {
            "_dom_classes": [],
            "_model_module": "@jupyter-widgets/controls",
            "_model_module_version": "1.5.0",
            "_model_name": "FloatProgressModel",
            "_view_count": null,
            "_view_module": "@jupyter-widgets/controls",
            "_view_module_version": "1.5.0",
            "_view_name": "ProgressView",
            "bar_style": "success",
            "description": "",
            "description_tooltip": null,
            "layout": "IPY_MODEL_e501ed2a3cd24fd991669dfbbbe5dedc",
            "max": 456318,
            "min": 0,
            "orientation": "horizontal",
            "style": "IPY_MODEL_e75877d52a024880b73bfcdbb28d6df6",
            "value": 456318
          }
        },
        "af2f6a57e3134e948d344b9b234b8408": {
          "model_module": "@jupyter-widgets/controls",
          "model_module_version": "1.5.0",
          "model_name": "DescriptionStyleModel",
          "state": {
            "_model_module": "@jupyter-widgets/controls",
            "_model_module_version": "1.5.0",
            "_model_name": "DescriptionStyleModel",
            "_view_count": null,
            "_view_module": "@jupyter-widgets/base",
            "_view_module_version": "1.2.0",
            "_view_name": "StyleView",
            "description_width": ""
          }
        },
        "ba4e65b79bcb40a68806e0d408a6dc4d": {
          "model_module": "@jupyter-widgets/controls",
          "model_module_version": "1.5.0",
          "model_name": "HTMLModel",
          "state": {
            "_dom_classes": [],
            "_model_module": "@jupyter-widgets/controls",
            "_model_module_version": "1.5.0",
            "_model_name": "HTMLModel",
            "_view_count": null,
            "_view_module": "@jupyter-widgets/controls",
            "_view_module_version": "1.5.0",
            "_view_name": "HTMLView",
            "description": "",
            "description_tooltip": null,
            "layout": "IPY_MODEL_2847c81b840a4d8eb43eb1410f425acb",
            "placeholder": "​",
            "style": "IPY_MODEL_7323e6c7a22a4008a0d27d1e84d0fde3",
            "value": " 899k/899k [00:00&lt;00:00, 11.3MB/s]"
          }
        },
        "bc94eca1ef474dd4a50a362ae8706cfc": {
          "model_module": "@jupyter-widgets/base",
          "model_module_version": "1.2.0",
          "model_name": "LayoutModel",
          "state": {
            "_model_module": "@jupyter-widgets/base",
            "_model_module_version": "1.2.0",
            "_model_name": "LayoutModel",
            "_view_count": null,
            "_view_module": "@jupyter-widgets/base",
            "_view_module_version": "1.2.0",
            "_view_name": "LayoutView",
            "align_content": null,
            "align_items": null,
            "align_self": null,
            "border": null,
            "bottom": null,
            "display": null,
            "flex": null,
            "flex_flow": null,
            "grid_area": null,
            "grid_auto_columns": null,
            "grid_auto_flow": null,
            "grid_auto_rows": null,
            "grid_column": null,
            "grid_gap": null,
            "grid_row": null,
            "grid_template_areas": null,
            "grid_template_columns": null,
            "grid_template_rows": null,
            "height": null,
            "justify_content": null,
            "justify_items": null,
            "left": null,
            "margin": null,
            "max_height": null,
            "max_width": null,
            "min_height": null,
            "min_width": null,
            "object_fit": null,
            "object_position": null,
            "order": null,
            "overflow": null,
            "overflow_x": null,
            "overflow_y": null,
            "padding": null,
            "right": null,
            "top": null,
            "visibility": null,
            "width": null
          }
        },
        "c04e569293454d52bcb70a10d5f5a244": {
          "model_module": "@jupyter-widgets/controls",
          "model_module_version": "1.5.0",
          "model_name": "HTMLModel",
          "state": {
            "_dom_classes": [],
            "_model_module": "@jupyter-widgets/controls",
            "_model_module_version": "1.5.0",
            "_model_name": "HTMLModel",
            "_view_count": null,
            "_view_module": "@jupyter-widgets/controls",
            "_view_module_version": "1.5.0",
            "_view_name": "HTMLView",
            "description": "",
            "description_tooltip": null,
            "layout": "IPY_MODEL_3c874a932da445c1b3210206f7d58c1e",
            "placeholder": "​",
            "style": "IPY_MODEL_4a92fa802ac7406abeca0477bb9db747",
            "value": " 480/480 [00:00&lt;00:00, 19.1kB/s]"
          }
        },
        "c557181b86a04bbfaee379018e1ac2d5": {
          "model_module": "@jupyter-widgets/controls",
          "model_module_version": "1.5.0",
          "model_name": "FloatProgressModel",
          "state": {
            "_dom_classes": [],
            "_model_module": "@jupyter-widgets/controls",
            "_model_module_version": "1.5.0",
            "_model_name": "FloatProgressModel",
            "_view_count": null,
            "_view_module": "@jupyter-widgets/controls",
            "_view_module_version": "1.5.0",
            "_view_name": "ProgressView",
            "bar_style": "success",
            "description": "",
            "description_tooltip": null,
            "layout": "IPY_MODEL_bc94eca1ef474dd4a50a362ae8706cfc",
            "max": 331070498,
            "min": 0,
            "orientation": "horizontal",
            "style": "IPY_MODEL_4f915ab171024cd0aef9718b62567d77",
            "value": 331070498
          }
        },
        "ca54b6a7dd054b08a232a6b61a012626": {
          "model_module": "@jupyter-widgets/controls",
          "model_module_version": "1.5.0",
          "model_name": "HTMLModel",
          "state": {
            "_dom_classes": [],
            "_model_module": "@jupyter-widgets/controls",
            "_model_module_version": "1.5.0",
            "_model_name": "HTMLModel",
            "_view_count": null,
            "_view_module": "@jupyter-widgets/controls",
            "_view_module_version": "1.5.0",
            "_view_name": "HTMLView",
            "description": "",
            "description_tooltip": null,
            "layout": "IPY_MODEL_335293a312de43efa976599e3280d0d6",
            "placeholder": "​",
            "style": "IPY_MODEL_6958f431680b49e88b05a62a6f22d565",
            "value": "Downloading pytorch_model.bin: 100%"
          }
        },
        "cc6c2ee01e89480cb0e7204032e21034": {
          "model_module": "@jupyter-widgets/controls",
          "model_module_version": "1.5.0",
          "model_name": "DescriptionStyleModel",
          "state": {
            "_model_module": "@jupyter-widgets/controls",
            "_model_module_version": "1.5.0",
            "_model_name": "DescriptionStyleModel",
            "_view_count": null,
            "_view_module": "@jupyter-widgets/base",
            "_view_module_version": "1.2.0",
            "_view_name": "StyleView",
            "description_width": ""
          }
        },
        "ce365e56effe4fc482dc61a89e3cd239": {
          "model_module": "@jupyter-widgets/base",
          "model_module_version": "1.2.0",
          "model_name": "LayoutModel",
          "state": {
            "_model_module": "@jupyter-widgets/base",
            "_model_module_version": "1.2.0",
            "_model_name": "LayoutModel",
            "_view_count": null,
            "_view_module": "@jupyter-widgets/base",
            "_view_module_version": "1.2.0",
            "_view_name": "LayoutView",
            "align_content": null,
            "align_items": null,
            "align_self": null,
            "border": null,
            "bottom": null,
            "display": null,
            "flex": null,
            "flex_flow": null,
            "grid_area": null,
            "grid_auto_columns": null,
            "grid_auto_flow": null,
            "grid_auto_rows": null,
            "grid_column": null,
            "grid_gap": null,
            "grid_row": null,
            "grid_template_areas": null,
            "grid_template_columns": null,
            "grid_template_rows": null,
            "height": null,
            "justify_content": null,
            "justify_items": null,
            "left": null,
            "margin": null,
            "max_height": null,
            "max_width": null,
            "min_height": null,
            "min_width": null,
            "object_fit": null,
            "object_position": null,
            "order": null,
            "overflow": null,
            "overflow_x": null,
            "overflow_y": null,
            "padding": null,
            "right": null,
            "top": null,
            "visibility": null,
            "width": null
          }
        },
        "d3345321fa694e6fb9d643272e700d8d": {
          "model_module": "@jupyter-widgets/controls",
          "model_module_version": "1.5.0",
          "model_name": "HBoxModel",
          "state": {
            "_dom_classes": [],
            "_model_module": "@jupyter-widgets/controls",
            "_model_module_version": "1.5.0",
            "_model_name": "HBoxModel",
            "_view_count": null,
            "_view_module": "@jupyter-widgets/controls",
            "_view_module_version": "1.5.0",
            "_view_name": "HBoxView",
            "box_style": "",
            "children": [
              "IPY_MODEL_ca54b6a7dd054b08a232a6b61a012626",
              "IPY_MODEL_c557181b86a04bbfaee379018e1ac2d5",
              "IPY_MODEL_6a16fdaf889644358506c4d6978ea585"
            ],
            "layout": "IPY_MODEL_95cb3949115746d7900ba8e27e3454e1"
          }
        },
        "e501ed2a3cd24fd991669dfbbbe5dedc": {
          "model_module": "@jupyter-widgets/base",
          "model_module_version": "1.2.0",
          "model_name": "LayoutModel",
          "state": {
            "_model_module": "@jupyter-widgets/base",
            "_model_module_version": "1.2.0",
            "_model_name": "LayoutModel",
            "_view_count": null,
            "_view_module": "@jupyter-widgets/base",
            "_view_module_version": "1.2.0",
            "_view_name": "LayoutView",
            "align_content": null,
            "align_items": null,
            "align_self": null,
            "border": null,
            "bottom": null,
            "display": null,
            "flex": null,
            "flex_flow": null,
            "grid_area": null,
            "grid_auto_columns": null,
            "grid_auto_flow": null,
            "grid_auto_rows": null,
            "grid_column": null,
            "grid_gap": null,
            "grid_row": null,
            "grid_template_areas": null,
            "grid_template_columns": null,
            "grid_template_rows": null,
            "height": null,
            "justify_content": null,
            "justify_items": null,
            "left": null,
            "margin": null,
            "max_height": null,
            "max_width": null,
            "min_height": null,
            "min_width": null,
            "object_fit": null,
            "object_position": null,
            "order": null,
            "overflow": null,
            "overflow_x": null,
            "overflow_y": null,
            "padding": null,
            "right": null,
            "top": null,
            "visibility": null,
            "width": null
          }
        },
        "e75877d52a024880b73bfcdbb28d6df6": {
          "model_module": "@jupyter-widgets/controls",
          "model_module_version": "1.5.0",
          "model_name": "ProgressStyleModel",
          "state": {
            "_model_module": "@jupyter-widgets/controls",
            "_model_module_version": "1.5.0",
            "_model_name": "ProgressStyleModel",
            "_view_count": null,
            "_view_module": "@jupyter-widgets/base",
            "_view_module_version": "1.2.0",
            "_view_name": "StyleView",
            "bar_color": null,
            "description_width": ""
          }
        },
        "f0f5cf433d3e42e5bf9f3d6205395dfc": {
          "model_module": "@jupyter-widgets/base",
          "model_module_version": "1.2.0",
          "model_name": "LayoutModel",
          "state": {
            "_model_module": "@jupyter-widgets/base",
            "_model_module_version": "1.2.0",
            "_model_name": "LayoutModel",
            "_view_count": null,
            "_view_module": "@jupyter-widgets/base",
            "_view_module_version": "1.2.0",
            "_view_name": "LayoutView",
            "align_content": null,
            "align_items": null,
            "align_self": null,
            "border": null,
            "bottom": null,
            "display": null,
            "flex": null,
            "flex_flow": null,
            "grid_area": null,
            "grid_auto_columns": null,
            "grid_auto_flow": null,
            "grid_auto_rows": null,
            "grid_column": null,
            "grid_gap": null,
            "grid_row": null,
            "grid_template_areas": null,
            "grid_template_columns": null,
            "grid_template_rows": null,
            "height": null,
            "justify_content": null,
            "justify_items": null,
            "left": null,
            "margin": null,
            "max_height": null,
            "max_width": null,
            "min_height": null,
            "min_width": null,
            "object_fit": null,
            "object_position": null,
            "order": null,
            "overflow": null,
            "overflow_x": null,
            "overflow_y": null,
            "padding": null,
            "right": null,
            "top": null,
            "visibility": null,
            "width": null
          }
        },
        "facd13ef8e7845f09b47257cde73141f": {
          "model_module": "@jupyter-widgets/base",
          "model_module_version": "1.2.0",
          "model_name": "LayoutModel",
          "state": {
            "_model_module": "@jupyter-widgets/base",
            "_model_module_version": "1.2.0",
            "_model_name": "LayoutModel",
            "_view_count": null,
            "_view_module": "@jupyter-widgets/base",
            "_view_module_version": "1.2.0",
            "_view_name": "LayoutView",
            "align_content": null,
            "align_items": null,
            "align_self": null,
            "border": null,
            "bottom": null,
            "display": null,
            "flex": null,
            "flex_flow": null,
            "grid_area": null,
            "grid_auto_columns": null,
            "grid_auto_flow": null,
            "grid_auto_rows": null,
            "grid_column": null,
            "grid_gap": null,
            "grid_row": null,
            "grid_template_areas": null,
            "grid_template_columns": null,
            "grid_template_rows": null,
            "height": null,
            "justify_content": null,
            "justify_items": null,
            "left": null,
            "margin": null,
            "max_height": null,
            "max_width": null,
            "min_height": null,
            "min_width": null,
            "object_fit": null,
            "object_position": null,
            "order": null,
            "overflow": null,
            "overflow_x": null,
            "overflow_y": null,
            "padding": null,
            "right": null,
            "top": null,
            "visibility": null,
            "width": null
          }
        }
      }
    }
  },
  "nbformat": 4,
  "nbformat_minor": 5
}
