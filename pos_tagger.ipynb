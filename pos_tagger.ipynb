{
 "cells": [
  {
   "attachments": {},
   "cell_type": "markdown",
   "metadata": {},
   "source": [
    "Installing libraries"
   ]
  },
  {
   "cell_type": "code",
   "execution_count": 1,
   "metadata": {},
   "outputs": [
    {
     "name": "stderr",
     "output_type": "stream",
     "text": [
      "c:\\Users\\krish\\anaconda3\\envs\\ee641_project\\lib\\site-packages\\tqdm\\auto.py:21: TqdmWarning: IProgress not found. Please update jupyter and ipywidgets. See https://ipywidgets.readthedocs.io/en/stable/user_install.html\n",
      "  from .autonotebook import tqdm as notebook_tqdm\n"
     ]
    }
   ],
   "source": [
    "import stanza\n",
    "import numpy as np\n",
    "import pandas as pd"
   ]
  },
  {
   "attachments": {},
   "cell_type": "markdown",
   "metadata": {},
   "source": [
    "Importing bad words vocab and dataset"
   ]
  },
  {
   "cell_type": "code",
   "execution_count": 3,
   "metadata": {},
   "outputs": [],
   "source": [
    "bad_words=[]\n",
    "with open('./data/bad-words.csv') as f:\n",
    "    for line in f.readlines():\n",
    "        bad_words.append(line.split('\\n')[0])\n",
    "\n",
    "bad_words_set = set(bad_words)\n",
    "dataset = pd.read_csv('news_comments.csv')"
   ]
  },
  {
   "cell_type": "markdown",
   "metadata": {},
   "source": [
    "Importing Stanza POS tagger"
   ]
  },
  {
   "cell_type": "code",
   "execution_count": 9,
   "metadata": {},
   "outputs": [
    {
     "name": "stderr",
     "output_type": "stream",
     "text": [
      "2023-03-15 13:31:58 INFO: Checking for updates to resources.json in case models have been updated.  Note: this behavior can be turned off with download_method=None or download_method=DownloadMethod.REUSE_RESOURCES\n",
      "Downloading https://raw.githubusercontent.com/stanfordnlp/stanza-resources/main/resources_1.5.0.json: 200kB [00:00, 66.7MB/s]                    \n",
      "2023-03-15 13:31:58 WARNING: Can not find mwt: default from official model list. Ignoring it.\n",
      "2023-03-15 13:31:59 INFO: Loading these models for language: en (English):\n",
      "========================\n",
      "| Processor | Package  |\n",
      "------------------------\n",
      "| tokenize  | combined |\n",
      "| pos       | combined |\n",
      "========================\n",
      "\n",
      "2023-03-15 13:31:59 INFO: Using device: cuda\n",
      "2023-03-15 13:31:59 INFO: Loading: tokenize\n",
      "2023-03-15 13:31:59 INFO: Loading: pos\n",
      "2023-03-15 13:31:59 INFO: Done loading processors!\n"
     ]
    }
   ],
   "source": [
    "pos_tagger = stanza.Pipeline(lang='en', processors='tokenize,mwt,pos',use_gpu=True)"
   ]
  },
  {
   "attachments": {},
   "cell_type": "markdown",
   "metadata": {},
   "source": [
    "POS Tags for our dataset"
   ]
  },
  {
   "cell_type": "code",
   "execution_count": 34,
   "metadata": {},
   "outputs": [],
   "source": [
    "pos_tags_dataset =[]\n",
    "for sentence in dataset.iloc[:,1].values.tolist():\n",
    "    doc = pos_tagger(sentence)\n",
    "    pos_tags_dataset.append([word.xpos for sent in doc.sentences for word in sent.words])"
   ]
  },
  {
   "attachments": {},
   "cell_type": "markdown",
   "metadata": {},
   "source": [
    "Writing the tags to a txt file (Simply)"
   ]
  },
  {
   "cell_type": "code",
   "execution_count": 37,
   "metadata": {},
   "outputs": [],
   "source": [
    "with open('pos_tags_dataset.txt','w') as f:\n",
    "    f.writelines([str(i) for i in pos_tags_dataset])"
   ]
  },
  {
   "cell_type": "code",
   "execution_count": 5,
   "metadata": {},
   "outputs": [],
   "source": [
    "pos_tags_dataset=[]\n",
    "with open('pos_tags_dataset.txt','r') as f:\n",
    "    pos_tags_dataset.append(f.readlines())"
   ]
  },
  {
   "attachments": {},
   "cell_type": "markdown",
   "metadata": {},
   "source": [
    "Labelling the dataset"
   ]
  },
  {
   "cell_type": "code",
   "execution_count": 7,
   "metadata": {},
   "outputs": [],
   "source": [
    "labels= []\n",
    "word_indices=[]\n",
    "for i,sentence in enumerate(dataset['comments']):\n",
    "    #capture bw indices for each sentence\n",
    "    flag = False\n",
    "    for j,word in enumerate(sentence.split()):\n",
    "        if word.lower() in bad_words_set:\n",
    "            flag = True\n",
    "            # pos_tags_dataset[i][j] = 'BW'\n",
    "            continue\n",
    "    labels.append(1) if flag else labels.append(0)"
   ]
  },
  {
   "attachments": {},
   "cell_type": "markdown",
   "metadata": {},
   "source": [
    "Percentage of bad sentences"
   ]
  },
  {
   "cell_type": "code",
   "execution_count": 8,
   "metadata": {},
   "outputs": [
    {
     "data": {
      "text/plain": [
       "14439"
      ]
     },
     "execution_count": 8,
     "metadata": {},
     "output_type": "execute_result"
    }
   ],
   "source": [
    "np.count_nonzero(labels)"
   ]
  },
  {
   "cell_type": "code",
   "execution_count": 9,
   "metadata": {},
   "outputs": [
    {
     "data": {
      "text/plain": [
       "0.27926812757480224"
      ]
     },
     "execution_count": 9,
     "metadata": {},
     "output_type": "execute_result"
    }
   ],
   "source": [
    "np.count_nonzero(labels)/len(labels)"
   ]
  },
  {
   "attachments": {},
   "cell_type": "markdown",
   "metadata": {},
   "source": [
    "Separating good and bad sentences"
   ]
  },
  {
   "cell_type": "code",
   "execution_count": 14,
   "metadata": {},
   "outputs": [],
   "source": [
    "dataset['labels'] = labels"
   ]
  },
  {
   "cell_type": "code",
   "execution_count": 18,
   "metadata": {},
   "outputs": [],
   "source": [
    "good_sentences = dataset[dataset['labels']==0]\n",
    "bad_sentences = dataset[dataset['labels']==1]"
   ]
  },
  {
   "cell_type": "code",
   "execution_count": 19,
   "metadata": {},
   "outputs": [
    {
     "data": {
      "text/plain": [
       "37264"
      ]
     },
     "execution_count": 19,
     "metadata": {},
     "output_type": "execute_result"
    }
   ],
   "source": [
    "len(good_sentences)"
   ]
  },
  {
   "cell_type": "code",
   "execution_count": 20,
   "metadata": {},
   "outputs": [
    {
     "data": {
      "text/plain": [
       "14439"
      ]
     },
     "execution_count": 20,
     "metadata": {},
     "output_type": "execute_result"
    }
   ],
   "source": [
    "len(bad_sentences)"
   ]
  },
  {
   "cell_type": "code",
   "execution_count": 21,
   "metadata": {},
   "outputs": [],
   "source": [
    "sample_bad = bad_sentences.sample(10)"
   ]
  },
  {
   "cell_type": "code",
   "execution_count": 23,
   "metadata": {},
   "outputs": [
    {
     "data": {
      "text/html": [
       "<div>\n",
       "<style scoped>\n",
       "    .dataframe tbody tr th:only-of-type {\n",
       "        vertical-align: middle;\n",
       "    }\n",
       "\n",
       "    .dataframe tbody tr th {\n",
       "        vertical-align: top;\n",
       "    }\n",
       "\n",
       "    .dataframe thead th {\n",
       "        text-align: right;\n",
       "    }\n",
       "</style>\n",
       "<table border=\"1\" class=\"dataframe\">\n",
       "  <thead>\n",
       "    <tr style=\"text-align: right;\">\n",
       "      <th></th>\n",
       "      <th>Unnamed: 0</th>\n",
       "      <th>comments</th>\n",
       "      <th>labels</th>\n",
       "    </tr>\n",
       "  </thead>\n",
       "  <tbody>\n",
       "    <tr>\n",
       "      <th>33865</th>\n",
       "      <td>33865</td>\n",
       "      <td>Basically what I'm saying is that if they clai...</td>\n",
       "      <td>1</td>\n",
       "    </tr>\n",
       "    <tr>\n",
       "      <th>15899</th>\n",
       "      <td>15899</td>\n",
       "      <td>The Ferenghi do have a general reservation aga...</td>\n",
       "      <td>1</td>\n",
       "    </tr>\n",
       "    <tr>\n",
       "      <th>24288</th>\n",
       "      <td>24288</td>\n",
       "      <td>PPP Fraud helped business owners buy all their...</td>\n",
       "      <td>1</td>\n",
       "    </tr>\n",
       "    <tr>\n",
       "      <th>50279</th>\n",
       "      <td>50279</td>\n",
       "      <td>These are a great alternative to abandoning yo...</td>\n",
       "      <td>1</td>\n",
       "    </tr>\n",
       "    <tr>\n",
       "      <th>16376</th>\n",
       "      <td>16376</td>\n",
       "      <td>No vinyl chloride or pre-product has been dete...</td>\n",
       "      <td>1</td>\n",
       "    </tr>\n",
       "    <tr>\n",
       "      <th>33306</th>\n",
       "      <td>33306</td>\n",
       "      <td>What the fuck, you are regularly finding dead ...</td>\n",
       "      <td>1</td>\n",
       "    </tr>\n",
       "    <tr>\n",
       "      <th>24605</th>\n",
       "      <td>24605</td>\n",
       "      <td>*If* he's being sarcastic, fascists managed to...</td>\n",
       "      <td>1</td>\n",
       "    </tr>\n",
       "    <tr>\n",
       "      <th>44891</th>\n",
       "      <td>44891</td>\n",
       "      <td>It'd be terrifying as fuck when you awake and ...</td>\n",
       "      <td>1</td>\n",
       "    </tr>\n",
       "    <tr>\n",
       "      <th>12769</th>\n",
       "      <td>12769</td>\n",
       "      <td>&gt; Gaetz’s father is famous for fixing things f...</td>\n",
       "      <td>1</td>\n",
       "    </tr>\n",
       "    <tr>\n",
       "      <th>46345</th>\n",
       "      <td>46345</td>\n",
       "      <td>Union Carbide killed over 3700 people and inju...</td>\n",
       "      <td>1</td>\n",
       "    </tr>\n",
       "  </tbody>\n",
       "</table>\n",
       "</div>"
      ],
      "text/plain": [
       "       Unnamed: 0                                           comments  labels\n",
       "33865       33865  Basically what I'm saying is that if they clai...       1\n",
       "15899       15899  The Ferenghi do have a general reservation aga...       1\n",
       "24288       24288  PPP Fraud helped business owners buy all their...       1\n",
       "50279       50279  These are a great alternative to abandoning yo...       1\n",
       "16376       16376  No vinyl chloride or pre-product has been dete...       1\n",
       "33306       33306  What the fuck, you are regularly finding dead ...       1\n",
       "24605       24605  *If* he's being sarcastic, fascists managed to...       1\n",
       "44891       44891  It'd be terrifying as fuck when you awake and ...       1\n",
       "12769       12769  > Gaetz’s father is famous for fixing things f...       1\n",
       "46345       46345  Union Carbide killed over 3700 people and inju...       1"
      ]
     },
     "execution_count": 23,
     "metadata": {},
     "output_type": "execute_result"
    }
   ],
   "source": [
    "sample_bad"
   ]
  },
  {
   "attachments": {},
   "cell_type": "markdown",
   "metadata": {},
   "source": [
    "Lucene"
   ]
  },
  {
   "cell_type": "code",
   "execution_count": null,
   "metadata": {},
   "outputs": [],
   "source": [
    "# import lucene\n",
    "# from java.io import StringReader\n",
    "# from org.apache.lucene.analysis.standard import StandardAnalyzer\n",
    "# from org.apache.lucene.index import DirectoryReader\n",
    "# from org.apache.lucene.search.similarities import ClassicSimilarity\n",
    "# from org.apache.lucene.search import IndexSearcher\n",
    "# from org.apache.lucene.queryparser.classic import QueryParser\n",
    "# from org.apache.lucene.store import SimpleFSDirectory\n",
    "# from sklearn.feature_extraction.text import TfidfVectorizer\n",
    "# from sklearn.metrics.pairwise import cosine_similarity\n",
    "\n",
    "# # Initialize Lucene\n",
    "# lucene.initVM()\n",
    "\n",
    "# # Set up the analyzer and similarity algorithm\n",
    "# analyzer = StandardAnalyzer()\n",
    "# similarity = ClassicSimilarity()\n",
    "\n",
    "# # Set up the index\n",
    "# index_dir = SimpleFSDirectory(File(\"index\"))\n",
    "# searcher = IndexSearcher(DirectoryReader.open(index_dir))\n",
    "# searcher.setSimilarity(similarity)\n",
    "\n",
    "# # Define the query and tags\n",
    "# query = \"python programming\"\n",
    "# tags = [\"python\", \"programming\"]\n",
    "\n",
    "# # Tokenize and vectorize the tags using TF-IDF\n",
    "# tfidf = TfidfVectorizer(analyzer='word', stop_words='english')\n",
    "# tfidf_matrix = tfidf.fit_transform(tags)\n",
    "\n",
    "# # Search the index for similar sentences\n",
    "# query_parser = QueryParser(\"content\", analyzer)\n",
    "# query = query_parser.parse(query)\n",
    "# top_docs = searcher.search(query, 10)\n",
    "# for score_doc in top_docs.scoreDocs:\n",
    "#     doc = searcher.doc(score_doc.doc)\n",
    "#     sentence = doc.get(\"content\")\n",
    "#     tfidf_score = cosine_similarity(tfidf_matrix, tfidf.transform([sentence]))[0][0]\n",
    "#     if tfidf_score > 0.5:\n",
    "#         print(f\"Similar sentence found: {sentence}\")"
   ]
  },
  {
   "cell_type": "code",
   "execution_count": 32,
   "metadata": {},
   "outputs": [
    {
     "name": "stdout",
     "output_type": "stream",
     "text": [
      "[[1.         0.25861529 0.25861529]\n",
      " [0.25861529 1.         0.25861529]\n",
      " [0.25861529 0.25861529 1.        ]]\n"
     ]
    }
   ],
   "source": [
    "from sklearn.feature_extraction.text import TfidfVectorizer\n",
    "from sklearn.metrics.pairwise import cosine_similarity\n",
    "\n",
    "# Define the sentences\n",
    "sentences = [\n",
    "    # \"The quick brown cat jumps over the lazy dog\"\n",
    "]\n",
    "\n",
    "# Create a TfidfVectorizer object\n",
    "vectorizer = TfidfVectorizer()\n",
    "\n",
    "# Compute the tf-idf matrix\n",
    "tfidf_matrix = vectorizer.fit_transform(sentences)\n",
    "\n",
    "# Compute the cosine similarity matrix\n",
    "cosine_sim_matrix = cosine_similarity(tfidf_matrix)\n",
    "\n",
    "# Print the similarity matrix\n",
    "print(cosine_sim_matrix)\n"
   ]
  },
  {
   "cell_type": "code",
   "execution_count": null,
   "metadata": {},
   "outputs": [],
   "source": []
  }
 ],
 "metadata": {
  "kernelspec": {
   "display_name": "Python 3",
   "language": "python",
   "name": "python3"
  },
  "language_info": {
   "codemirror_mode": {
    "name": "ipython",
    "version": 3
   },
   "file_extension": ".py",
   "mimetype": "text/x-python",
   "name": "python",
   "nbconvert_exporter": "python",
   "pygments_lexer": "ipython3",
   "version": "3.9.15"
  },
  "orig_nbformat": 4
 },
 "nbformat": 4,
 "nbformat_minor": 2
}
