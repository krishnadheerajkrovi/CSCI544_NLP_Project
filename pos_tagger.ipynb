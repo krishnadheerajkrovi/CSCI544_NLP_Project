{
 "cells": [
  {
   "cell_type": "code",
   "execution_count": 2,
   "metadata": {},
   "outputs": [],
   "source": [
    "import numpy as np\n",
    "import pandas as pd\n",
    "import ast"
   ]
  },
  {
   "cell_type": "code",
   "execution_count": 31,
   "metadata": {},
   "outputs": [],
   "source": [
    "bad_words = pd.read_csv('data/bad_word.txt',header=None)\n",
    "bad_words_set = set(bad_words)"
   ]
  },
  {
   "cell_type": "code",
   "execution_count": 14,
   "metadata": {},
   "outputs": [],
   "source": [
    "pos_tags_dataset = pd.read_csv('data/pos_tags_dataset.csv')\n",
    "pos_tags=[]\n",
    "# for i in range(len(pos_tags_dataset)):\n",
    "#     pos_tags.append(ast.literal_eval(pos_tags_dataset['pos_tag'][i]))"
   ]
  },
  {
   "cell_type": "code",
   "execution_count": 19,
   "metadata": {},
   "outputs": [],
   "source": [
    "import re\n",
    "labels= []\n",
    "word_indices=[]\n",
    "for i,sentence in enumerate(pos_tags_dataset['cleaned_comments']):\n",
    "    #capture bw indices for each sentence\n",
    "    try:\n",
    "        for j,word in enumerate(sentence.split()):\n",
    "            if word.lower() in bad_words_set:\n",
    "                pos_tags[i][j] = 'BW'\n",
    "    except:\n",
    "        continue"
   ]
  },
  {
   "cell_type": "code",
   "execution_count": 23,
   "metadata": {},
   "outputs": [
    {
     "data": {
      "text/plain": [
       "['WP',\n",
       " 'IN',\n",
       " 'DT',\n",
       " 'BW',\n",
       " 'VBP',\n",
       " 'PRP',\n",
       " 'IN',\n",
       " 'IN',\n",
       " 'DT',\n",
       " 'VBZ',\n",
       " 'NN',\n",
       " 'TO',\n",
       " 'VB',\n",
       " 'IN',\n",
       " 'NNP',\n",
       " 'PRP',\n",
       " 'DT',\n",
       " 'VBP',\n",
       " 'NN',\n",
       " 'NN']"
      ]
     },
     "execution_count": 23,
     "metadata": {},
     "output_type": "execute_result"
    }
   ],
   "source": [
    "pos_tags[238]"
   ]
  },
  {
   "cell_type": "code",
   "execution_count": 27,
   "metadata": {},
   "outputs": [],
   "source": [
    "pos_tags_dataset['pos_tag'] = pos_tags"
   ]
  },
  {
   "cell_type": "code",
   "execution_count": 28,
   "metadata": {},
   "outputs": [],
   "source": [
    "pos_tags_dataset.to_csv('data/pos_tags_dataset_bw.csv',index=False)"
   ]
  }
 ],
 "metadata": {
  "kernelspec": {
   "display_name": "csci544",
   "language": "python",
   "name": "python3"
  },
  "language_info": {
   "codemirror_mode": {
    "name": "ipython",
    "version": 3
   },
   "file_extension": ".py",
   "mimetype": "text/x-python",
   "name": "python",
   "nbconvert_exporter": "python",
   "pygments_lexer": "ipython3",
   "version": "3.9.16"
  },
  "orig_nbformat": 4
 },
 "nbformat": 4,
 "nbformat_minor": 2
}
