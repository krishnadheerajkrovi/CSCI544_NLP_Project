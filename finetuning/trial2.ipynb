{
 "cells": [
  {
   "cell_type": "code",
   "execution_count": 1,
   "metadata": {},
   "outputs": [
    {
     "name": "stderr",
     "output_type": "stream",
     "text": [
      "/home/kd/anaconda3/envs/csci544/lib/python3.9/site-packages/tqdm/auto.py:22: TqdmWarning: IProgress not found. Please update jupyter and ipywidgets. See https://ipywidgets.readthedocs.io/en/stable/user_install.html\n",
      "  from .autonotebook import tqdm as notebook_tqdm\n"
     ]
    }
   ],
   "source": [
    "import torch\n",
    "import torch.nn as nn\n",
    "from transformers import BertTokenizer, BertModel,BertForMaskedLM\n",
    "import pandas as pd\n",
    "from torch.nn.utils.rnn import pad_sequence\n",
    "import torch\n",
    "from transformers import BertForMaskedLM, BertTokenizer\n",
    "from tqdm import tqdm\n"
   ]
  },
  {
   "cell_type": "code",
   "execution_count": 2,
   "metadata": {},
   "outputs": [],
   "source": [
    "labeled_comments = pd.read_csv('../data/pos_tags_dataset.csv')\n",
    "input_sentences = labeled_comments['cleaned_comments'].tolist()\n",
    "input_sentences = [sentence for sentence in input_sentences if type(sentence)==str and  len(sentence.split()) > 2]\n",
    "with open('../data/bad_word.txt', 'r') as f:\n",
    "    not_predict = f.read().split('\\n')"
   ]
  },
  {
   "cell_type": "code",
   "execution_count": 3,
   "metadata": {},
   "outputs": [],
   "source": [
    "with open('../data/bad_word.txt', 'r') as f:\n",
    "    not_predict = f.read().split('\\n')"
   ]
  },
  {
   "cell_type": "code",
   "execution_count": 4,
   "metadata": {},
   "outputs": [
    {
     "name": "stderr",
     "output_type": "stream",
     "text": [
      "Some weights of the model checkpoint at bert-base-uncased were not used when initializing BertForMaskedLM: ['cls.seq_relationship.weight', 'cls.seq_relationship.bias']\n",
      "- This IS expected if you are initializing BertForMaskedLM from the checkpoint of a model trained on another task or with another architecture (e.g. initializing a BertForSequenceClassification model from a BertForPreTraining model).\n",
      "- This IS NOT expected if you are initializing BertForMaskedLM from the checkpoint of a model that you expect to be exactly identical (initializing a BertForSequenceClassification model from a BertForSequenceClassification model).\n"
     ]
    }
   ],
   "source": [
    "from transformers import BertTokenizer, BertForMaskedLM\n",
    "import torch\n",
    "device = torch.device(\"cuda\" if torch.cuda.is_available() else \"cpu\")\n",
    "model = BertForMaskedLM.from_pretrained('bert-base-uncased')\n",
    "tokenizer = BertTokenizer.from_pretrained('bert-base-uncased')\n",
    "model = model.to(device)\n",
    "avoid_list = not_predict\n",
    "avoid_list_set = set(avoid_list)\n",
    "def preprocess(text, avoid_list_set):\n",
    "    indices = []\n",
    "    text_tokens = tokenizer.tokenize(text)\n",
    "    for i, token in enumerate(text_tokens):\n",
    "        if text_tokens[i].lower() in avoid_list_set:\n",
    "            text_tokens[i] = '[AVOID]'\n",
    "            indices.append(i)\n",
    "    return ' '.join(text_tokens), indices\n"
   ]
  },
  {
   "cell_type": "code",
   "execution_count": 5,
   "metadata": {},
   "outputs": [],
   "source": [
    "import torch.nn as nn\n",
    "\n",
    "class MaskedLMWithAvoidLoss(nn.Module):\n",
    "    def __init__(self, model):\n",
    "        super().__init__()\n",
    "        self.model = model\n",
    "\n",
    "    def forward(self, input_ids, attention_mask, token_type_ids, labels):\n",
    "        avoid_mask = (input_ids == tokenizer.convert_tokens_to_ids('[AVOID]'))\n",
    "        avoid_mask = avoid_mask.logical_not()\n",
    "        loss = self.model(input_ids, attention_mask, token_type_ids, labels=labels)[0]\n",
    "        loss = (loss * avoid_mask.float()).mean()\n",
    "        return loss\n",
    "\n",
    "loss_function = MaskedLMWithAvoidLoss(model)\n"
   ]
  },
  {
   "cell_type": "code",
   "execution_count": 6,
   "metadata": {},
   "outputs": [],
   "source": [
    "from transformers import AdamW\n",
    "from torch.utils.data import DataLoader\n",
    "\n",
    "# train_data = [\"I like to eat pizza and spaghetti\",\n",
    "#               \"I don't like to eat sushi\",\n",
    "#               \"I want to eat something new today\"]\n",
    "train_data = input_sentences\n",
    "train_data_processed = [preprocess(text, avoid_list)[0] for text in train_data]\n",
    "train_data_tokenized = tokenizer(train_data_processed, return_tensors='pt', padding=True,truncation=True,max_length=30)\n",
    "input_ids,token_type_ids,attention_mask = train_data_tokenized['input_ids'],train_data_tokenized['token_type_ids'],train_data_tokenized['attention_mask']\n",
    "train_data = torch.utils.data.TensorDataset(input_ids,token_type_ids,attention_mask)\n",
    "train_loader = DataLoader( train_data, batch_size=32, shuffle=True)\n",
    "\n",
    "\n",
    "valid_data = [\"I like to eat pussy\",\n",
    "        \"I don't like to eat dick\",\n",
    "        \"I want to eat ass for dinner\"]\n",
    "valid_data_processed = [preprocess(text, avoid_list)[0] for text in valid_data]\n",
    "valid_data_tokenized = tokenizer(valid_data_processed, padding=True, truncation=True, return_tensors='pt',max_length=30)\n",
    "input_ids,token_type_ids,attention_mask = valid_data_tokenized['input_ids'],valid_data_tokenized['token_type_ids'],valid_data_tokenized['attention_mask']\n",
    "valid_data = torch.utils.data.TensorDataset(input_ids,token_type_ids,attention_mask)\n",
    "valid_loader = DataLoader(valid_data, batch_size=32, shuffle=False)"
   ]
  },
  {
   "cell_type": "code",
   "execution_count": 7,
   "metadata": {},
   "outputs": [
    {
     "name": "stderr",
     "output_type": "stream",
     "text": [
      "/home/kd/anaconda3/envs/csci544/lib/python3.9/site-packages/transformers/optimization.py:391: FutureWarning: This implementation of AdamW is deprecated and will be removed in a future version. Use the PyTorch implementation torch.optim.AdamW instead, or set `no_deprecation_warning=True` to disable this warning\n",
      "  warnings.warn(\n"
     ]
    },
    {
     "name": "stdout",
     "output_type": "stream",
     "text": [
      "Using device cuda\n"
     ]
    },
    {
     "name": "stderr",
     "output_type": "stream",
     "text": [
      "100%|██████████| 1957/1957 [36:03<00:00,  1.11s/it]\n"
     ]
    },
    {
     "name": "stdout",
     "output_type": "stream",
     "text": [
      "Epoch 1 completed. Train loss: 4.2373\n"
     ]
    },
    {
     "name": "stderr",
     "output_type": "stream",
     "text": [
      "100%|██████████| 1957/1957 [36:23<00:00,  1.12s/it]\n"
     ]
    },
    {
     "name": "stdout",
     "output_type": "stream",
     "text": [
      "Epoch 2 completed. Train loss: 4.6206\n"
     ]
    },
    {
     "name": "stderr",
     "output_type": "stream",
     "text": [
      "100%|██████████| 1957/1957 [36:04<00:00,  1.11s/it]\n"
     ]
    },
    {
     "name": "stdout",
     "output_type": "stream",
     "text": [
      "Epoch 3 completed. Train loss: 4.9205\n"
     ]
    },
    {
     "name": "stderr",
     "output_type": "stream",
     "text": [
      " 76%|███████▌  | 1487/1957 [27:33<08:42,  1.11s/it]\n"
     ]
    },
    {
     "ename": "KeyboardInterrupt",
     "evalue": "",
     "output_type": "error",
     "traceback": [
      "\u001b[0;31m---------------------------------------------------------------------------\u001b[0m",
      "\u001b[0;31mKeyboardInterrupt\u001b[0m                         Traceback (most recent call last)",
      "\u001b[1;32m/home/kd/Documents/USC/CSCI544/Project/Code/CSCI544_NLP_Project/finetuning/trial2.ipynb Cell 7\u001b[0m in \u001b[0;36m<cell line: 4>\u001b[0;34m()\u001b[0m\n\u001b[1;32m     <a href='vscode-notebook-cell:/home/kd/Documents/USC/CSCI544/Project/Code/CSCI544_NLP_Project/finetuning/trial2.ipynb#W6sZmlsZQ%3D%3D?line=14'>15</a>\u001b[0m loss \u001b[39m=\u001b[39m loss_function(input_ids, attention_mask, token_type_ids, labels)\n\u001b[1;32m     <a href='vscode-notebook-cell:/home/kd/Documents/USC/CSCI544/Project/Code/CSCI544_NLP_Project/finetuning/trial2.ipynb#W6sZmlsZQ%3D%3D?line=15'>16</a>\u001b[0m loss\u001b[39m.\u001b[39mbackward()\n\u001b[0;32m---> <a href='vscode-notebook-cell:/home/kd/Documents/USC/CSCI544/Project/Code/CSCI544_NLP_Project/finetuning/trial2.ipynb#W6sZmlsZQ%3D%3D?line=16'>17</a>\u001b[0m train_loss \u001b[39m+\u001b[39m\u001b[39m=\u001b[39m loss\u001b[39m.\u001b[39;49mitem()\n\u001b[1;32m     <a href='vscode-notebook-cell:/home/kd/Documents/USC/CSCI544/Project/Code/CSCI544_NLP_Project/finetuning/trial2.ipynb#W6sZmlsZQ%3D%3D?line=17'>18</a>\u001b[0m \u001b[39m# print(f\"Training loss: {loss.item():.4f}\")\u001b[39;00m\n\u001b[1;32m     <a href='vscode-notebook-cell:/home/kd/Documents/USC/CSCI544/Project/Code/CSCI544_NLP_Project/finetuning/trial2.ipynb#W6sZmlsZQ%3D%3D?line=18'>19</a>\u001b[0m optimizer\u001b[39m.\u001b[39mstep()\n",
      "\u001b[0;31mKeyboardInterrupt\u001b[0m: "
     ]
    }
   ],
   "source": [
    "print(f'Using device {device}')\n",
    "num_epochs = 10\n",
    "optimizer = AdamW(loss_function.model.parameters(), lr=5e-5)\n",
    "for epoch in range(num_epochs):\n",
    "    total_loss = 0\n",
    "    train_loss = 0\n",
    "    loss_function.model.train()\n",
    "    for batch in tqdm(train_loader):\n",
    "        optimizer.zero_grad()\n",
    "        input_ids = batch[0].to(device)\n",
    "        attention_mask = batch[1].to(device)\n",
    "        token_type_ids = batch[2].to(device)\n",
    "        labels = input_ids.clone()\n",
    "        labels[labels == tokenizer.mask_token_id] = -100\n",
    "        loss = loss_function(input_ids, attention_mask, token_type_ids, labels)\n",
    "        loss.backward()\n",
    "        train_loss += loss.item()\n",
    "        # print(f\"Training loss: {loss.item():.4f}\")\n",
    "        optimizer.step()\n",
    "        loss_function.model.eval()\n",
    "\n",
    "    # for batch in valid_loader:\n",
    "    #     with torch.no_grad():\n",
    "    #         input_ids = batch[0].to(device)\n",
    "    #         attention_mask = batch[1].to(device)\n",
    "    #         token_type_ids = batch[2].to(device)\n",
    "    #         labels = input_ids.clone()\n",
    "    #         labels[labels == tokenizer.mask_token_id] = -100\n",
    "    #         loss = loss_function(input_ids, attention_mask, token_type_ids, labels)\n",
    "    #         total_loss += loss.item() * len(batch)\n",
    "    train_loss /= len(train_loader)\n",
    "    print(f\"Epoch {epoch+1} completed. Train loss: {train_loss:.4f}\")\n",
    "    #Save model\n",
    "    torch.save(loss_function.model.state_dict(), f'models/finetuned_bert_epoch_{epoch}.model')"
   ]
  },
  {
   "attachments": {},
   "cell_type": "markdown",
   "metadata": {},
   "source": [
    "TODO: Fix for multiple MASK tokens"
   ]
  },
  {
   "cell_type": "code",
   "execution_count": null,
   "metadata": {},
   "outputs": [
    {
     "name": "stdout",
     "output_type": "stream",
     "text": [
      "wu ##t they are right the ka ##rda ##shi ##ans are full of [AVOID] x ##d your [AVOID] do not need no gum ##my\n",
      "['the', 'the', 'the', 'the', 'the', 'the', 'the', 'the', 'the', 'the']\n"
     ]
    }
   ],
   "source": [
    "#Example sentence\n",
    "text = \"I like to eat pussy and ass\"\n",
    "text=\"shit i have been sitting pretty nicely with a decent six figure income decent chance i am having a income shortly anyone need a good embedded firmware software test lead\"\n",
    "text=\"wut they are right the kardashians are full of shit xd your pussy do not need no gummy\"\n",
    "processed_text,indices = preprocess(text, avoid_list)\n",
    "print(processed_text)\n",
    "#Output: I like to eat [AVOID] and spaghetti\n",
    "\n",
    "#Predict\n",
    "tokenized_text = tokenizer(processed_text, return_tensors='pt')\n",
    "input_ids = tokenized_text['input_ids'].to(device)\n",
    "attention_mask = tokenized_text['attention_mask'].to(device)\n",
    "token_type_ids = tokenized_text['token_type_ids'].to(device)\n",
    "with torch.no_grad():\n",
    "    output = loss_function.model(input_ids, attention_mask, token_type_ids)\n",
    "    predictions = output[0]\n",
    "    top_10_predicted_indices = torch.argmax(predictions[0][:10],dim=1)\n",
    "    predicted_tokens = [tokenizer.convert_ids_to_tokens([index])[0] for index in top_10_predicted_indices]\n",
    "\n",
    "# print(f\"Predicted sentences: {[processed_text.replace('[AVOID]', predicted_token) for predicted_token in predicted_tokens]}\")\n",
    "print(predicted_tokens)"
   ]
  },
  {
   "cell_type": "code",
   "execution_count": null,
   "metadata": {},
   "outputs": [],
   "source": []
  }
 ],
 "metadata": {
  "kernelspec": {
   "display_name": "csci544",
   "language": "python",
   "name": "python3"
  },
  "language_info": {
   "codemirror_mode": {
    "name": "ipython",
    "version": 3
   },
   "file_extension": ".py",
   "mimetype": "text/x-python",
   "name": "python",
   "nbconvert_exporter": "python",
   "pygments_lexer": "ipython3",
   "version": "3.9.16"
  },
  "orig_nbformat": 4
 },
 "nbformat": 4,
 "nbformat_minor": 2
}
