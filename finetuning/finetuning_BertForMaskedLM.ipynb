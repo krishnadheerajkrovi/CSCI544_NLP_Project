{
  "cells": [
    {
      "cell_type": "code",
      "source": [
        "! pip install transformers\n",
        "! pip install datasets"
      ],
      "metadata": {
        "colab": {
          "base_uri": "https://localhost:8080/"
        },
        "id": "PaJu26i56oSy",
        "outputId": "b1235fe7-f656-4024-bee4-e61488eadb2c"
      },
      "execution_count": null,
      "outputs": [
        {
          "output_type": "stream",
          "name": "stdout",
          "text": [
            "Looking in indexes: https://pypi.org/simple, https://us-python.pkg.dev/colab-wheels/public/simple/\n",
            "Collecting transformers\n",
            "  Downloading transformers-4.28.1-py3-none-any.whl (7.0 MB)\n",
            "\u001b[2K     \u001b[90m━━━━━━━━━━━━━━━━━━━━━━━━━━━━━━━━━━━━━━━━\u001b[0m \u001b[32m7.0/7.0 MB\u001b[0m \u001b[31m72.8 MB/s\u001b[0m eta \u001b[36m0:00:00\u001b[0m\n",
            "\u001b[?25hRequirement already satisfied: filelock in /usr/local/lib/python3.9/dist-packages (from transformers) (3.12.0)\n",
            "Collecting huggingface-hub<1.0,>=0.11.0\n",
            "  Downloading huggingface_hub-0.14.1-py3-none-any.whl (224 kB)\n",
            "\u001b[2K     \u001b[90m━━━━━━━━━━━━━━━━━━━━━━━━━━━━━━━━━━━━━━\u001b[0m \u001b[32m224.5/224.5 kB\u001b[0m \u001b[31m25.6 MB/s\u001b[0m eta \u001b[36m0:00:00\u001b[0m\n",
            "\u001b[?25hCollecting tokenizers!=0.11.3,<0.14,>=0.11.1\n",
            "  Downloading tokenizers-0.13.3-cp39-cp39-manylinux_2_17_x86_64.manylinux2014_x86_64.whl (7.8 MB)\n",
            "\u001b[2K     \u001b[90m━━━━━━━━━━━━━━━━━━━━━━━━━━━━━━━━━━━━━━━━\u001b[0m \u001b[32m7.8/7.8 MB\u001b[0m \u001b[31m114.9 MB/s\u001b[0m eta \u001b[36m0:00:00\u001b[0m\n",
            "\u001b[?25hRequirement already satisfied: tqdm>=4.27 in /usr/local/lib/python3.9/dist-packages (from transformers) (4.65.0)\n",
            "Requirement already satisfied: numpy>=1.17 in /usr/local/lib/python3.9/dist-packages (from transformers) (1.22.4)\n",
            "Requirement already satisfied: requests in /usr/local/lib/python3.9/dist-packages (from transformers) (2.27.1)\n",
            "Requirement already satisfied: pyyaml>=5.1 in /usr/local/lib/python3.9/dist-packages (from transformers) (6.0)\n",
            "Requirement already satisfied: regex!=2019.12.17 in /usr/local/lib/python3.9/dist-packages (from transformers) (2022.10.31)\n",
            "Requirement already satisfied: packaging>=20.0 in /usr/local/lib/python3.9/dist-packages (from transformers) (23.1)\n",
            "Requirement already satisfied: fsspec in /usr/local/lib/python3.9/dist-packages (from huggingface-hub<1.0,>=0.11.0->transformers) (2023.4.0)\n",
            "Requirement already satisfied: typing-extensions>=3.7.4.3 in /usr/local/lib/python3.9/dist-packages (from huggingface-hub<1.0,>=0.11.0->transformers) (4.5.0)\n",
            "Requirement already satisfied: certifi>=2017.4.17 in /usr/local/lib/python3.9/dist-packages (from requests->transformers) (2022.12.7)\n",
            "Requirement already satisfied: urllib3<1.27,>=1.21.1 in /usr/local/lib/python3.9/dist-packages (from requests->transformers) (1.26.15)\n",
            "Requirement already satisfied: idna<4,>=2.5 in /usr/local/lib/python3.9/dist-packages (from requests->transformers) (3.4)\n",
            "Requirement already satisfied: charset-normalizer~=2.0.0 in /usr/local/lib/python3.9/dist-packages (from requests->transformers) (2.0.12)\n",
            "Installing collected packages: tokenizers, huggingface-hub, transformers\n",
            "Successfully installed huggingface-hub-0.14.1 tokenizers-0.13.3 transformers-4.28.1\n",
            "Looking in indexes: https://pypi.org/simple, https://us-python.pkg.dev/colab-wheels/public/simple/\n",
            "Collecting datasets\n",
            "  Downloading datasets-2.11.0-py3-none-any.whl (468 kB)\n",
            "\u001b[2K     \u001b[90m━━━━━━━━━━━━━━━━━━━━━━━━━━━━━━━━━━━━━━\u001b[0m \u001b[32m468.7/468.7 kB\u001b[0m \u001b[31m29.0 MB/s\u001b[0m eta \u001b[36m0:00:00\u001b[0m\n",
            "\u001b[?25hCollecting multiprocess\n",
            "  Downloading multiprocess-0.70.14-py39-none-any.whl (132 kB)\n",
            "\u001b[2K     \u001b[90m━━━━━━━━━━━━━━━━━━━━━━━━━━━━━━━━━━━━━━\u001b[0m \u001b[32m132.9/132.9 kB\u001b[0m \u001b[31m17.4 MB/s\u001b[0m eta \u001b[36m0:00:00\u001b[0m\n",
            "\u001b[?25hRequirement already satisfied: pyyaml>=5.1 in /usr/local/lib/python3.9/dist-packages (from datasets) (6.0)\n",
            "Collecting dill<0.3.7,>=0.3.0\n",
            "  Downloading dill-0.3.6-py3-none-any.whl (110 kB)\n",
            "\u001b[2K     \u001b[90m━━━━━━━━━━━━━━━━━━━━━━━━━━━━━━━━━━━━━━\u001b[0m \u001b[32m110.5/110.5 kB\u001b[0m \u001b[31m16.3 MB/s\u001b[0m eta \u001b[36m0:00:00\u001b[0m\n",
            "\u001b[?25hRequirement already satisfied: requests>=2.19.0 in /usr/local/lib/python3.9/dist-packages (from datasets) (2.27.1)\n",
            "Requirement already satisfied: tqdm>=4.62.1 in /usr/local/lib/python3.9/dist-packages (from datasets) (4.65.0)\n",
            "Collecting aiohttp\n",
            "  Downloading aiohttp-3.8.4-cp39-cp39-manylinux_2_17_x86_64.manylinux2014_x86_64.whl (1.0 MB)\n",
            "\u001b[2K     \u001b[90m━━━━━━━━━━━━━━━━━━━━━━━━━━━━━━━━━━━━━━━━\u001b[0m \u001b[32m1.0/1.0 MB\u001b[0m \u001b[31m65.2 MB/s\u001b[0m eta \u001b[36m0:00:00\u001b[0m\n",
            "\u001b[?25hRequirement already satisfied: huggingface-hub<1.0.0,>=0.11.0 in /usr/local/lib/python3.9/dist-packages (from datasets) (0.14.1)\n",
            "Collecting responses<0.19\n",
            "  Downloading responses-0.18.0-py3-none-any.whl (38 kB)\n",
            "Requirement already satisfied: pyarrow>=8.0.0 in /usr/local/lib/python3.9/dist-packages (from datasets) (9.0.0)\n",
            "Requirement already satisfied: fsspec[http]>=2021.11.1 in /usr/local/lib/python3.9/dist-packages (from datasets) (2023.4.0)\n",
            "Requirement already satisfied: pandas in /usr/local/lib/python3.9/dist-packages (from datasets) (1.5.3)\n",
            "Requirement already satisfied: packaging in /usr/local/lib/python3.9/dist-packages (from datasets) (23.1)\n",
            "Requirement already satisfied: numpy>=1.17 in /usr/local/lib/python3.9/dist-packages (from datasets) (1.22.4)\n",
            "Collecting xxhash\n",
            "  Downloading xxhash-3.2.0-cp39-cp39-manylinux_2_17_x86_64.manylinux2014_x86_64.whl (212 kB)\n",
            "\u001b[2K     \u001b[90m━━━━━━━━━━━━━━━━━━━━━━━━━━━━━━━━━━━━━━\u001b[0m \u001b[32m212.2/212.2 kB\u001b[0m \u001b[31m27.6 MB/s\u001b[0m eta \u001b[36m0:00:00\u001b[0m\n",
            "\u001b[?25hRequirement already satisfied: charset-normalizer<4.0,>=2.0 in /usr/local/lib/python3.9/dist-packages (from aiohttp->datasets) (2.0.12)\n",
            "Collecting aiosignal>=1.1.2\n",
            "  Downloading aiosignal-1.3.1-py3-none-any.whl (7.6 kB)\n",
            "Requirement already satisfied: attrs>=17.3.0 in /usr/local/lib/python3.9/dist-packages (from aiohttp->datasets) (23.1.0)\n",
            "Collecting yarl<2.0,>=1.0\n",
            "  Downloading yarl-1.9.2-cp39-cp39-manylinux_2_17_x86_64.manylinux2014_x86_64.whl (269 kB)\n",
            "\u001b[2K     \u001b[90m━━━━━━━━━━━━━━━━━━━━━━━━━━━━━━━━━━━━━━\u001b[0m \u001b[32m269.4/269.4 kB\u001b[0m \u001b[31m31.2 MB/s\u001b[0m eta \u001b[36m0:00:00\u001b[0m\n",
            "\u001b[?25hCollecting multidict<7.0,>=4.5\n",
            "  Downloading multidict-6.0.4-cp39-cp39-manylinux_2_17_x86_64.manylinux2014_x86_64.whl (114 kB)\n",
            "\u001b[2K     \u001b[90m━━━━━━━━━━━━━━━━━━━━━━━━━━━━━━━━━━━━━━\u001b[0m \u001b[32m114.2/114.2 kB\u001b[0m \u001b[31m13.9 MB/s\u001b[0m eta \u001b[36m0:00:00\u001b[0m\n",
            "\u001b[?25hCollecting async-timeout<5.0,>=4.0.0a3\n",
            "  Downloading async_timeout-4.0.2-py3-none-any.whl (5.8 kB)\n",
            "Collecting frozenlist>=1.1.1\n",
            "  Downloading frozenlist-1.3.3-cp39-cp39-manylinux_2_5_x86_64.manylinux1_x86_64.manylinux_2_17_x86_64.manylinux2014_x86_64.whl (158 kB)\n",
            "\u001b[2K     \u001b[90m━━━━━━━━━━━━━━━━━━━━━━━━━━━━━━━━━━━━━━━\u001b[0m \u001b[32m158.8/158.8 kB\u001b[0m \u001b[31m7.2 MB/s\u001b[0m eta \u001b[36m0:00:00\u001b[0m\n",
            "\u001b[?25hRequirement already satisfied: typing-extensions>=3.7.4.3 in /usr/local/lib/python3.9/dist-packages (from huggingface-hub<1.0.0,>=0.11.0->datasets) (4.5.0)\n",
            "Requirement already satisfied: filelock in /usr/local/lib/python3.9/dist-packages (from huggingface-hub<1.0.0,>=0.11.0->datasets) (3.12.0)\n",
            "Requirement already satisfied: idna<4,>=2.5 in /usr/local/lib/python3.9/dist-packages (from requests>=2.19.0->datasets) (3.4)\n",
            "Requirement already satisfied: certifi>=2017.4.17 in /usr/local/lib/python3.9/dist-packages (from requests>=2.19.0->datasets) (2022.12.7)\n",
            "Requirement already satisfied: urllib3<1.27,>=1.21.1 in /usr/local/lib/python3.9/dist-packages (from requests>=2.19.0->datasets) (1.26.15)\n",
            "Requirement already satisfied: pytz>=2020.1 in /usr/local/lib/python3.9/dist-packages (from pandas->datasets) (2022.7.1)\n",
            "Requirement already satisfied: python-dateutil>=2.8.1 in /usr/local/lib/python3.9/dist-packages (from pandas->datasets) (2.8.2)\n",
            "Requirement already satisfied: six>=1.5 in /usr/local/lib/python3.9/dist-packages (from python-dateutil>=2.8.1->pandas->datasets) (1.16.0)\n",
            "Installing collected packages: xxhash, multidict, frozenlist, dill, async-timeout, yarl, responses, multiprocess, aiosignal, aiohttp, datasets\n",
            "Successfully installed aiohttp-3.8.4 aiosignal-1.3.1 async-timeout-4.0.2 datasets-2.11.0 dill-0.3.6 frozenlist-1.3.3 multidict-6.0.4 multiprocess-0.70.14 responses-0.18.0 xxhash-3.2.0 yarl-1.9.2\n"
          ]
        }
      ]
    },
    {
      "cell_type": "code",
      "execution_count": null,
      "metadata": {
        "id": "x9c8ltNx6bgF"
      },
      "outputs": [],
      "source": [
        "import torch\n",
        "import torch.nn as nn\n",
        "from transformers import BertTokenizer, BertModel,BertForMaskedLM\n",
        "import pandas as pd\n",
        "from torch.nn.utils.rnn import pad_sequence\n",
        "import torch\n",
        "from transformers import BertForMaskedLM, BertTokenizer\n",
        "from tqdm import tqdm\n"
      ]
    },
    {
      "cell_type": "code",
      "source": [
        "from google.colab import drive\n",
        "drive.mount('/content/drive')\n",
        "path = '/content/drive/MyDrive/CSCI544NLPFinalProject/finetuning/data'"
      ],
      "metadata": {
        "colab": {
          "base_uri": "https://localhost:8080/"
        },
        "id": "3Y1Wl6Ys61b6",
        "outputId": "eed21b4b-313c-427e-a3cd-49856c8af71f"
      },
      "execution_count": null,
      "outputs": [
        {
          "output_type": "stream",
          "name": "stdout",
          "text": [
            "Drive already mounted at /content/drive; to attempt to forcibly remount, call drive.mount(\"/content/drive\", force_remount=True).\n"
          ]
        }
      ]
    },
    {
      "cell_type": "code",
      "execution_count": null,
      "metadata": {
        "id": "lSGQWDGU6bgJ"
      },
      "outputs": [],
      "source": [
        "# labeled_comments = pd.read_csv(path + '/jigsaw_pos_dataset.csv')\n",
        "# input_sentences = labeled_comments['comment_text'].tolist()\n",
        "labeled_comments  = pd.read_csv(path + '/processed_training_data_3.csv')\n",
        "input_sentences = labeled_comments[labeled_comments['label'] == 1.0]\n",
        "input_sentences = input_sentences['preprocessed_text']\n",
        "input_sentences = [sentence for sentence in input_sentences if type(sentence)==str and  len(sentence.split()) > 2]"
      ]
    },
    {
      "cell_type": "code",
      "source": [
        "input_sentences[0]"
      ],
      "metadata": {
        "colab": {
          "base_uri": "https://localhost:8080/",
          "height": 36
        },
        "id": "-jb3P_tN6QjM",
        "outputId": "092be977-95ce-465d-bb34-c0ebda047467"
      },
      "execution_count": null,
      "outputs": [
        {
          "output_type": "execute_result",
          "data": {
            "text/plain": [
              "'cocksucker before you piss around on my work'"
            ],
            "application/vnd.google.colaboratory.intrinsic+json": {
              "type": "string"
            }
          },
          "metadata": {},
          "execution_count": 53
        }
      ]
    },
    {
      "cell_type": "code",
      "source": [],
      "metadata": {
        "id": "1sxzsZmsAmVN"
      },
      "execution_count": null,
      "outputs": []
    },
    {
      "cell_type": "code",
      "execution_count": null,
      "metadata": {
        "id": "LEtZMrcF6bgJ"
      },
      "outputs": [],
      "source": [
        "with open(path + '/bad_word.txt', 'r') as f:\n",
        "    not_predict = f.read().split('\\n')"
      ]
    },
    {
      "cell_type": "code",
      "source": [
        "with open(path + '/jigsaw_predictions.txt', 'r') as f:\n",
        "    labels = f.read()"
      ],
      "metadata": {
        "id": "ANttiphW_0zv"
      },
      "execution_count": null,
      "outputs": []
    },
    {
      "cell_type": "code",
      "source": [
        "labels = [float(x) for x in labels.split('\\n')]"
      ],
      "metadata": {
        "id": "Vz6cpMyWABZL"
      },
      "execution_count": null,
      "outputs": []
    },
    {
      "cell_type": "code",
      "source": [
        "# with open(path + '/masked_sentences.txt', 'r') as f:\n",
        "#   input_sentences = f.readlines()"
      ],
      "metadata": {
        "id": "YmQqvPY-CtNH"
      },
      "execution_count": null,
      "outputs": []
    },
    {
      "cell_type": "code",
      "source": [
        "# input_sentences = [x[:-1].replace('<', '[').replace('>', ']') for x in input_sentences]"
      ],
      "metadata": {
        "id": "_unDdMyyC6l2"
      },
      "execution_count": null,
      "outputs": []
    },
    {
      "cell_type": "code",
      "source": [
        "import pandas as pd\n",
        "import os\n",
        "\n",
        "df = pd.read_csv(path + \"/train.csv\")\n",
        "\n",
        "bad_words=[]\n",
        "with open(path + \"/bad_word.txt\") as f:\n",
        "    for line in f.readlines():\n",
        "        bad_words.append(line.split('\\n')[0])\n",
        "\n",
        "bad_words_set = set(bad_words)"
      ],
      "metadata": {
        "id": "jFFJFlFZD15c"
      },
      "execution_count": null,
      "outputs": []
    },
    {
      "cell_type": "code",
      "source": [
        "masked_sentences = []\n",
        "\n",
        "for sentence in input_sentences:\n",
        "    flag = False\n",
        "    words = sentence.split()\n",
        "    for j, word in enumerate(words):\n",
        "        if word.lower() in bad_words_set:\n",
        "            flag = True\n",
        "            words[j] = \"[MASK]\"\n",
        "    if flag:\n",
        "        masked_sentence = \" \".join(words)\n",
        "        masked_sentences.append(masked_sentence) \n",
        "    else:\n",
        "        pass"
      ],
      "metadata": {
        "id": "mnxOzQJ9tav8"
      },
      "execution_count": null,
      "outputs": []
    },
    {
      "cell_type": "code",
      "source": [
        "masked_sentences[0:10]"
      ],
      "metadata": {
        "colab": {
          "base_uri": "https://localhost:8080/"
        },
        "id": "O_fqQDE9uotk",
        "outputId": "59e7069f-f9b0-4bae-efc5-215d4cc0b21b"
      },
      "execution_count": null,
      "outputs": [
        {
          "output_type": "execute_result",
          "data": {
            "text/plain": [
              "['[MASK] before you [MASK] around on my work',\n",
              " 'bye don t look come or think of comming back [MASK]',\n",
              " 'you are [MASK] or antisemmitian archangel white tiger meow greetingshhh uh there are two way why you do erased my comment about ww2 that holocaust wa brutally slaying of [MASK] and not [MASK] gypsy [MASK] anyone 1 if you are anti semitian than shave your head bald and go to the skinhead meeting 2 if you doubt word of the [MASK] that homosexuality is a deadly sin make a pentagram tatoo on your forehead go to the satanistic mass with your [MASK] pal 3 first and last warning you [MASK] [MASK] i won t appreciate if any more [MASK] shwain would write in my page i don t wish to talk to you anymore beware of the dark side',\n",
              " '[MASK] your filthy mother in the as dry',\n",
              " 'get [MASK] up get fuckeeed up got a drink that you cant put down get [MASK] up get [MASK] up i m [MASK] up right now',\n",
              " '[MASK] peace of [MASK] stop deleting my stuff [MASK] go [MASK] and fall in a [MASK] go to [MASK]',\n",
              " 'my band page s deletion you thought i wa gone deleting the comment i posted on your talk page doe not delete my feeling for your hasty decision to delete my page you sir are still a [MASK] sucking douche [MASK] sit back for a second and think about what your life ha become done that didn t take long did it nope because a i am most certainly aware your life is a shitstorm of sitting in front of the computer [MASK] to fictional creature your attempt to get rid of me are mediocre at best you are constantly sucking the [MASK] of [MASK] you don t want a personal [MASK] huh well too bad fuckcock mcdickerson you ve got one from me you can go ahead and delete my profile from wikipedia i ll just make another one and come right back to syrthiss s talk page and insult the [MASK] off of you how could you shatter the dream of an innocent eighteen year old college freshman trying to make a name for his band doe that make you happy [MASK] with people because you re an overweight single old man in a [MASK] end job did you spot that perhaps someone else wa going to follow his dream and you were trying to hold him back so somebody else could suffer like you yes you did i don t make empty threat so i won t be saying anything along the line of i ll hurt you or i ll eat the child from within your sister s womb but i will say that you are a [MASK] son of a [MASK] mother [MASK] [MASK] [MASK] so go eat some more food and drown your sorrow you [MASK] ejaculating bald headed [MASK] you should do something nice for yourself maybe go grab a couple of [MASK] goat weed from your local convenience store and jack off for a little longer than three minute tonight sincerely an [MASK] that s better than you in every way',\n",
              " 'why can t you believe how [MASK] artie is did you see him on his recent appearence on the tonight show with jay leno he look absolutely awful if i had to put money on it i d say that artie lange is a can t miss candidate for the 2007 [MASK] pool kindly keep your malicious finger off of my above comment everytime you remove it i will repost it',\n",
              " 'all of my edits are good [MASK] like you who revert good edits because you re too [MASK] to understand how to write well and then revert other edits just because you ve decided to bear a playground grudge are the problem maybe one day you ll realise the damage you did to a noble project 201 215 187 159',\n",
              " 'hi i am back again last warning stop undoing my edits or [MASK]']"
            ]
          },
          "metadata": {},
          "execution_count": 54
        }
      ]
    },
    {
      "cell_type": "code",
      "source": [
        "path+'/fine_tuned_model'"
      ],
      "metadata": {
        "colab": {
          "base_uri": "https://localhost:8080/",
          "height": 36
        },
        "id": "ziH6qBlHBgbb",
        "outputId": "b9e10fb2-d6a0-4c79-c731-c65cb9880cf2"
      },
      "execution_count": null,
      "outputs": [
        {
          "output_type": "execute_result",
          "data": {
            "text/plain": [
              "'/content/drive/MyDrive/CSCI544NLPProject/finetuning/data/fine_tuned_model'"
            ],
            "application/vnd.google.colaboratory.intrinsic+json": {
              "type": "string"
            }
          },
          "metadata": {},
          "execution_count": 5
        }
      ]
    },
    {
      "cell_type": "code",
      "source": [
        "tokenizer = BertTokenizer.from_pretrained(path+'/fine_tuned_model')\n",
        "model = BertForMaskedLM.from_pretrained(path+'/fine_tuned_model')"
      ],
      "metadata": {
        "id": "2yRirfurApAd"
      },
      "execution_count": null,
      "outputs": []
    },
    {
      "cell_type": "code",
      "source": [
        "tokenizer = BertTokenizer.from_pretrained('bert-base-uncased')\n",
        "model = BertForMaskedLM.from_pretrained('bert-base-uncased')"
      ],
      "metadata": {
        "colab": {
          "base_uri": "https://localhost:8080/",
          "height": 220,
          "referenced_widgets": [
            "1d77370b51f84b6c8a0298034a80f0fd",
            "4dcba55671a44234b854d079a2966433",
            "c6941de58e0340e99b86d3381cc04335",
            "b3a16a838c1a48eb8a09b6a878c9ab65",
            "7fcd7032ab3b4bbba78229b734355562",
            "5d6e35bef7144d24a808132f63af231c",
            "6d6b438ec2d94da4bd71f8c5a6f70553",
            "fa41a1a60335428d92e8b998f79ad3b5",
            "1d36713128aa4463a087a98a1aad1c99",
            "e4650625475a44638653bdecaedf7169",
            "996fe28f0dbb45c99beefd2d440b98ec",
            "3daf8caa926f463e9853108c6742b4a4",
            "2e40360ecbd84c4da5d31fcb83063ac2",
            "d53d4e591b87498aa7bda97a7caafc6b",
            "1190286b16a9404cbc59e14cc2e99a3f",
            "6c0cd39a45104dffb707337aabe14841",
            "2c2e2cb5bc1d4ca5966ff9ea4911e788",
            "20cf3ff98857434fa2729fb6f6f60359",
            "08f0419662cf4ee19170703cc94ee660",
            "d688f0ed90cb488ab025d5cbb3f773ad",
            "26a533ce8fdf421983ef827ac6175140",
            "86ba1874b2994fbaac24d045afdd6bf2",
            "f4073604de2344c9bea1eba8f5d2cf96",
            "482e3461f7a0402dab550d8322cd4ff5",
            "a9c6c3c046804728be1df806c516212f",
            "935945164e374b5eba7ac7493c2e1a62",
            "5f4b265b09a14559a3a3902878e86d5a",
            "abd6a6118f06400aa1e5154f2726e83b",
            "e3a9b405d339490880d36f05b5155359",
            "be1ef8bffbac483e9476678836085c68",
            "ade148503e94411887e5af6a41fa8fea",
            "9b8d3afb73e845ac958b93b84f1d3abe",
            "4934601043644d43a98acf47e88454ac",
            "67dde5ce787e44159e22a14cc338faf5",
            "d3f4be65ca0b4672a8b89ec415f93310",
            "a8d6b3431b264d71b74bbb29a1131f42",
            "152cb2e9daac4ba3903ba359d2d2a6ea",
            "4aad4c285a79407d99e80082d15505b6",
            "212a51710c74490f8e48c8790e0ef19d",
            "a7baaf19125e4992b06ad16b20a662ea",
            "9a20dc7c6f044fb8a32c02abbab382f3",
            "ea61243f0fa84ab688f84e0db0cf6000",
            "8869dd50e22949b69e47e8401d1f3917",
            "fa6fc875f911445294a61a25323e9ea2"
          ]
        },
        "id": "PrnI00wb39Gp",
        "outputId": "0771e61f-66e7-46e1-cf4f-359eb4c2da88"
      },
      "execution_count": null,
      "outputs": [
        {
          "output_type": "display_data",
          "data": {
            "text/plain": [
              "Downloading (…)solve/main/vocab.txt:   0%|          | 0.00/232k [00:00<?, ?B/s]"
            ],
            "application/vnd.jupyter.widget-view+json": {
              "version_major": 2,
              "version_minor": 0,
              "model_id": "1d77370b51f84b6c8a0298034a80f0fd"
            }
          },
          "metadata": {}
        },
        {
          "output_type": "display_data",
          "data": {
            "text/plain": [
              "Downloading (…)okenizer_config.json:   0%|          | 0.00/28.0 [00:00<?, ?B/s]"
            ],
            "application/vnd.jupyter.widget-view+json": {
              "version_major": 2,
              "version_minor": 0,
              "model_id": "3daf8caa926f463e9853108c6742b4a4"
            }
          },
          "metadata": {}
        },
        {
          "output_type": "display_data",
          "data": {
            "text/plain": [
              "Downloading (…)lve/main/config.json:   0%|          | 0.00/570 [00:00<?, ?B/s]"
            ],
            "application/vnd.jupyter.widget-view+json": {
              "version_major": 2,
              "version_minor": 0,
              "model_id": "f4073604de2344c9bea1eba8f5d2cf96"
            }
          },
          "metadata": {}
        },
        {
          "output_type": "display_data",
          "data": {
            "text/plain": [
              "Downloading pytorch_model.bin:   0%|          | 0.00/440M [00:00<?, ?B/s]"
            ],
            "application/vnd.jupyter.widget-view+json": {
              "version_major": 2,
              "version_minor": 0,
              "model_id": "67dde5ce787e44159e22a14cc338faf5"
            }
          },
          "metadata": {}
        },
        {
          "output_type": "stream",
          "name": "stderr",
          "text": [
            "Some weights of the model checkpoint at bert-base-uncased were not used when initializing BertForMaskedLM: ['cls.seq_relationship.bias', 'cls.seq_relationship.weight']\n",
            "- This IS expected if you are initializing BertForMaskedLM from the checkpoint of a model trained on another task or with another architecture (e.g. initializing a BertForSequenceClassification model from a BertForPreTraining model).\n",
            "- This IS NOT expected if you are initializing BertForMaskedLM from the checkpoint of a model that you expect to be exactly identical (initializing a BertForSequenceClassification model from a BertForSequenceClassification model).\n"
          ]
        }
      ]
    },
    {
      "cell_type": "code",
      "source": [
        "masked_sentences = ['<mask> <mask> <mask>',\n",
        " '<mask> <mask> <mask> <mask> <mask>',\n",
        " '<mask> <mask> <mask> <mask> <mask> <mask> <mask> <mask> <mask> <mask> <mask> <mask> <mask> <mask>',\n",
        " '<mask> <mask> <mask> <mask> <mask> <mask> <mask> <mask> show <mask> <mask> <mask> <mask> <mask>',\n",
        " '<mask> <mask> <mask> <mask> <mask> <mask> <mask> good <mask> <mask> <mask> <mask> <mask> <mask>',\n",
        " '<mask> <mask> <mask> <mask> <mask> <mask> <mask> good show <mask> <mask> <mask> <mask> <mask>',\n",
        " '<mask> <mask> <mask> <mask> fuck <mask> <mask> <mask> <mask> <mask> <mask> <mask> <mask> <mask>',\n",
        " '<mask> <mask> <mask> <mask> fuck <mask> <mask> <mask> show <mask> <mask> <mask> <mask> <mask>',\n",
        " '<mask> <mask> <mask> <mask> fuck <mask> <mask> good <mask> <mask> <mask> <mask> <mask> <mask>',\n",
        " '<mask> <mask> <mask> <mask> fuck <mask> <mask> good show <mask> <mask> <mask> <mask> <mask>',\n",
        " '<mask> <mask> <mask> <mask> show',\n",
        " '<mask> <mask> <mask> show <mask>',\n",
        " '<mask> <mask> a <mask> <mask>',\n",
        " '<mask> <mask> a <mask> show',\n",
        " '<mask> <mask> a show <mask>',\n",
        " '<mask> <mask> good <mask> <mask> <mask> <mask> <mask> <mask> <mask> <mask> <mask> <mask> <mask>',\n",
        " '<mask> <mask> good <mask> <mask> <mask> <mask> <mask> show <mask> <mask> <mask> <mask> <mask>',\n",
        " '<mask> <mask> good <mask> fuck <mask> <mask> <mask> <mask> <mask> <mask> <mask> <mask> <mask>',\n",
        " '<mask> <mask> good <mask> fuck <mask> <mask> <mask> show <mask> <mask> <mask> <mask> <mask>',\n",
        " '<mask> <mask> show <mask> <mask>',\n",
        " '<mask> <mask> that <mask> <mask>',\n",
        " '<mask> <mask> that <mask> show',\n",
        " '<mask> <mask> that show <mask>',\n",
        " '<mask> a <mask> <mask> <mask>',\n",
        " '<mask> a <mask> <mask> show',\n",
        " '<mask> a <mask> show <mask>',\n",
        " '<mask> a show <mask> <mask>',\n",
        " '<mask> that <mask> <mask> <mask>',\n",
        " '<mask> that <mask> <mask> show',\n",
        " '<mask> that <mask> show <mask>',\n",
        " '<mask> that show <mask> <mask>',\n",
        " 'fuck <mask> <mask>']"
      ],
      "metadata": {
        "id": "vfHurOkdBuA1"
      },
      "execution_count": null,
      "outputs": []
    },
    {
      "cell_type": "code",
      "source": [
        "masked_sentences = [x.replace('<mask>','[MASK]') for x in masked_sentences]\n",
        "masked_sentences[10:20]"
      ],
      "metadata": {
        "colab": {
          "base_uri": "https://localhost:8080/"
        },
        "id": "c2GmEh-bCm3q",
        "outputId": "b1b3fc99-d9a6-43e5-aaa5-8722ccceef82"
      },
      "execution_count": null,
      "outputs": [
        {
          "output_type": "execute_result",
          "data": {
            "text/plain": [
              "['[MASK] [MASK] [MASK] [MASK] show',\n",
              " '[MASK] [MASK] [MASK] show [MASK]',\n",
              " '[MASK] [MASK] a [MASK] [MASK]',\n",
              " '[MASK] [MASK] a [MASK] show',\n",
              " '[MASK] [MASK] a show [MASK]',\n",
              " '[MASK] [MASK] good [MASK] [MASK] [MASK] [MASK] [MASK] [MASK] [MASK] [MASK] [MASK] [MASK] [MASK]',\n",
              " '[MASK] [MASK] good [MASK] [MASK] [MASK] [MASK] [MASK] show [MASK] [MASK] [MASK] [MASK] [MASK]',\n",
              " '[MASK] [MASK] good [MASK] fuck [MASK] [MASK] [MASK] [MASK] [MASK] [MASK] [MASK] [MASK] [MASK]',\n",
              " '[MASK] [MASK] good [MASK] fuck [MASK] [MASK] [MASK] show [MASK] [MASK] [MASK] [MASK] [MASK]',\n",
              " '[MASK] [MASK] show [MASK] [MASK]']"
            ]
          },
          "metadata": {},
          "execution_count": 37
        }
      ]
    },
    {
      "cell_type": "code",
      "source": [
        "model.eval()\n",
        "\n",
        "for input_text in masked_sentences[0:10]:\n",
        "  # input_text = preprocess_text(input_text)\n",
        "  print(input_text)\n",
        "  tokens = tokenizer(input_text, return_tensors=\"pt\")\n",
        "  input_ids = tokens[\"input_ids\"]\n",
        "  attention_mask = tokens[\"attention_mask\"]\n",
        "\n",
        "  with torch.no_grad():\n",
        "      outputs = model(input_ids, attention_mask=attention_mask)\n",
        "      predictions = outputs.logits\n",
        "\n",
        "  masked_indices = torch.where(input_ids == tokenizer.mask_token_id)[1]\n",
        "\n",
        "  predicted_tokens = []\n",
        "  for masked_index in masked_indices:\n",
        "      predicted_index = torch.argmax(predictions[0, masked_index]).item()\n",
        "      # print([tokenizer.convert_ids_to_tokens(x) for x in torch.topk(predictions[0, masked_index], k=5)[1]])\n",
        "      top_values, top_indices = torch.topk(predictions[0, masked_index], k=5)\n",
        "      top_predicted_tokens = tokenizer.convert_ids_to_tokens(top_indices.tolist())\n",
        "\n",
        "      resulting_word = \"\"\n",
        "      for i in top_predicted_tokens: \n",
        "        if i in not_predict: \n",
        "            continue\n",
        "        else: \n",
        "            resulting_word = i\n",
        "            break\n",
        "      predicted_tokens.append(resulting_word)\n",
        "      \n",
        "      # print(top_predicted_tokens)\n",
        "      # predicted_token = tokenizer.convert_ids_to_tokens(predicted_index)\n",
        "      # predicted_tokens.append(predicted_token)\n",
        "\n",
        "  print(\"Predicted tokens:\", predicted_tokens)\n",
        "  index = 0 \n",
        "  resulting_sentence = \"\"\n",
        "  words = input_text.split()\n",
        "  for i in range(len(words)):\n",
        "      if words[i]=='[MASK]': \n",
        "          words[i] = predicted_tokens[index]\n",
        "          index+=1 \n",
        "  resulting_sentence = ' '.join(words)\n",
        "  print(resulting_sentence)"
      ],
      "metadata": {
        "colab": {
          "base_uri": "https://localhost:8080/"
        },
        "id": "Jni8S5SyCOy4",
        "outputId": "76a207e2-9d60-46b5-c20f-e6957d5a64c6"
      },
      "execution_count": null,
      "outputs": [
        {
          "output_type": "stream",
          "name": "stdout",
          "text": [
            "[MASK] before you [MASK] around on my work\n",
            "Predicted tokens: ['\"', 'mess']\n",
            "\" before you mess around on my work\n",
            "bye don t look come or think of comming back [MASK]\n",
            "Predicted tokens: ['.']\n",
            "bye don t look come or think of comming back .\n",
            "you are [MASK] or antisemmitian archangel white tiger meow greetingshhh uh there are two way why you do erased my comment about ww2 that holocaust wa brutally slaying of [MASK] and not [MASK] gypsy [MASK] anyone 1 if you are anti semitian than shave your head bald and go to the skinhead meeting 2 if you doubt word of the [MASK] that homosexuality is a deadly sin make a pentagram tatoo on your forehead go to the satanistic mass with your [MASK] pal 3 first and last warning you [MASK] [MASK] i won t appreciate if any more [MASK] shwain would write in my page i don t wish to talk to you anymore beware of the dark side\n",
            "Predicted tokens: ['fascist', 'jews', 'a', 'or', 'gospel', 'old', 'are', 'no', 'of']\n",
            "you are fascist or antisemmitian archangel white tiger meow greetingshhh uh there are two way why you do erased my comment about ww2 that holocaust wa brutally slaying of jews and not a gypsy or anyone 1 if you are anti semitian than shave your head bald and go to the skinhead meeting 2 if you doubt word of the gospel that homosexuality is a deadly sin make a pentagram tatoo on your forehead go to the satanistic mass with your old pal 3 first and last warning you are no i won t appreciate if any more of shwain would write in my page i don t wish to talk to you anymore beware of the dark side\n",
            "[MASK] your filthy mother in the as dry\n",
            "Predicted tokens: ['see']\n",
            "see your filthy mother in the as dry\n",
            "get [MASK] up get fuckeeed up got a drink that you cant put down get [MASK] up get [MASK] up i m [MASK] up right now\n",
            "Predicted tokens: ['beat', 'cleaned', 'beat', 'burning']\n",
            "get beat up get fuckeeed up got a drink that you cant put down get cleaned up get beat up i m burning up right now\n",
            "[MASK] peace of [MASK] stop deleting my stuff [MASK] go [MASK] and fall in a [MASK] go to [MASK]\n",
            "Predicted tokens: ['the', 'mind', 'and', 'to', 'happy', '.']\n",
            "the peace of mind stop deleting my stuff and go to and fall in a happy go to .\n",
            "my band page s deletion you thought i wa gone deleting the comment i posted on your talk page doe not delete my feeling for your hasty decision to delete my page you sir are still a [MASK] sucking douche [MASK] sit back for a second and think about what your life ha become done that didn t take long did it nope because a i am most certainly aware your life is a shitstorm of sitting in front of the computer [MASK] to fictional creature your attempt to get rid of me are mediocre at best you are constantly sucking the [MASK] of [MASK] you don t want a personal [MASK] huh well too bad fuckcock mcdickerson you ve got one from me you can go ahead and delete my profile from wikipedia i ll just make another one and come right back to syrthiss s talk page and insult the [MASK] off of you how could you shatter the dream of an innocent eighteen year old college freshman trying to make a name for his band doe that make you happy [MASK] with people because you re an overweight single old man in a [MASK] end job did you spot that perhaps someone else wa going to follow his dream and you were trying to hold him back so somebody else could suffer like you yes you did i don t make empty threat so i won t be saying anything along the line of i ll hurt you or i ll eat the child from within your sister s womb but i will say that you are a [MASK] son of a [MASK] mother [MASK] [MASK] [MASK] so go eat some more food and drown your sorrow you [MASK] ejaculating bald headed [MASK] you should do something nice for yourself maybe go grab a couple of [MASK] goat weed from your local convenience store and jack off for a little longer than three minute tonight sincerely an [MASK] that s better than you in every way\n",
            "Predicted tokens: ['blood', 'you', 'listening', 'life', 'me', 'relationship', 'life', 'being', 'high', 'good', 'good', '.', 'i', 'me', 'are', 'man', 'fresh', 'angel']\n",
            "my band page s deletion you thought i wa gone deleting the comment i posted on your talk page doe not delete my feeling for your hasty decision to delete my page you sir are still a blood sucking douche you sit back for a second and think about what your life ha become done that didn t take long did it nope because a i am most certainly aware your life is a shitstorm of sitting in front of the computer listening to fictional creature your attempt to get rid of me are mediocre at best you are constantly sucking the life of me you don t want a personal relationship huh well too bad fuckcock mcdickerson you ve got one from me you can go ahead and delete my profile from wikipedia i ll just make another one and come right back to syrthiss s talk page and insult the life off of you how could you shatter the dream of an innocent eighteen year old college freshman trying to make a name for his band doe that make you happy being with people because you re an overweight single old man in a high end job did you spot that perhaps someone else wa going to follow his dream and you were trying to hold him back so somebody else could suffer like you yes you did i don t make empty threat so i won t be saying anything along the line of i ll hurt you or i ll eat the child from within your sister s womb but i will say that you are a good son of a good mother . i me so go eat some more food and drown your sorrow you are ejaculating bald headed man you should do something nice for yourself maybe go grab a couple of fresh goat weed from your local convenience store and jack off for a little longer than three minute tonight sincerely an angel that s better than you in every way\n",
            "why can t you believe how [MASK] artie is did you see him on his recent appearence on the tonight show with jay leno he look absolutely awful if i had to put money on it i d say that artie lange is a can t miss candidate for the 2007 [MASK] pool kindly keep your malicious finger off of my above comment everytime you remove it i will repost it\n",
            "Predicted tokens: ['awful', 'gene']\n",
            "why can t you believe how awful artie is did you see him on his recent appearence on the tonight show with jay leno he look absolutely awful if i had to put money on it i d say that artie lange is a can t miss candidate for the 2007 gene pool kindly keep your malicious finger off of my above comment everytime you remove it i will repost it\n",
            "all of my edits are good [MASK] like you who revert good edits because you re too [MASK] to understand how to write well and then revert other edits just because you ve decided to bear a playground grudge are the problem maybe one day you ll realise the damage you did to a noble project 201 215 187 159\n",
            "Predicted tokens: ['people', 'young']\n",
            "all of my edits are good people like you who revert good edits because you re too young to understand how to write well and then revert other edits just because you ve decided to bear a playground grudge are the problem maybe one day you ll realise the damage you did to a noble project 201 215 187 159\n",
            "hi i am back again last warning stop undoing my edits or [MASK]\n",
            "Predicted tokens: ['.']\n",
            "hi i am back again last warning stop undoing my edits or .\n"
          ]
        }
      ]
    },
    {
      "cell_type": "code",
      "source": [
        "undesired_tokens = set(not_predict)\n",
        "\n",
        "undesired_token_ids = {tokenizer.encode(token, add_special_tokens=False)[0] for token in undesired_tokens}"
      ],
      "metadata": {
        "id": "6iAarNlQMycg"
      },
      "execution_count": null,
      "outputs": []
    },
    {
      "cell_type": "code",
      "source": [
        "def tokenize_and_prepare(sentence):\n",
        "    tokens = tokenizer(sentence, return_tensors=\"pt\", padding='max_length', truncation=True, max_length=128)\n",
        "    input_ids = tokens[\"input_ids\"].squeeze()\n",
        "    attention_mask = tokens[\"attention_mask\"].squeeze()\n",
        "    \n",
        "    # Replace -100 in the labels tensor with the original token ID for non-masked tokens\n",
        "    labels = input_ids.clone().detach()\n",
        "    labels[labels != tokenizer.mask_token_id] = -100\n",
        "\n",
        "    return {\n",
        "        \"input_ids\": torch.tensor(input_ids),\n",
        "        \"attention_mask\": torch.tensor(attention_mask),\n",
        "        \"labels\": torch.tensor(labels)\n",
        "    }\n",
        "\n",
        "prepared_data = [tokenize_and_prepare(sentence) for sentence in masked_sentences]"
      ],
      "metadata": {
        "colab": {
          "base_uri": "https://localhost:8080/"
        },
        "id": "rmmBjQJoQ4_9",
        "outputId": "d0ad8763-aafe-4b34-eb73-f4aff6c56e4c"
      },
      "execution_count": null,
      "outputs": [
        {
          "output_type": "stream",
          "name": "stderr",
          "text": [
            "<ipython-input-26-26dd7da2b118>:11: UserWarning: To copy construct from a tensor, it is recommended to use sourceTensor.clone().detach() or sourceTensor.clone().detach().requires_grad_(True), rather than torch.tensor(sourceTensor).\n",
            "  \"input_ids\": torch.tensor(input_ids),\n",
            "<ipython-input-26-26dd7da2b118>:12: UserWarning: To copy construct from a tensor, it is recommended to use sourceTensor.clone().detach() or sourceTensor.clone().detach().requires_grad_(True), rather than torch.tensor(sourceTensor).\n",
            "  \"attention_mask\": torch.tensor(attention_mask),\n",
            "<ipython-input-26-26dd7da2b118>:13: UserWarning: To copy construct from a tensor, it is recommended to use sourceTensor.clone().detach() or sourceTensor.clone().detach().requires_grad_(True), rather than torch.tensor(sourceTensor).\n",
            "  \"labels\": torch.tensor(labels)\n"
          ]
        }
      ]
    },
    {
      "cell_type": "code",
      "source": [
        "import pickle\n",
        "\n",
        "with open(path + \"/prepared_data.pkl\", \"wb\") as file:\n",
        "    pickle.dump(prepared_data, file)"
      ],
      "metadata": {
        "id": "wCVtjqjlRQu6"
      },
      "execution_count": null,
      "outputs": []
    },
    {
      "cell_type": "code",
      "source": [
        "with open(path + \"/prepared_data.pkl\", \"rb\") as file:\n",
        "    loaded_prepared_data = pickle.load(file)"
      ],
      "metadata": {
        "id": "6WiMvxNZSXio"
      },
      "execution_count": null,
      "outputs": []
    },
    {
      "cell_type": "code",
      "source": [
        "tokenizer = BertTokenizer.from_pretrained(\"bert-base-uncased\")\n",
        "model = BertForMaskedLM.from_pretrained(\"bert-base-uncased\")"
      ],
      "metadata": {
        "colab": {
          "base_uri": "https://localhost:8080/"
        },
        "id": "Ksw4tOLf_8di",
        "outputId": "02623f6e-0d5a-4fff-be97-6260bb3f6fde"
      },
      "execution_count": null,
      "outputs": [
        {
          "output_type": "stream",
          "name": "stderr",
          "text": [
            "Some weights of the model checkpoint at bert-base-uncased were not used when initializing BertForMaskedLM: ['cls.seq_relationship.bias', 'cls.seq_relationship.weight']\n",
            "- This IS expected if you are initializing BertForMaskedLM from the checkpoint of a model trained on another task or with another architecture (e.g. initializing a BertForSequenceClassification model from a BertForPreTraining model).\n",
            "- This IS NOT expected if you are initializing BertForMaskedLM from the checkpoint of a model that you expect to be exactly identical (initializing a BertForSequenceClassification model from a BertForSequenceClassification model).\n"
          ]
        }
      ]
    },
    {
      "cell_type": "code",
      "source": [
        "import torch.nn.functional as F\n",
        "from transformers import Trainer, TrainingArguments\n",
        "from datasets import Dataset\n",
        "from datasets import DatasetDict\n",
        "\n",
        "\n",
        "device = torch.device('cuda' if torch.cuda.is_available() else 'cpu')\n",
        "\n",
        "def custom_loss(outputs, labels, undesirable_token_ids, penalty_weight=10.0):\n",
        "    logits = outputs.logits\n",
        "    loss = F.cross_entropy(logits.view(-1, logits.shape[-1]), labels.view(-1), ignore_index=-100)\n",
        "\n",
        "    # Compute the penalty mask using torch.isin()\n",
        "    predicted_tokens = logits.argmax(-1)\n",
        "    penalty_mask = torch.isin(predicted_tokens, torch.tensor(list(undesirable_token_ids)).to(device))\n",
        "\n",
        "    penalty = (penalty_mask * penalty_weight).sum()\n",
        "    return loss + penalty\n",
        "\n",
        "\n",
        "class CustomTrainer(Trainer):\n",
        "    def compute_loss(self, model, inputs, return_outputs=False):\n",
        "        labels = inputs.pop(\"labels\")\n",
        "        outputs = model(**inputs)\n",
        "        loss = custom_loss(outputs, labels, undesired_token_ids)\n",
        "\n",
        "        return (loss, outputs) if return_outputs else loss\n",
        "\n",
        "dataset = Dataset.from_dict({k: [d[k] for d in prepared_data] for k in prepared_data[0]})\n",
        "\n",
        "train_val_split = dataset.train_test_split(test_size=0.2)\n",
        "train_val_split = DatasetDict(train_val_split)\n",
        "\n",
        "training_args = TrainingArguments(\n",
        "    output_dir='./results',          # Output directory for the model and other artifacts\n",
        "    num_train_epochs=3,              # Total number of training epochs\n",
        "    per_device_train_batch_size=8,   # Batch size per device during training\n",
        "    per_device_eval_batch_size=8,    # Batch size for evaluation\n",
        "    warmup_steps=500,                # Number of warmup steps for learning rate scheduler\n",
        "    weight_decay=0.01,               # Strength of weight decay\n",
        "    logging_dir='./logs',            # Directory for storing logs\n",
        "    save_total_limit=3,              # Maximum number of checkpoints to keep\n",
        "    evaluation_strategy=\"steps\",     # Evaluation strategy (steps or epoch)\n",
        "    eval_steps=100,                  # Evaluate the model every 100 steps\n",
        "    logging_steps=10,                # Log the training progress every 10 steps\n",
        ")\n",
        "\n",
        "custom_trainer = CustomTrainer(\n",
        "    model=model,\n",
        "    args=training_args,\n",
        "    train_dataset=train_val_split['train'],\n",
        "    eval_dataset=train_val_split['test'],\n",
        "    tokenizer=tokenizer\n",
        ")\n",
        "\n",
        "custom_trainer.train()"
      ],
      "metadata": {
        "colab": {
          "base_uri": "https://localhost:8080/",
          "height": 1000
        },
        "id": "avI91NJMCsIL",
        "outputId": "b7d19084-3680-4512-ac15-c04f67561a30"
      },
      "execution_count": null,
      "outputs": [
        {
          "output_type": "stream",
          "name": "stderr",
          "text": [
            "/usr/local/lib/python3.9/dist-packages/transformers/optimization.py:391: FutureWarning: This implementation of AdamW is deprecated and will be removed in a future version. Use the PyTorch implementation torch.optim.AdamW instead, or set `no_deprecation_warning=True` to disable this warning\n",
            "  warnings.warn(\n"
          ]
        },
        {
          "output_type": "display_data",
          "data": {
            "text/plain": [
              "<IPython.core.display.HTML object>"
            ],
            "text/html": [
              "\n",
              "    <div>\n",
              "      \n",
              "      <progress value='3969' max='3969' style='width:300px; height:20px; vertical-align: middle;'></progress>\n",
              "      [3969/3969 31:13, Epoch 3/3]\n",
              "    </div>\n",
              "    <table border=\"1\" class=\"dataframe\">\n",
              "  <thead>\n",
              " <tr style=\"text-align: left;\">\n",
              "      <th>Step</th>\n",
              "      <th>Training Loss</th>\n",
              "      <th>Validation Loss</th>\n",
              "    </tr>\n",
              "  </thead>\n",
              "  <tbody>\n",
              "    <tr>\n",
              "      <td>100</td>\n",
              "      <td>0.036400</td>\n",
              "      <td>0.016333</td>\n",
              "    </tr>\n",
              "    <tr>\n",
              "      <td>200</td>\n",
              "      <td>0.002600</td>\n",
              "      <td>0.001305</td>\n",
              "    </tr>\n",
              "    <tr>\n",
              "      <td>300</td>\n",
              "      <td>0.000900</td>\n",
              "      <td>0.000420</td>\n",
              "    </tr>\n",
              "    <tr>\n",
              "      <td>400</td>\n",
              "      <td>0.000400</td>\n",
              "      <td>0.000170</td>\n",
              "    </tr>\n",
              "    <tr>\n",
              "      <td>500</td>\n",
              "      <td>0.000200</td>\n",
              "      <td>0.000074</td>\n",
              "    </tr>\n",
              "    <tr>\n",
              "      <td>600</td>\n",
              "      <td>0.000100</td>\n",
              "      <td>0.000034</td>\n",
              "    </tr>\n",
              "    <tr>\n",
              "      <td>700</td>\n",
              "      <td>0.000100</td>\n",
              "      <td>0.000017</td>\n",
              "    </tr>\n",
              "    <tr>\n",
              "      <td>800</td>\n",
              "      <td>0.000100</td>\n",
              "      <td>0.000009</td>\n",
              "    </tr>\n",
              "    <tr>\n",
              "      <td>900</td>\n",
              "      <td>0.000000</td>\n",
              "      <td>0.000004</td>\n",
              "    </tr>\n",
              "    <tr>\n",
              "      <td>1000</td>\n",
              "      <td>0.000000</td>\n",
              "      <td>0.000003</td>\n",
              "    </tr>\n",
              "    <tr>\n",
              "      <td>1100</td>\n",
              "      <td>0.000000</td>\n",
              "      <td>0.000002</td>\n",
              "    </tr>\n",
              "    <tr>\n",
              "      <td>1200</td>\n",
              "      <td>0.000000</td>\n",
              "      <td>0.000001</td>\n",
              "    </tr>\n",
              "    <tr>\n",
              "      <td>1300</td>\n",
              "      <td>0.000000</td>\n",
              "      <td>0.000001</td>\n",
              "    </tr>\n",
              "    <tr>\n",
              "      <td>1400</td>\n",
              "      <td>0.000200</td>\n",
              "      <td>0.000077</td>\n",
              "    </tr>\n",
              "    <tr>\n",
              "      <td>1500</td>\n",
              "      <td>0.000100</td>\n",
              "      <td>0.000024</td>\n",
              "    </tr>\n",
              "    <tr>\n",
              "      <td>1600</td>\n",
              "      <td>0.000000</td>\n",
              "      <td>0.000016</td>\n",
              "    </tr>\n",
              "    <tr>\n",
              "      <td>1700</td>\n",
              "      <td>0.000000</td>\n",
              "      <td>0.000012</td>\n",
              "    </tr>\n",
              "    <tr>\n",
              "      <td>1800</td>\n",
              "      <td>0.000000</td>\n",
              "      <td>0.000009</td>\n",
              "    </tr>\n",
              "    <tr>\n",
              "      <td>1900</td>\n",
              "      <td>0.000000</td>\n",
              "      <td>0.000007</td>\n",
              "    </tr>\n",
              "    <tr>\n",
              "      <td>2000</td>\n",
              "      <td>0.000000</td>\n",
              "      <td>0.000006</td>\n",
              "    </tr>\n",
              "    <tr>\n",
              "      <td>2100</td>\n",
              "      <td>0.000000</td>\n",
              "      <td>0.000005</td>\n",
              "    </tr>\n",
              "    <tr>\n",
              "      <td>2200</td>\n",
              "      <td>0.000000</td>\n",
              "      <td>0.000004</td>\n",
              "    </tr>\n",
              "    <tr>\n",
              "      <td>2300</td>\n",
              "      <td>0.000000</td>\n",
              "      <td>0.000003</td>\n",
              "    </tr>\n",
              "    <tr>\n",
              "      <td>2400</td>\n",
              "      <td>0.000000</td>\n",
              "      <td>0.000003</td>\n",
              "    </tr>\n",
              "    <tr>\n",
              "      <td>2500</td>\n",
              "      <td>0.000000</td>\n",
              "      <td>0.000002</td>\n",
              "    </tr>\n",
              "    <tr>\n",
              "      <td>2600</td>\n",
              "      <td>0.000000</td>\n",
              "      <td>0.000002</td>\n",
              "    </tr>\n",
              "    <tr>\n",
              "      <td>2700</td>\n",
              "      <td>0.000000</td>\n",
              "      <td>0.000002</td>\n",
              "    </tr>\n",
              "    <tr>\n",
              "      <td>2800</td>\n",
              "      <td>0.000000</td>\n",
              "      <td>0.000001</td>\n",
              "    </tr>\n",
              "    <tr>\n",
              "      <td>2900</td>\n",
              "      <td>0.000000</td>\n",
              "      <td>0.000001</td>\n",
              "    </tr>\n",
              "    <tr>\n",
              "      <td>3000</td>\n",
              "      <td>0.000000</td>\n",
              "      <td>0.000001</td>\n",
              "    </tr>\n",
              "    <tr>\n",
              "      <td>3100</td>\n",
              "      <td>0.000000</td>\n",
              "      <td>0.000001</td>\n",
              "    </tr>\n",
              "    <tr>\n",
              "      <td>3200</td>\n",
              "      <td>0.000000</td>\n",
              "      <td>0.000000</td>\n",
              "    </tr>\n",
              "    <tr>\n",
              "      <td>3300</td>\n",
              "      <td>0.000000</td>\n",
              "      <td>0.000000</td>\n",
              "    </tr>\n",
              "    <tr>\n",
              "      <td>3400</td>\n",
              "      <td>0.000000</td>\n",
              "      <td>0.000000</td>\n",
              "    </tr>\n",
              "    <tr>\n",
              "      <td>3500</td>\n",
              "      <td>0.000000</td>\n",
              "      <td>0.000000</td>\n",
              "    </tr>\n",
              "    <tr>\n",
              "      <td>3600</td>\n",
              "      <td>0.000000</td>\n",
              "      <td>0.000000</td>\n",
              "    </tr>\n",
              "    <tr>\n",
              "      <td>3700</td>\n",
              "      <td>0.000000</td>\n",
              "      <td>0.000000</td>\n",
              "    </tr>\n",
              "    <tr>\n",
              "      <td>3800</td>\n",
              "      <td>0.000000</td>\n",
              "      <td>0.000000</td>\n",
              "    </tr>\n",
              "    <tr>\n",
              "      <td>3900</td>\n",
              "      <td>0.000000</td>\n",
              "      <td>0.000000</td>\n",
              "    </tr>\n",
              "  </tbody>\n",
              "</table><p>"
            ]
          },
          "metadata": {}
        },
        {
          "output_type": "execute_result",
          "data": {
            "text/plain": [
              "TrainOutput(global_step=3969, training_loss=0.1675969316562506, metrics={'train_runtime': 1873.4259, 'train_samples_per_second': 16.947, 'train_steps_per_second': 2.119, 'total_flos': 2089122400396800.0, 'train_loss': 0.1675969316562506, 'epoch': 3.0})"
            ]
          },
          "metadata": {},
          "execution_count": 34
        }
      ]
    },
    {
      "cell_type": "code",
      "source": [
        "model.save_pretrained(path + \"/fine_tuned_model\")\n",
        "tokenizer.save_pretrained(path + \"/fine_tuned_model\")"
      ],
      "metadata": {
        "colab": {
          "base_uri": "https://localhost:8080/"
        },
        "id": "PeYH9LOkJm-8",
        "outputId": "98950258-b627-4dcd-b548-01723e248d14"
      },
      "execution_count": null,
      "outputs": [
        {
          "output_type": "execute_result",
          "data": {
            "text/plain": [
              "('/content/drive/MyDrive/CSCI544_NLP_Project-transfering_to_asus_lappy/finetuning/data/fine_tuned_model/tokenizer_config.json',\n",
              " '/content/drive/MyDrive/CSCI544_NLP_Project-transfering_to_asus_lappy/finetuning/data/fine_tuned_model/special_tokens_map.json',\n",
              " '/content/drive/MyDrive/CSCI544_NLP_Project-transfering_to_asus_lappy/finetuning/data/fine_tuned_model/vocab.txt',\n",
              " '/content/drive/MyDrive/CSCI544_NLP_Project-transfering_to_asus_lappy/finetuning/data/fine_tuned_model/added_tokens.json')"
            ]
          },
          "metadata": {},
          "execution_count": 35
        }
      ]
    },
    {
      "cell_type": "code",
      "source": [
        "from datasets import DatasetDict\n",
        "\n",
        "\n",
        "train_val_split = dataset.train_test_split(test_size=0.2)\n",
        "train_val_split = DatasetDict(train_val_split)"
      ],
      "metadata": {
        "id": "s8BU7IcqH90U"
      },
      "execution_count": null,
      "outputs": []
    },
    {
      "cell_type": "code",
      "source": [
        "train_val_split"
      ],
      "metadata": {
        "colab": {
          "base_uri": "https://localhost:8080/"
        },
        "id": "yAg1BPs_IN5b",
        "outputId": "5c76b169-45ac-46e5-c02f-c72a5b9a87dd"
      },
      "execution_count": null,
      "outputs": [
        {
          "output_type": "execute_result",
          "data": {
            "text/plain": [
              "DatasetDict({\n",
              "    train: Dataset({\n",
              "        features: ['input_ids', 'attention_mask', 'labels'],\n",
              "        num_rows: 10583\n",
              "    })\n",
              "    test: Dataset({\n",
              "        features: ['input_ids', 'attention_mask', 'labels'],\n",
              "        num_rows: 2646\n",
              "    })\n",
              "})"
            ]
          },
          "metadata": {},
          "execution_count": 33
        }
      ]
    },
    {
      "cell_type": "code",
      "source": [
        "from transformers import BertForMaskedLM, BertTokenizer, BertConfig, Trainer, TrainingArguments\n",
        "from torch.optim import AdamW\n",
        "from torch.utils.data import DataLoader\n",
        "import torch\n",
        "from datasets import Dataset\n",
        "from datasets import DatasetDict\n",
        "\n",
        "# dataset = Dataset.from_dict({k: torch.tensor([d[k] for d in prepared_data]) for k in prepared_data[0]})\n",
        "dataset = Dataset.from_dict({k: [d[k] for d in prepared_data] for k in prepared_data[0]})\n",
        "print(dataset)\n",
        "train_val_split = dataset.train_test_split(test_size=0.2)\n",
        "train_val_split = DatasetDict(train_val_split)\n",
        "\n",
        "dataloader = DataLoader(dataset, batch_size=8, shuffle=True)\n",
        "\n",
        "device = torch.device(\"cuda\" if torch.cuda.is_available() else \"cpu\")\n",
        "model.to(device)\n",
        "\n",
        "optimizer = AdamW(model.parameters(), lr=5e-5)\n",
        "\n",
        "num_epochs = 3\n",
        "undesired_token_weight = 100  # You can set a higher value to penalize the undesired tokens more\n",
        "\n",
        "for epoch in range(num_epochs):\n",
        "    model.train()\n",
        "    for batch in dataloader:\n",
        "        optimizer.zero_grad()\n",
        "\n",
        "        print(batch['input_ids'])\n",
        "        print(batch)\n",
        "        input_ids = batch[\"input_ids\"].to(device)\n",
        "        attention_mask = batch[\"attention_mask\"].to(device)\n",
        "        labels = batch[\"labels\"].to(device)\n",
        "\n",
        "        outputs = model(input_ids, attention_mask=attention_mask, labels=labels)\n",
        "        loss = outputs.loss\n",
        "\n",
        "        # Modify the loss for undesired tokens\n",
        "        logits = outputs.logits\n",
        "        for undesired_token_id in undesired_token_ids:\n",
        "            undesired_mask = (labels == undesired_token_id).float()\n",
        "            undesired_loss = torch.sum(logits * undesired_mask, dim=-1)\n",
        "            loss += undesired_token_weight * undesired_loss\n",
        "\n",
        "        loss.backward()\n",
        "        optimizer.step()\n",
        "\n",
        "    print(f\"Epoch {epoch + 1}/{num_epochs}: Loss = {loss.item()}\")"
      ],
      "metadata": {
        "colab": {
          "base_uri": "https://localhost:8080/",
          "height": 351
        },
        "id": "b691KmLJOJMx",
        "outputId": "37247585-f35f-4f32-850f-c43c3756bb35"
      },
      "execution_count": null,
      "outputs": [
        {
          "output_type": "error",
          "ename": "TypeError",
          "evalue": "ignored",
          "traceback": [
            "\u001b[0;31m---------------------------------------------------------------------------\u001b[0m",
            "\u001b[0;31mTypeError\u001b[0m                                 Traceback (most recent call last)",
            "\u001b[0;32m<ipython-input-65-56831e50cd2f>\u001b[0m in \u001b[0;36m<cell line: 8>\u001b[0;34m()\u001b[0m\n\u001b[1;32m      6\u001b[0m \u001b[0;32mfrom\u001b[0m \u001b[0mdatasets\u001b[0m \u001b[0;32mimport\u001b[0m \u001b[0mDatasetDict\u001b[0m\u001b[0;34m\u001b[0m\u001b[0;34m\u001b[0m\u001b[0m\n\u001b[1;32m      7\u001b[0m \u001b[0;34m\u001b[0m\u001b[0m\n\u001b[0;32m----> 8\u001b[0;31m \u001b[0mdataset\u001b[0m \u001b[0;34m=\u001b[0m \u001b[0mDataset\u001b[0m\u001b[0;34m.\u001b[0m\u001b[0mfrom_dict\u001b[0m\u001b[0;34m(\u001b[0m\u001b[0;34m{\u001b[0m\u001b[0mk\u001b[0m\u001b[0;34m:\u001b[0m \u001b[0mtorch\u001b[0m\u001b[0;34m.\u001b[0m\u001b[0mtensor\u001b[0m\u001b[0;34m(\u001b[0m\u001b[0;34m[\u001b[0m\u001b[0md\u001b[0m\u001b[0;34m[\u001b[0m\u001b[0mk\u001b[0m\u001b[0;34m]\u001b[0m \u001b[0;32mfor\u001b[0m \u001b[0md\u001b[0m \u001b[0;32min\u001b[0m \u001b[0mprepared_data\u001b[0m\u001b[0;34m]\u001b[0m\u001b[0;34m)\u001b[0m \u001b[0;32mfor\u001b[0m \u001b[0mk\u001b[0m \u001b[0;32min\u001b[0m \u001b[0mprepared_data\u001b[0m\u001b[0;34m[\u001b[0m\u001b[0;36m0\u001b[0m\u001b[0;34m]\u001b[0m\u001b[0;34m}\u001b[0m\u001b[0;34m)\u001b[0m\u001b[0;34m\u001b[0m\u001b[0;34m\u001b[0m\u001b[0m\n\u001b[0m\u001b[1;32m      9\u001b[0m \u001b[0;31m# dataset = Dataset.from_dict({k: [d[k] for d in prepared_data] for k in prepared_data[0]})\u001b[0m\u001b[0;34m\u001b[0m\u001b[0;34m\u001b[0m\u001b[0m\n\u001b[1;32m     10\u001b[0m \u001b[0mprint\u001b[0m\u001b[0;34m(\u001b[0m\u001b[0mdataset\u001b[0m\u001b[0;34m)\u001b[0m\u001b[0;34m\u001b[0m\u001b[0;34m\u001b[0m\u001b[0m\n",
            "\u001b[0;32m<ipython-input-65-56831e50cd2f>\u001b[0m in \u001b[0;36m<dictcomp>\u001b[0;34m(.0)\u001b[0m\n\u001b[1;32m      6\u001b[0m \u001b[0;32mfrom\u001b[0m \u001b[0mdatasets\u001b[0m \u001b[0;32mimport\u001b[0m \u001b[0mDatasetDict\u001b[0m\u001b[0;34m\u001b[0m\u001b[0;34m\u001b[0m\u001b[0m\n\u001b[1;32m      7\u001b[0m \u001b[0;34m\u001b[0m\u001b[0m\n\u001b[0;32m----> 8\u001b[0;31m \u001b[0mdataset\u001b[0m \u001b[0;34m=\u001b[0m \u001b[0mDataset\u001b[0m\u001b[0;34m.\u001b[0m\u001b[0mfrom_dict\u001b[0m\u001b[0;34m(\u001b[0m\u001b[0;34m{\u001b[0m\u001b[0mk\u001b[0m\u001b[0;34m:\u001b[0m \u001b[0mtorch\u001b[0m\u001b[0;34m.\u001b[0m\u001b[0mtensor\u001b[0m\u001b[0;34m(\u001b[0m\u001b[0;34m[\u001b[0m\u001b[0md\u001b[0m\u001b[0;34m[\u001b[0m\u001b[0mk\u001b[0m\u001b[0;34m]\u001b[0m \u001b[0;32mfor\u001b[0m \u001b[0md\u001b[0m \u001b[0;32min\u001b[0m \u001b[0mprepared_data\u001b[0m\u001b[0;34m]\u001b[0m\u001b[0;34m)\u001b[0m \u001b[0;32mfor\u001b[0m \u001b[0mk\u001b[0m \u001b[0;32min\u001b[0m \u001b[0mprepared_data\u001b[0m\u001b[0;34m[\u001b[0m\u001b[0;36m0\u001b[0m\u001b[0;34m]\u001b[0m\u001b[0;34m}\u001b[0m\u001b[0;34m)\u001b[0m\u001b[0;34m\u001b[0m\u001b[0;34m\u001b[0m\u001b[0m\n\u001b[0m\u001b[1;32m      9\u001b[0m \u001b[0;31m# dataset = Dataset.from_dict({k: [d[k] for d in prepared_data] for k in prepared_data[0]})\u001b[0m\u001b[0;34m\u001b[0m\u001b[0;34m\u001b[0m\u001b[0m\n\u001b[1;32m     10\u001b[0m \u001b[0mprint\u001b[0m\u001b[0;34m(\u001b[0m\u001b[0mdataset\u001b[0m\u001b[0;34m)\u001b[0m\u001b[0;34m\u001b[0m\u001b[0;34m\u001b[0m\u001b[0m\n",
            "\u001b[0;31mTypeError\u001b[0m: only integer tensors of a single element can be converted to an index"
          ]
        }
      ]
    },
    {
      "cell_type": "code",
      "source": [],
      "metadata": {
        "id": "xSDG7lFnSVmk"
      },
      "execution_count": null,
      "outputs": []
    },
    {
      "cell_type": "code",
      "execution_count": null,
      "metadata": {
        "id": "RQSVKh8T6bgJ",
        "outputId": "2ca45f89-75cf-40f0-d4d1-e05845d3efb2"
      },
      "outputs": [
        {
          "name": "stderr",
          "output_type": "stream",
          "text": [
            "Some weights of the model checkpoint at bert-base-uncased were not used when initializing BertForMaskedLM: ['cls.seq_relationship.bias', 'cls.seq_relationship.weight']\n",
            "- This IS expected if you are initializing BertForMaskedLM from the checkpoint of a model trained on another task or with another architecture (e.g. initializing a BertForSequenceClassification model from a BertForPreTraining model).\n",
            "- This IS NOT expected if you are initializing BertForMaskedLM from the checkpoint of a model that you expect to be exactly identical (initializing a BertForSequenceClassification model from a BertForSequenceClassification model).\n",
            "100%|██████████| 100/100 [00:15<00:00,  6.52it/s]\n"
          ]
        },
        {
          "name": "stdout",
          "output_type": "stream",
          "text": [
            "Epoch 1 loss: 8.4241\n"
          ]
        },
        {
          "name": "stderr",
          "output_type": "stream",
          "text": [
            "100%|██████████| 100/100 [00:15<00:00,  6.42it/s]\n"
          ]
        },
        {
          "name": "stdout",
          "output_type": "stream",
          "text": [
            "Epoch 2 loss: 0.4234\n"
          ]
        },
        {
          "name": "stderr",
          "output_type": "stream",
          "text": [
            "100%|██████████| 100/100 [00:15<00:00,  6.51it/s]\n"
          ]
        },
        {
          "name": "stdout",
          "output_type": "stream",
          "text": [
            "Epoch 3 loss: 0.1480\n"
          ]
        },
        {
          "name": "stderr",
          "output_type": "stream",
          "text": [
            "100%|██████████| 100/100 [00:15<00:00,  6.51it/s]\n"
          ]
        },
        {
          "name": "stdout",
          "output_type": "stream",
          "text": [
            "Epoch 4 loss: 0.1060\n"
          ]
        },
        {
          "name": "stderr",
          "output_type": "stream",
          "text": [
            "100%|██████████| 100/100 [00:15<00:00,  6.52it/s]\n"
          ]
        },
        {
          "name": "stdout",
          "output_type": "stream",
          "text": [
            "Epoch 5 loss: 0.0874\n"
          ]
        },
        {
          "name": "stderr",
          "output_type": "stream",
          "text": [
            "100%|██████████| 100/100 [00:15<00:00,  6.48it/s]\n"
          ]
        },
        {
          "name": "stdout",
          "output_type": "stream",
          "text": [
            "Epoch 6 loss: 0.0770\n"
          ]
        },
        {
          "name": "stderr",
          "output_type": "stream",
          "text": [
            "100%|██████████| 100/100 [00:16<00:00,  6.21it/s]\n"
          ]
        },
        {
          "name": "stdout",
          "output_type": "stream",
          "text": [
            "Epoch 7 loss: 0.0706\n"
          ]
        },
        {
          "name": "stderr",
          "output_type": "stream",
          "text": [
            "100%|██████████| 100/100 [00:16<00:00,  6.24it/s]\n"
          ]
        },
        {
          "name": "stdout",
          "output_type": "stream",
          "text": [
            "Epoch 8 loss: 0.0664\n"
          ]
        },
        {
          "name": "stderr",
          "output_type": "stream",
          "text": [
            "100%|██████████| 100/100 [00:16<00:00,  6.20it/s]\n"
          ]
        },
        {
          "name": "stdout",
          "output_type": "stream",
          "text": [
            "Epoch 9 loss: 0.0635\n"
          ]
        },
        {
          "name": "stderr",
          "output_type": "stream",
          "text": [
            "100%|██████████| 100/100 [00:16<00:00,  6.25it/s]"
          ]
        },
        {
          "name": "stdout",
          "output_type": "stream",
          "text": [
            "Epoch 10 loss: 0.0614\n"
          ]
        },
        {
          "name": "stderr",
          "output_type": "stream",
          "text": [
            "\n"
          ]
        }
      ],
      "source": [
        "device = torch.device(\"cuda\" if torch.cuda.is_available() else \"cpu\")\n",
        "# Define a list of words that the model should not predict\n",
        "\n",
        "# Load a pre-trained BERT model and tokenizer\n",
        "model = BertForMaskedLM.from_pretrained('bert-base-uncased')\n",
        "model = model.to(device)\n",
        "tokenizer = BertTokenizer.from_pretrained('bert-base-uncased')\n",
        "\n",
        "# Define the optimizer and loss function for fine-tuning\n",
        "optimizer = torch.optim.Adam(model.parameters(), lr=1e-5)\n",
        "criterion = torch.nn.CrossEntropyLoss()\n",
        "\n",
        "# Define a list of input sentences and labels\n",
        "# sentences = input_sentences[:100]\n",
        "sentences = input_sentences\n",
        "\n",
        "labels = []\n",
        "for sentence in sentences:\n",
        "    label_sentence = []\n",
        "    try:\n",
        "        if len(sentence)>1:\n",
        "            sentence = sentence.split()\n",
        "        for word in sentence:\n",
        "            if word in not_predict:\n",
        "                label_sentence.append(0)\n",
        "            else:\n",
        "                label_sentence.append(1)\n",
        "        labels.append(label_sentence)\n",
        "    except:\n",
        "        print(sentence)\n",
        "\n",
        "\n",
        "# Convert the input sentences to input features\n",
        "input_features = []\n",
        "for sentence in sentences:\n",
        "    # Tokenize the input sentence\n",
        "    tokenized_sentence = tokenizer.encode(sentence, add_special_tokens=True)\n",
        "    # Create a list of labels for each token in the input sentence\n",
        "    sentence_labels = []\n",
        "    for token in tokenized_sentence:\n",
        "        word = tokenizer.decode([token]).strip()\n",
        "        if word in not_predict:\n",
        "            sentence_labels.append(0)  # label 0 for blacklisted words\n",
        "        else:\n",
        "            sentence_labels.append(1)  # label 1 for other words\n",
        "    # Append the input features and labels to the input_features list\n",
        "    input_features.append((torch.tensor(tokenized_sentence).to(device), torch.tensor(sentence_labels).to(device)))\n",
        "\n",
        "# Fine-tune the BERT model on the input features and labels\n",
        "for epoch in range(10):\n",
        "    running_loss = 0.0\n",
        "    for input_ids, labels in tqdm(input_features):\n",
        "        optimizer.zero_grad()\n",
        "        outputs = model(input_ids.unsqueeze(0), labels=labels.unsqueeze(0))\n",
        "        loss, prediction_scores = outputs[:2]\n",
        "        loss.backward()\n",
        "        optimizer.step()\n",
        "        running_loss += loss.item()\n",
        "    print(\"Epoch {} loss: {:.4f}\".format(epoch+1, running_loss/len(input_features)))\n",
        "\n",
        "\n"
      ]
    },
    {
      "cell_type": "code",
      "execution_count": null,
      "metadata": {
        "id": "ZbrRplYU6bgL",
        "outputId": "bbb15b9b-7b71-4190-8cef-44c1663681e3"
      },
      "outputs": [
        {
          "name": "stdout",
          "output_type": "stream",
          "text": [
            "tensor([  101,  2182,  3310,  1996,  2927,  1997,  2178,  8239, 19396,   102],\n",
            "       device='cuda:0')\n",
            "MaskedLMOutput(loss=None, logits=tensor([[[15.3306, 19.9276,  8.0185,  ...,  7.0004,  4.2338,  3.4028],\n",
            "         [15.1143, 19.7127,  7.7288,  ...,  6.8165,  4.2824,  3.0219],\n",
            "         [15.0954, 19.6774,  7.7642,  ...,  6.8457,  4.3665,  3.0776],\n",
            "         ...,\n",
            "         [15.2913, 19.8027,  7.8640,  ...,  6.9566,  4.3831,  3.1447],\n",
            "         [15.4877, 20.0838,  8.1257,  ...,  7.0895,  4.6768,  3.3599],\n",
            "         [14.0324, 18.7651,  6.8386,  ...,  6.1382,  3.7032,  2.3645]]],\n",
            "       device='cuda:0'), hidden_states=None, attentions=None)\n",
            "[1, 1, 1, 1, 1, 1, 1, 1, 1, 1]\n",
            "Input sentence: here comes the beginning of another fucking recession\n",
            "Predicted words: ['[unused0]', '[unused0]', '[unused0]', '[unused0]', '[unused0]', '[unused0]', '[unused0]', '[unused0]', '[unused0]', '[unused0]']\n",
            "tensor([  101,  2002, 15646,  1037,  8239,  4589, 10869,  1012,   102],\n",
            "       device='cuda:0')\n",
            "MaskedLMOutput(loss=None, logits=tensor([[[14.6580, 19.4187,  7.5962,  ...,  6.7878,  3.8052,  3.8945],\n",
            "         [14.6751, 19.3936,  7.4624,  ...,  6.6313,  4.0498,  3.4757],\n",
            "         [15.1141, 19.7990,  7.8611,  ...,  6.8948,  4.3322,  3.7253],\n",
            "         ...,\n",
            "         [15.0091, 19.7011,  7.7563,  ...,  6.8666,  4.4595,  3.8075],\n",
            "         [14.6008, 19.2695,  7.3239,  ...,  6.3845,  4.1873,  3.5765],\n",
            "         [13.9999, 18.7947,  6.8867,  ...,  6.2552,  3.8707,  3.0423]]],\n",
            "       device='cuda:0'), hidden_states=None, attentions=None)\n",
            "[1, 1, 1, 1, 1, 1, 1, 1, 1]\n",
            "Input sentence: he enjoys a fucking orange juice.\n",
            "Predicted words: ['[unused0]', '[unused0]', '[unused0]', '[unused0]', '[unused0]', '[unused0]', '[unused0]', '[unused0]', '[unused0]']\n",
            "tensor([  101,  2016,  4149,  2070, 28124,  2012,  1996,  3573,  1012,   102],\n",
            "       device='cuda:0')\n",
            "MaskedLMOutput(loss=None, logits=tensor([[[14.4178, 19.2180,  7.4740,  ...,  6.3044,  3.5469,  3.1269],\n",
            "         [14.8783, 19.5937,  7.8334,  ...,  6.5667,  4.3491,  3.6113],\n",
            "         [14.8229, 19.5490,  7.7140,  ...,  6.3990,  4.1937,  3.2658],\n",
            "         ...,\n",
            "         [15.1305, 19.8484,  8.1072,  ...,  6.8703,  4.5682,  3.5282],\n",
            "         [14.1797, 18.8866,  7.0347,  ...,  5.8291,  3.8420,  3.0426],\n",
            "         [13.9314, 18.7178,  6.9650,  ...,  6.0292,  3.8929,  2.5687]]],\n",
            "       device='cuda:0'), hidden_states=None, attentions=None)\n",
            "[1, 1, 1, 1, 1, 1, 1, 1, 1, 1]\n",
            "Input sentence: she bought some nipples at the store.\n",
            "Predicted words: ['[unused0]', '[unused0]', '[unused0]', '[unused0]', '[unused0]', '[unused0]', '[unused0]', '[unused0]', '[unused0]', '[unused0]']\n",
            "tensor([  101,  2057,  2253,  2000,  1996,  2380,  2000,  2377, 26476,  1012,\n",
            "          102], device='cuda:0')\n",
            "MaskedLMOutput(loss=None, logits=tensor([[[13.7878, 18.6534,  6.7157,  ...,  5.7745,  3.0234,  3.2597],\n",
            "         [13.9140, 18.7420,  6.7661,  ...,  5.7691,  3.4886,  2.9077],\n",
            "         [13.6453, 18.4818,  6.4408,  ...,  5.4809,  3.2467,  2.5772],\n",
            "         ...,\n",
            "         [14.5912, 19.3682,  7.3927,  ...,  6.2826,  4.1170,  3.3781],\n",
            "         [13.6103, 18.4150,  6.3780,  ...,  5.3789,  3.5239,  3.0233],\n",
            "         [13.0858, 17.9237,  6.0493,  ...,  5.2628,  3.2758,  2.3415]]],\n",
            "       device='cuda:0'), hidden_states=None, attentions=None)\n",
            "[1, 1, 1, 1, 1, 1, 1, 1, 1, 1, 1]\n",
            "Input sentence: we went to the park to play sucker.\n",
            "Predicted words: ['[unused0]', '[unused0]', '[unused0]', '[unused0]', '[unused0]', '[unused0]', '[unused0]', '[unused0]', '[unused0]', '[unused0]', '[unused0]']\n"
          ]
        }
      ],
      "source": [
        "# Evaluate the fine-tuned model on some example input sentences\n",
        "test_sentences = [\n",
        "    \"here comes the beginning of another fucking recession\",\n",
        "    \"he enjoys a fucking orange juice.\",\n",
        "    \"she bought some nipples at the store.\",\n",
        "    \"we went to the park to play sucker.\"\n",
        "]\n",
        "for sentence in test_sentences:\n",
        "    # Tokenize the input sentence\n",
        "    tokenized_sentence = tokenizer.encode(sentence, add_special_tokens=True)\n",
        "    # Create a list of labels for each token in the input sentence\n",
        "    sentence_labels = []\n",
        "    # Convert the input sentence to a PyTorch tensor and predict the masked words\n",
        "    input_ids = torch.tensor(tokenized_sentence).to(device)\n",
        "    print(input_ids)\n",
        "    with torch.no_grad():\n",
        "        outputs = model(input_ids.unsqueeze(0))\n",
        "        print(outputs)\n",
        "        prediction_scores = outputs[0]\n",
        "    # Decode the predicted masked words and print the result\n",
        "    predicted_tokens = torch.argmax(prediction_scores, dim=-1).squeeze().tolist()\n",
        "    print(predicted_tokens)\n",
        "    predicted_words = tokenizer.decode(predicted_tokens).split()\n",
        "    print(\"Input sentence:\", sentence)\n",
        "    print(\"Predicted words:\", predicted_words)\n"
      ]
    },
    {
      "cell_type": "code",
      "execution_count": null,
      "metadata": {
        "id": "9qy08aKE6bgL"
      },
      "outputs": [],
      "source": []
    }
  ],
  "metadata": {
    "kernelspec": {
      "display_name": "csci544",
      "language": "python",
      "name": "python3"
    },
    "language_info": {
      "codemirror_mode": {
        "name": "ipython",
        "version": 3
      },
      "file_extension": ".py",
      "mimetype": "text/x-python",
      "name": "python",
      "nbconvert_exporter": "python",
      "pygments_lexer": "ipython3",
      "version": "3.9.16"
    },
    "orig_nbformat": 4,
    "colab": {
      "provenance": []
    },
    "accelerator": "GPU",
    "gpuClass": "standard",
    "widgets": {
      "application/vnd.jupyter.widget-state+json": {
        "1d77370b51f84b6c8a0298034a80f0fd": {
          "model_module": "@jupyter-widgets/controls",
          "model_name": "HBoxModel",
          "model_module_version": "1.5.0",
          "state": {
            "_dom_classes": [],
            "_model_module": "@jupyter-widgets/controls",
            "_model_module_version": "1.5.0",
            "_model_name": "HBoxModel",
            "_view_count": null,
            "_view_module": "@jupyter-widgets/controls",
            "_view_module_version": "1.5.0",
            "_view_name": "HBoxView",
            "box_style": "",
            "children": [
              "IPY_MODEL_4dcba55671a44234b854d079a2966433",
              "IPY_MODEL_c6941de58e0340e99b86d3381cc04335",
              "IPY_MODEL_b3a16a838c1a48eb8a09b6a878c9ab65"
            ],
            "layout": "IPY_MODEL_7fcd7032ab3b4bbba78229b734355562"
          }
        },
        "4dcba55671a44234b854d079a2966433": {
          "model_module": "@jupyter-widgets/controls",
          "model_name": "HTMLModel",
          "model_module_version": "1.5.0",
          "state": {
            "_dom_classes": [],
            "_model_module": "@jupyter-widgets/controls",
            "_model_module_version": "1.5.0",
            "_model_name": "HTMLModel",
            "_view_count": null,
            "_view_module": "@jupyter-widgets/controls",
            "_view_module_version": "1.5.0",
            "_view_name": "HTMLView",
            "description": "",
            "description_tooltip": null,
            "layout": "IPY_MODEL_5d6e35bef7144d24a808132f63af231c",
            "placeholder": "​",
            "style": "IPY_MODEL_6d6b438ec2d94da4bd71f8c5a6f70553",
            "value": "Downloading (…)solve/main/vocab.txt: 100%"
          }
        },
        "c6941de58e0340e99b86d3381cc04335": {
          "model_module": "@jupyter-widgets/controls",
          "model_name": "FloatProgressModel",
          "model_module_version": "1.5.0",
          "state": {
            "_dom_classes": [],
            "_model_module": "@jupyter-widgets/controls",
            "_model_module_version": "1.5.0",
            "_model_name": "FloatProgressModel",
            "_view_count": null,
            "_view_module": "@jupyter-widgets/controls",
            "_view_module_version": "1.5.0",
            "_view_name": "ProgressView",
            "bar_style": "success",
            "description": "",
            "description_tooltip": null,
            "layout": "IPY_MODEL_fa41a1a60335428d92e8b998f79ad3b5",
            "max": 231508,
            "min": 0,
            "orientation": "horizontal",
            "style": "IPY_MODEL_1d36713128aa4463a087a98a1aad1c99",
            "value": 231508
          }
        },
        "b3a16a838c1a48eb8a09b6a878c9ab65": {
          "model_module": "@jupyter-widgets/controls",
          "model_name": "HTMLModel",
          "model_module_version": "1.5.0",
          "state": {
            "_dom_classes": [],
            "_model_module": "@jupyter-widgets/controls",
            "_model_module_version": "1.5.0",
            "_model_name": "HTMLModel",
            "_view_count": null,
            "_view_module": "@jupyter-widgets/controls",
            "_view_module_version": "1.5.0",
            "_view_name": "HTMLView",
            "description": "",
            "description_tooltip": null,
            "layout": "IPY_MODEL_e4650625475a44638653bdecaedf7169",
            "placeholder": "​",
            "style": "IPY_MODEL_996fe28f0dbb45c99beefd2d440b98ec",
            "value": " 232k/232k [00:00&lt;00:00, 8.17MB/s]"
          }
        },
        "7fcd7032ab3b4bbba78229b734355562": {
          "model_module": "@jupyter-widgets/base",
          "model_name": "LayoutModel",
          "model_module_version": "1.2.0",
          "state": {
            "_model_module": "@jupyter-widgets/base",
            "_model_module_version": "1.2.0",
            "_model_name": "LayoutModel",
            "_view_count": null,
            "_view_module": "@jupyter-widgets/base",
            "_view_module_version": "1.2.0",
            "_view_name": "LayoutView",
            "align_content": null,
            "align_items": null,
            "align_self": null,
            "border": null,
            "bottom": null,
            "display": null,
            "flex": null,
            "flex_flow": null,
            "grid_area": null,
            "grid_auto_columns": null,
            "grid_auto_flow": null,
            "grid_auto_rows": null,
            "grid_column": null,
            "grid_gap": null,
            "grid_row": null,
            "grid_template_areas": null,
            "grid_template_columns": null,
            "grid_template_rows": null,
            "height": null,
            "justify_content": null,
            "justify_items": null,
            "left": null,
            "margin": null,
            "max_height": null,
            "max_width": null,
            "min_height": null,
            "min_width": null,
            "object_fit": null,
            "object_position": null,
            "order": null,
            "overflow": null,
            "overflow_x": null,
            "overflow_y": null,
            "padding": null,
            "right": null,
            "top": null,
            "visibility": null,
            "width": null
          }
        },
        "5d6e35bef7144d24a808132f63af231c": {
          "model_module": "@jupyter-widgets/base",
          "model_name": "LayoutModel",
          "model_module_version": "1.2.0",
          "state": {
            "_model_module": "@jupyter-widgets/base",
            "_model_module_version": "1.2.0",
            "_model_name": "LayoutModel",
            "_view_count": null,
            "_view_module": "@jupyter-widgets/base",
            "_view_module_version": "1.2.0",
            "_view_name": "LayoutView",
            "align_content": null,
            "align_items": null,
            "align_self": null,
            "border": null,
            "bottom": null,
            "display": null,
            "flex": null,
            "flex_flow": null,
            "grid_area": null,
            "grid_auto_columns": null,
            "grid_auto_flow": null,
            "grid_auto_rows": null,
            "grid_column": null,
            "grid_gap": null,
            "grid_row": null,
            "grid_template_areas": null,
            "grid_template_columns": null,
            "grid_template_rows": null,
            "height": null,
            "justify_content": null,
            "justify_items": null,
            "left": null,
            "margin": null,
            "max_height": null,
            "max_width": null,
            "min_height": null,
            "min_width": null,
            "object_fit": null,
            "object_position": null,
            "order": null,
            "overflow": null,
            "overflow_x": null,
            "overflow_y": null,
            "padding": null,
            "right": null,
            "top": null,
            "visibility": null,
            "width": null
          }
        },
        "6d6b438ec2d94da4bd71f8c5a6f70553": {
          "model_module": "@jupyter-widgets/controls",
          "model_name": "DescriptionStyleModel",
          "model_module_version": "1.5.0",
          "state": {
            "_model_module": "@jupyter-widgets/controls",
            "_model_module_version": "1.5.0",
            "_model_name": "DescriptionStyleModel",
            "_view_count": null,
            "_view_module": "@jupyter-widgets/base",
            "_view_module_version": "1.2.0",
            "_view_name": "StyleView",
            "description_width": ""
          }
        },
        "fa41a1a60335428d92e8b998f79ad3b5": {
          "model_module": "@jupyter-widgets/base",
          "model_name": "LayoutModel",
          "model_module_version": "1.2.0",
          "state": {
            "_model_module": "@jupyter-widgets/base",
            "_model_module_version": "1.2.0",
            "_model_name": "LayoutModel",
            "_view_count": null,
            "_view_module": "@jupyter-widgets/base",
            "_view_module_version": "1.2.0",
            "_view_name": "LayoutView",
            "align_content": null,
            "align_items": null,
            "align_self": null,
            "border": null,
            "bottom": null,
            "display": null,
            "flex": null,
            "flex_flow": null,
            "grid_area": null,
            "grid_auto_columns": null,
            "grid_auto_flow": null,
            "grid_auto_rows": null,
            "grid_column": null,
            "grid_gap": null,
            "grid_row": null,
            "grid_template_areas": null,
            "grid_template_columns": null,
            "grid_template_rows": null,
            "height": null,
            "justify_content": null,
            "justify_items": null,
            "left": null,
            "margin": null,
            "max_height": null,
            "max_width": null,
            "min_height": null,
            "min_width": null,
            "object_fit": null,
            "object_position": null,
            "order": null,
            "overflow": null,
            "overflow_x": null,
            "overflow_y": null,
            "padding": null,
            "right": null,
            "top": null,
            "visibility": null,
            "width": null
          }
        },
        "1d36713128aa4463a087a98a1aad1c99": {
          "model_module": "@jupyter-widgets/controls",
          "model_name": "ProgressStyleModel",
          "model_module_version": "1.5.0",
          "state": {
            "_model_module": "@jupyter-widgets/controls",
            "_model_module_version": "1.5.0",
            "_model_name": "ProgressStyleModel",
            "_view_count": null,
            "_view_module": "@jupyter-widgets/base",
            "_view_module_version": "1.2.0",
            "_view_name": "StyleView",
            "bar_color": null,
            "description_width": ""
          }
        },
        "e4650625475a44638653bdecaedf7169": {
          "model_module": "@jupyter-widgets/base",
          "model_name": "LayoutModel",
          "model_module_version": "1.2.0",
          "state": {
            "_model_module": "@jupyter-widgets/base",
            "_model_module_version": "1.2.0",
            "_model_name": "LayoutModel",
            "_view_count": null,
            "_view_module": "@jupyter-widgets/base",
            "_view_module_version": "1.2.0",
            "_view_name": "LayoutView",
            "align_content": null,
            "align_items": null,
            "align_self": null,
            "border": null,
            "bottom": null,
            "display": null,
            "flex": null,
            "flex_flow": null,
            "grid_area": null,
            "grid_auto_columns": null,
            "grid_auto_flow": null,
            "grid_auto_rows": null,
            "grid_column": null,
            "grid_gap": null,
            "grid_row": null,
            "grid_template_areas": null,
            "grid_template_columns": null,
            "grid_template_rows": null,
            "height": null,
            "justify_content": null,
            "justify_items": null,
            "left": null,
            "margin": null,
            "max_height": null,
            "max_width": null,
            "min_height": null,
            "min_width": null,
            "object_fit": null,
            "object_position": null,
            "order": null,
            "overflow": null,
            "overflow_x": null,
            "overflow_y": null,
            "padding": null,
            "right": null,
            "top": null,
            "visibility": null,
            "width": null
          }
        },
        "996fe28f0dbb45c99beefd2d440b98ec": {
          "model_module": "@jupyter-widgets/controls",
          "model_name": "DescriptionStyleModel",
          "model_module_version": "1.5.0",
          "state": {
            "_model_module": "@jupyter-widgets/controls",
            "_model_module_version": "1.5.0",
            "_model_name": "DescriptionStyleModel",
            "_view_count": null,
            "_view_module": "@jupyter-widgets/base",
            "_view_module_version": "1.2.0",
            "_view_name": "StyleView",
            "description_width": ""
          }
        },
        "3daf8caa926f463e9853108c6742b4a4": {
          "model_module": "@jupyter-widgets/controls",
          "model_name": "HBoxModel",
          "model_module_version": "1.5.0",
          "state": {
            "_dom_classes": [],
            "_model_module": "@jupyter-widgets/controls",
            "_model_module_version": "1.5.0",
            "_model_name": "HBoxModel",
            "_view_count": null,
            "_view_module": "@jupyter-widgets/controls",
            "_view_module_version": "1.5.0",
            "_view_name": "HBoxView",
            "box_style": "",
            "children": [
              "IPY_MODEL_2e40360ecbd84c4da5d31fcb83063ac2",
              "IPY_MODEL_d53d4e591b87498aa7bda97a7caafc6b",
              "IPY_MODEL_1190286b16a9404cbc59e14cc2e99a3f"
            ],
            "layout": "IPY_MODEL_6c0cd39a45104dffb707337aabe14841"
          }
        },
        "2e40360ecbd84c4da5d31fcb83063ac2": {
          "model_module": "@jupyter-widgets/controls",
          "model_name": "HTMLModel",
          "model_module_version": "1.5.0",
          "state": {
            "_dom_classes": [],
            "_model_module": "@jupyter-widgets/controls",
            "_model_module_version": "1.5.0",
            "_model_name": "HTMLModel",
            "_view_count": null,
            "_view_module": "@jupyter-widgets/controls",
            "_view_module_version": "1.5.0",
            "_view_name": "HTMLView",
            "description": "",
            "description_tooltip": null,
            "layout": "IPY_MODEL_2c2e2cb5bc1d4ca5966ff9ea4911e788",
            "placeholder": "​",
            "style": "IPY_MODEL_20cf3ff98857434fa2729fb6f6f60359",
            "value": "Downloading (…)okenizer_config.json: 100%"
          }
        },
        "d53d4e591b87498aa7bda97a7caafc6b": {
          "model_module": "@jupyter-widgets/controls",
          "model_name": "FloatProgressModel",
          "model_module_version": "1.5.0",
          "state": {
            "_dom_classes": [],
            "_model_module": "@jupyter-widgets/controls",
            "_model_module_version": "1.5.0",
            "_model_name": "FloatProgressModel",
            "_view_count": null,
            "_view_module": "@jupyter-widgets/controls",
            "_view_module_version": "1.5.0",
            "_view_name": "ProgressView",
            "bar_style": "success",
            "description": "",
            "description_tooltip": null,
            "layout": "IPY_MODEL_08f0419662cf4ee19170703cc94ee660",
            "max": 28,
            "min": 0,
            "orientation": "horizontal",
            "style": "IPY_MODEL_d688f0ed90cb488ab025d5cbb3f773ad",
            "value": 28
          }
        },
        "1190286b16a9404cbc59e14cc2e99a3f": {
          "model_module": "@jupyter-widgets/controls",
          "model_name": "HTMLModel",
          "model_module_version": "1.5.0",
          "state": {
            "_dom_classes": [],
            "_model_module": "@jupyter-widgets/controls",
            "_model_module_version": "1.5.0",
            "_model_name": "HTMLModel",
            "_view_count": null,
            "_view_module": "@jupyter-widgets/controls",
            "_view_module_version": "1.5.0",
            "_view_name": "HTMLView",
            "description": "",
            "description_tooltip": null,
            "layout": "IPY_MODEL_26a533ce8fdf421983ef827ac6175140",
            "placeholder": "​",
            "style": "IPY_MODEL_86ba1874b2994fbaac24d045afdd6bf2",
            "value": " 28.0/28.0 [00:00&lt;00:00, 2.05kB/s]"
          }
        },
        "6c0cd39a45104dffb707337aabe14841": {
          "model_module": "@jupyter-widgets/base",
          "model_name": "LayoutModel",
          "model_module_version": "1.2.0",
          "state": {
            "_model_module": "@jupyter-widgets/base",
            "_model_module_version": "1.2.0",
            "_model_name": "LayoutModel",
            "_view_count": null,
            "_view_module": "@jupyter-widgets/base",
            "_view_module_version": "1.2.0",
            "_view_name": "LayoutView",
            "align_content": null,
            "align_items": null,
            "align_self": null,
            "border": null,
            "bottom": null,
            "display": null,
            "flex": null,
            "flex_flow": null,
            "grid_area": null,
            "grid_auto_columns": null,
            "grid_auto_flow": null,
            "grid_auto_rows": null,
            "grid_column": null,
            "grid_gap": null,
            "grid_row": null,
            "grid_template_areas": null,
            "grid_template_columns": null,
            "grid_template_rows": null,
            "height": null,
            "justify_content": null,
            "justify_items": null,
            "left": null,
            "margin": null,
            "max_height": null,
            "max_width": null,
            "min_height": null,
            "min_width": null,
            "object_fit": null,
            "object_position": null,
            "order": null,
            "overflow": null,
            "overflow_x": null,
            "overflow_y": null,
            "padding": null,
            "right": null,
            "top": null,
            "visibility": null,
            "width": null
          }
        },
        "2c2e2cb5bc1d4ca5966ff9ea4911e788": {
          "model_module": "@jupyter-widgets/base",
          "model_name": "LayoutModel",
          "model_module_version": "1.2.0",
          "state": {
            "_model_module": "@jupyter-widgets/base",
            "_model_module_version": "1.2.0",
            "_model_name": "LayoutModel",
            "_view_count": null,
            "_view_module": "@jupyter-widgets/base",
            "_view_module_version": "1.2.0",
            "_view_name": "LayoutView",
            "align_content": null,
            "align_items": null,
            "align_self": null,
            "border": null,
            "bottom": null,
            "display": null,
            "flex": null,
            "flex_flow": null,
            "grid_area": null,
            "grid_auto_columns": null,
            "grid_auto_flow": null,
            "grid_auto_rows": null,
            "grid_column": null,
            "grid_gap": null,
            "grid_row": null,
            "grid_template_areas": null,
            "grid_template_columns": null,
            "grid_template_rows": null,
            "height": null,
            "justify_content": null,
            "justify_items": null,
            "left": null,
            "margin": null,
            "max_height": null,
            "max_width": null,
            "min_height": null,
            "min_width": null,
            "object_fit": null,
            "object_position": null,
            "order": null,
            "overflow": null,
            "overflow_x": null,
            "overflow_y": null,
            "padding": null,
            "right": null,
            "top": null,
            "visibility": null,
            "width": null
          }
        },
        "20cf3ff98857434fa2729fb6f6f60359": {
          "model_module": "@jupyter-widgets/controls",
          "model_name": "DescriptionStyleModel",
          "model_module_version": "1.5.0",
          "state": {
            "_model_module": "@jupyter-widgets/controls",
            "_model_module_version": "1.5.0",
            "_model_name": "DescriptionStyleModel",
            "_view_count": null,
            "_view_module": "@jupyter-widgets/base",
            "_view_module_version": "1.2.0",
            "_view_name": "StyleView",
            "description_width": ""
          }
        },
        "08f0419662cf4ee19170703cc94ee660": {
          "model_module": "@jupyter-widgets/base",
          "model_name": "LayoutModel",
          "model_module_version": "1.2.0",
          "state": {
            "_model_module": "@jupyter-widgets/base",
            "_model_module_version": "1.2.0",
            "_model_name": "LayoutModel",
            "_view_count": null,
            "_view_module": "@jupyter-widgets/base",
            "_view_module_version": "1.2.0",
            "_view_name": "LayoutView",
            "align_content": null,
            "align_items": null,
            "align_self": null,
            "border": null,
            "bottom": null,
            "display": null,
            "flex": null,
            "flex_flow": null,
            "grid_area": null,
            "grid_auto_columns": null,
            "grid_auto_flow": null,
            "grid_auto_rows": null,
            "grid_column": null,
            "grid_gap": null,
            "grid_row": null,
            "grid_template_areas": null,
            "grid_template_columns": null,
            "grid_template_rows": null,
            "height": null,
            "justify_content": null,
            "justify_items": null,
            "left": null,
            "margin": null,
            "max_height": null,
            "max_width": null,
            "min_height": null,
            "min_width": null,
            "object_fit": null,
            "object_position": null,
            "order": null,
            "overflow": null,
            "overflow_x": null,
            "overflow_y": null,
            "padding": null,
            "right": null,
            "top": null,
            "visibility": null,
            "width": null
          }
        },
        "d688f0ed90cb488ab025d5cbb3f773ad": {
          "model_module": "@jupyter-widgets/controls",
          "model_name": "ProgressStyleModel",
          "model_module_version": "1.5.0",
          "state": {
            "_model_module": "@jupyter-widgets/controls",
            "_model_module_version": "1.5.0",
            "_model_name": "ProgressStyleModel",
            "_view_count": null,
            "_view_module": "@jupyter-widgets/base",
            "_view_module_version": "1.2.0",
            "_view_name": "StyleView",
            "bar_color": null,
            "description_width": ""
          }
        },
        "26a533ce8fdf421983ef827ac6175140": {
          "model_module": "@jupyter-widgets/base",
          "model_name": "LayoutModel",
          "model_module_version": "1.2.0",
          "state": {
            "_model_module": "@jupyter-widgets/base",
            "_model_module_version": "1.2.0",
            "_model_name": "LayoutModel",
            "_view_count": null,
            "_view_module": "@jupyter-widgets/base",
            "_view_module_version": "1.2.0",
            "_view_name": "LayoutView",
            "align_content": null,
            "align_items": null,
            "align_self": null,
            "border": null,
            "bottom": null,
            "display": null,
            "flex": null,
            "flex_flow": null,
            "grid_area": null,
            "grid_auto_columns": null,
            "grid_auto_flow": null,
            "grid_auto_rows": null,
            "grid_column": null,
            "grid_gap": null,
            "grid_row": null,
            "grid_template_areas": null,
            "grid_template_columns": null,
            "grid_template_rows": null,
            "height": null,
            "justify_content": null,
            "justify_items": null,
            "left": null,
            "margin": null,
            "max_height": null,
            "max_width": null,
            "min_height": null,
            "min_width": null,
            "object_fit": null,
            "object_position": null,
            "order": null,
            "overflow": null,
            "overflow_x": null,
            "overflow_y": null,
            "padding": null,
            "right": null,
            "top": null,
            "visibility": null,
            "width": null
          }
        },
        "86ba1874b2994fbaac24d045afdd6bf2": {
          "model_module": "@jupyter-widgets/controls",
          "model_name": "DescriptionStyleModel",
          "model_module_version": "1.5.0",
          "state": {
            "_model_module": "@jupyter-widgets/controls",
            "_model_module_version": "1.5.0",
            "_model_name": "DescriptionStyleModel",
            "_view_count": null,
            "_view_module": "@jupyter-widgets/base",
            "_view_module_version": "1.2.0",
            "_view_name": "StyleView",
            "description_width": ""
          }
        },
        "f4073604de2344c9bea1eba8f5d2cf96": {
          "model_module": "@jupyter-widgets/controls",
          "model_name": "HBoxModel",
          "model_module_version": "1.5.0",
          "state": {
            "_dom_classes": [],
            "_model_module": "@jupyter-widgets/controls",
            "_model_module_version": "1.5.0",
            "_model_name": "HBoxModel",
            "_view_count": null,
            "_view_module": "@jupyter-widgets/controls",
            "_view_module_version": "1.5.0",
            "_view_name": "HBoxView",
            "box_style": "",
            "children": [
              "IPY_MODEL_482e3461f7a0402dab550d8322cd4ff5",
              "IPY_MODEL_a9c6c3c046804728be1df806c516212f",
              "IPY_MODEL_935945164e374b5eba7ac7493c2e1a62"
            ],
            "layout": "IPY_MODEL_5f4b265b09a14559a3a3902878e86d5a"
          }
        },
        "482e3461f7a0402dab550d8322cd4ff5": {
          "model_module": "@jupyter-widgets/controls",
          "model_name": "HTMLModel",
          "model_module_version": "1.5.0",
          "state": {
            "_dom_classes": [],
            "_model_module": "@jupyter-widgets/controls",
            "_model_module_version": "1.5.0",
            "_model_name": "HTMLModel",
            "_view_count": null,
            "_view_module": "@jupyter-widgets/controls",
            "_view_module_version": "1.5.0",
            "_view_name": "HTMLView",
            "description": "",
            "description_tooltip": null,
            "layout": "IPY_MODEL_abd6a6118f06400aa1e5154f2726e83b",
            "placeholder": "​",
            "style": "IPY_MODEL_e3a9b405d339490880d36f05b5155359",
            "value": "Downloading (…)lve/main/config.json: 100%"
          }
        },
        "a9c6c3c046804728be1df806c516212f": {
          "model_module": "@jupyter-widgets/controls",
          "model_name": "FloatProgressModel",
          "model_module_version": "1.5.0",
          "state": {
            "_dom_classes": [],
            "_model_module": "@jupyter-widgets/controls",
            "_model_module_version": "1.5.0",
            "_model_name": "FloatProgressModel",
            "_view_count": null,
            "_view_module": "@jupyter-widgets/controls",
            "_view_module_version": "1.5.0",
            "_view_name": "ProgressView",
            "bar_style": "success",
            "description": "",
            "description_tooltip": null,
            "layout": "IPY_MODEL_be1ef8bffbac483e9476678836085c68",
            "max": 570,
            "min": 0,
            "orientation": "horizontal",
            "style": "IPY_MODEL_ade148503e94411887e5af6a41fa8fea",
            "value": 570
          }
        },
        "935945164e374b5eba7ac7493c2e1a62": {
          "model_module": "@jupyter-widgets/controls",
          "model_name": "HTMLModel",
          "model_module_version": "1.5.0",
          "state": {
            "_dom_classes": [],
            "_model_module": "@jupyter-widgets/controls",
            "_model_module_version": "1.5.0",
            "_model_name": "HTMLModel",
            "_view_count": null,
            "_view_module": "@jupyter-widgets/controls",
            "_view_module_version": "1.5.0",
            "_view_name": "HTMLView",
            "description": "",
            "description_tooltip": null,
            "layout": "IPY_MODEL_9b8d3afb73e845ac958b93b84f1d3abe",
            "placeholder": "​",
            "style": "IPY_MODEL_4934601043644d43a98acf47e88454ac",
            "value": " 570/570 [00:00&lt;00:00, 30.4kB/s]"
          }
        },
        "5f4b265b09a14559a3a3902878e86d5a": {
          "model_module": "@jupyter-widgets/base",
          "model_name": "LayoutModel",
          "model_module_version": "1.2.0",
          "state": {
            "_model_module": "@jupyter-widgets/base",
            "_model_module_version": "1.2.0",
            "_model_name": "LayoutModel",
            "_view_count": null,
            "_view_module": "@jupyter-widgets/base",
            "_view_module_version": "1.2.0",
            "_view_name": "LayoutView",
            "align_content": null,
            "align_items": null,
            "align_self": null,
            "border": null,
            "bottom": null,
            "display": null,
            "flex": null,
            "flex_flow": null,
            "grid_area": null,
            "grid_auto_columns": null,
            "grid_auto_flow": null,
            "grid_auto_rows": null,
            "grid_column": null,
            "grid_gap": null,
            "grid_row": null,
            "grid_template_areas": null,
            "grid_template_columns": null,
            "grid_template_rows": null,
            "height": null,
            "justify_content": null,
            "justify_items": null,
            "left": null,
            "margin": null,
            "max_height": null,
            "max_width": null,
            "min_height": null,
            "min_width": null,
            "object_fit": null,
            "object_position": null,
            "order": null,
            "overflow": null,
            "overflow_x": null,
            "overflow_y": null,
            "padding": null,
            "right": null,
            "top": null,
            "visibility": null,
            "width": null
          }
        },
        "abd6a6118f06400aa1e5154f2726e83b": {
          "model_module": "@jupyter-widgets/base",
          "model_name": "LayoutModel",
          "model_module_version": "1.2.0",
          "state": {
            "_model_module": "@jupyter-widgets/base",
            "_model_module_version": "1.2.0",
            "_model_name": "LayoutModel",
            "_view_count": null,
            "_view_module": "@jupyter-widgets/base",
            "_view_module_version": "1.2.0",
            "_view_name": "LayoutView",
            "align_content": null,
            "align_items": null,
            "align_self": null,
            "border": null,
            "bottom": null,
            "display": null,
            "flex": null,
            "flex_flow": null,
            "grid_area": null,
            "grid_auto_columns": null,
            "grid_auto_flow": null,
            "grid_auto_rows": null,
            "grid_column": null,
            "grid_gap": null,
            "grid_row": null,
            "grid_template_areas": null,
            "grid_template_columns": null,
            "grid_template_rows": null,
            "height": null,
            "justify_content": null,
            "justify_items": null,
            "left": null,
            "margin": null,
            "max_height": null,
            "max_width": null,
            "min_height": null,
            "min_width": null,
            "object_fit": null,
            "object_position": null,
            "order": null,
            "overflow": null,
            "overflow_x": null,
            "overflow_y": null,
            "padding": null,
            "right": null,
            "top": null,
            "visibility": null,
            "width": null
          }
        },
        "e3a9b405d339490880d36f05b5155359": {
          "model_module": "@jupyter-widgets/controls",
          "model_name": "DescriptionStyleModel",
          "model_module_version": "1.5.0",
          "state": {
            "_model_module": "@jupyter-widgets/controls",
            "_model_module_version": "1.5.0",
            "_model_name": "DescriptionStyleModel",
            "_view_count": null,
            "_view_module": "@jupyter-widgets/base",
            "_view_module_version": "1.2.0",
            "_view_name": "StyleView",
            "description_width": ""
          }
        },
        "be1ef8bffbac483e9476678836085c68": {
          "model_module": "@jupyter-widgets/base",
          "model_name": "LayoutModel",
          "model_module_version": "1.2.0",
          "state": {
            "_model_module": "@jupyter-widgets/base",
            "_model_module_version": "1.2.0",
            "_model_name": "LayoutModel",
            "_view_count": null,
            "_view_module": "@jupyter-widgets/base",
            "_view_module_version": "1.2.0",
            "_view_name": "LayoutView",
            "align_content": null,
            "align_items": null,
            "align_self": null,
            "border": null,
            "bottom": null,
            "display": null,
            "flex": null,
            "flex_flow": null,
            "grid_area": null,
            "grid_auto_columns": null,
            "grid_auto_flow": null,
            "grid_auto_rows": null,
            "grid_column": null,
            "grid_gap": null,
            "grid_row": null,
            "grid_template_areas": null,
            "grid_template_columns": null,
            "grid_template_rows": null,
            "height": null,
            "justify_content": null,
            "justify_items": null,
            "left": null,
            "margin": null,
            "max_height": null,
            "max_width": null,
            "min_height": null,
            "min_width": null,
            "object_fit": null,
            "object_position": null,
            "order": null,
            "overflow": null,
            "overflow_x": null,
            "overflow_y": null,
            "padding": null,
            "right": null,
            "top": null,
            "visibility": null,
            "width": null
          }
        },
        "ade148503e94411887e5af6a41fa8fea": {
          "model_module": "@jupyter-widgets/controls",
          "model_name": "ProgressStyleModel",
          "model_module_version": "1.5.0",
          "state": {
            "_model_module": "@jupyter-widgets/controls",
            "_model_module_version": "1.5.0",
            "_model_name": "ProgressStyleModel",
            "_view_count": null,
            "_view_module": "@jupyter-widgets/base",
            "_view_module_version": "1.2.0",
            "_view_name": "StyleView",
            "bar_color": null,
            "description_width": ""
          }
        },
        "9b8d3afb73e845ac958b93b84f1d3abe": {
          "model_module": "@jupyter-widgets/base",
          "model_name": "LayoutModel",
          "model_module_version": "1.2.0",
          "state": {
            "_model_module": "@jupyter-widgets/base",
            "_model_module_version": "1.2.0",
            "_model_name": "LayoutModel",
            "_view_count": null,
            "_view_module": "@jupyter-widgets/base",
            "_view_module_version": "1.2.0",
            "_view_name": "LayoutView",
            "align_content": null,
            "align_items": null,
            "align_self": null,
            "border": null,
            "bottom": null,
            "display": null,
            "flex": null,
            "flex_flow": null,
            "grid_area": null,
            "grid_auto_columns": null,
            "grid_auto_flow": null,
            "grid_auto_rows": null,
            "grid_column": null,
            "grid_gap": null,
            "grid_row": null,
            "grid_template_areas": null,
            "grid_template_columns": null,
            "grid_template_rows": null,
            "height": null,
            "justify_content": null,
            "justify_items": null,
            "left": null,
            "margin": null,
            "max_height": null,
            "max_width": null,
            "min_height": null,
            "min_width": null,
            "object_fit": null,
            "object_position": null,
            "order": null,
            "overflow": null,
            "overflow_x": null,
            "overflow_y": null,
            "padding": null,
            "right": null,
            "top": null,
            "visibility": null,
            "width": null
          }
        },
        "4934601043644d43a98acf47e88454ac": {
          "model_module": "@jupyter-widgets/controls",
          "model_name": "DescriptionStyleModel",
          "model_module_version": "1.5.0",
          "state": {
            "_model_module": "@jupyter-widgets/controls",
            "_model_module_version": "1.5.0",
            "_model_name": "DescriptionStyleModel",
            "_view_count": null,
            "_view_module": "@jupyter-widgets/base",
            "_view_module_version": "1.2.0",
            "_view_name": "StyleView",
            "description_width": ""
          }
        },
        "67dde5ce787e44159e22a14cc338faf5": {
          "model_module": "@jupyter-widgets/controls",
          "model_name": "HBoxModel",
          "model_module_version": "1.5.0",
          "state": {
            "_dom_classes": [],
            "_model_module": "@jupyter-widgets/controls",
            "_model_module_version": "1.5.0",
            "_model_name": "HBoxModel",
            "_view_count": null,
            "_view_module": "@jupyter-widgets/controls",
            "_view_module_version": "1.5.0",
            "_view_name": "HBoxView",
            "box_style": "",
            "children": [
              "IPY_MODEL_d3f4be65ca0b4672a8b89ec415f93310",
              "IPY_MODEL_a8d6b3431b264d71b74bbb29a1131f42",
              "IPY_MODEL_152cb2e9daac4ba3903ba359d2d2a6ea"
            ],
            "layout": "IPY_MODEL_4aad4c285a79407d99e80082d15505b6"
          }
        },
        "d3f4be65ca0b4672a8b89ec415f93310": {
          "model_module": "@jupyter-widgets/controls",
          "model_name": "HTMLModel",
          "model_module_version": "1.5.0",
          "state": {
            "_dom_classes": [],
            "_model_module": "@jupyter-widgets/controls",
            "_model_module_version": "1.5.0",
            "_model_name": "HTMLModel",
            "_view_count": null,
            "_view_module": "@jupyter-widgets/controls",
            "_view_module_version": "1.5.0",
            "_view_name": "HTMLView",
            "description": "",
            "description_tooltip": null,
            "layout": "IPY_MODEL_212a51710c74490f8e48c8790e0ef19d",
            "placeholder": "​",
            "style": "IPY_MODEL_a7baaf19125e4992b06ad16b20a662ea",
            "value": "Downloading pytorch_model.bin: 100%"
          }
        },
        "a8d6b3431b264d71b74bbb29a1131f42": {
          "model_module": "@jupyter-widgets/controls",
          "model_name": "FloatProgressModel",
          "model_module_version": "1.5.0",
          "state": {
            "_dom_classes": [],
            "_model_module": "@jupyter-widgets/controls",
            "_model_module_version": "1.5.0",
            "_model_name": "FloatProgressModel",
            "_view_count": null,
            "_view_module": "@jupyter-widgets/controls",
            "_view_module_version": "1.5.0",
            "_view_name": "ProgressView",
            "bar_style": "success",
            "description": "",
            "description_tooltip": null,
            "layout": "IPY_MODEL_9a20dc7c6f044fb8a32c02abbab382f3",
            "max": 440473133,
            "min": 0,
            "orientation": "horizontal",
            "style": "IPY_MODEL_ea61243f0fa84ab688f84e0db0cf6000",
            "value": 440473133
          }
        },
        "152cb2e9daac4ba3903ba359d2d2a6ea": {
          "model_module": "@jupyter-widgets/controls",
          "model_name": "HTMLModel",
          "model_module_version": "1.5.0",
          "state": {
            "_dom_classes": [],
            "_model_module": "@jupyter-widgets/controls",
            "_model_module_version": "1.5.0",
            "_model_name": "HTMLModel",
            "_view_count": null,
            "_view_module": "@jupyter-widgets/controls",
            "_view_module_version": "1.5.0",
            "_view_name": "HTMLView",
            "description": "",
            "description_tooltip": null,
            "layout": "IPY_MODEL_8869dd50e22949b69e47e8401d1f3917",
            "placeholder": "​",
            "style": "IPY_MODEL_fa6fc875f911445294a61a25323e9ea2",
            "value": " 440M/440M [00:01&lt;00:00, 265MB/s]"
          }
        },
        "4aad4c285a79407d99e80082d15505b6": {
          "model_module": "@jupyter-widgets/base",
          "model_name": "LayoutModel",
          "model_module_version": "1.2.0",
          "state": {
            "_model_module": "@jupyter-widgets/base",
            "_model_module_version": "1.2.0",
            "_model_name": "LayoutModel",
            "_view_count": null,
            "_view_module": "@jupyter-widgets/base",
            "_view_module_version": "1.2.0",
            "_view_name": "LayoutView",
            "align_content": null,
            "align_items": null,
            "align_self": null,
            "border": null,
            "bottom": null,
            "display": null,
            "flex": null,
            "flex_flow": null,
            "grid_area": null,
            "grid_auto_columns": null,
            "grid_auto_flow": null,
            "grid_auto_rows": null,
            "grid_column": null,
            "grid_gap": null,
            "grid_row": null,
            "grid_template_areas": null,
            "grid_template_columns": null,
            "grid_template_rows": null,
            "height": null,
            "justify_content": null,
            "justify_items": null,
            "left": null,
            "margin": null,
            "max_height": null,
            "max_width": null,
            "min_height": null,
            "min_width": null,
            "object_fit": null,
            "object_position": null,
            "order": null,
            "overflow": null,
            "overflow_x": null,
            "overflow_y": null,
            "padding": null,
            "right": null,
            "top": null,
            "visibility": null,
            "width": null
          }
        },
        "212a51710c74490f8e48c8790e0ef19d": {
          "model_module": "@jupyter-widgets/base",
          "model_name": "LayoutModel",
          "model_module_version": "1.2.0",
          "state": {
            "_model_module": "@jupyter-widgets/base",
            "_model_module_version": "1.2.0",
            "_model_name": "LayoutModel",
            "_view_count": null,
            "_view_module": "@jupyter-widgets/base",
            "_view_module_version": "1.2.0",
            "_view_name": "LayoutView",
            "align_content": null,
            "align_items": null,
            "align_self": null,
            "border": null,
            "bottom": null,
            "display": null,
            "flex": null,
            "flex_flow": null,
            "grid_area": null,
            "grid_auto_columns": null,
            "grid_auto_flow": null,
            "grid_auto_rows": null,
            "grid_column": null,
            "grid_gap": null,
            "grid_row": null,
            "grid_template_areas": null,
            "grid_template_columns": null,
            "grid_template_rows": null,
            "height": null,
            "justify_content": null,
            "justify_items": null,
            "left": null,
            "margin": null,
            "max_height": null,
            "max_width": null,
            "min_height": null,
            "min_width": null,
            "object_fit": null,
            "object_position": null,
            "order": null,
            "overflow": null,
            "overflow_x": null,
            "overflow_y": null,
            "padding": null,
            "right": null,
            "top": null,
            "visibility": null,
            "width": null
          }
        },
        "a7baaf19125e4992b06ad16b20a662ea": {
          "model_module": "@jupyter-widgets/controls",
          "model_name": "DescriptionStyleModel",
          "model_module_version": "1.5.0",
          "state": {
            "_model_module": "@jupyter-widgets/controls",
            "_model_module_version": "1.5.0",
            "_model_name": "DescriptionStyleModel",
            "_view_count": null,
            "_view_module": "@jupyter-widgets/base",
            "_view_module_version": "1.2.0",
            "_view_name": "StyleView",
            "description_width": ""
          }
        },
        "9a20dc7c6f044fb8a32c02abbab382f3": {
          "model_module": "@jupyter-widgets/base",
          "model_name": "LayoutModel",
          "model_module_version": "1.2.0",
          "state": {
            "_model_module": "@jupyter-widgets/base",
            "_model_module_version": "1.2.0",
            "_model_name": "LayoutModel",
            "_view_count": null,
            "_view_module": "@jupyter-widgets/base",
            "_view_module_version": "1.2.0",
            "_view_name": "LayoutView",
            "align_content": null,
            "align_items": null,
            "align_self": null,
            "border": null,
            "bottom": null,
            "display": null,
            "flex": null,
            "flex_flow": null,
            "grid_area": null,
            "grid_auto_columns": null,
            "grid_auto_flow": null,
            "grid_auto_rows": null,
            "grid_column": null,
            "grid_gap": null,
            "grid_row": null,
            "grid_template_areas": null,
            "grid_template_columns": null,
            "grid_template_rows": null,
            "height": null,
            "justify_content": null,
            "justify_items": null,
            "left": null,
            "margin": null,
            "max_height": null,
            "max_width": null,
            "min_height": null,
            "min_width": null,
            "object_fit": null,
            "object_position": null,
            "order": null,
            "overflow": null,
            "overflow_x": null,
            "overflow_y": null,
            "padding": null,
            "right": null,
            "top": null,
            "visibility": null,
            "width": null
          }
        },
        "ea61243f0fa84ab688f84e0db0cf6000": {
          "model_module": "@jupyter-widgets/controls",
          "model_name": "ProgressStyleModel",
          "model_module_version": "1.5.0",
          "state": {
            "_model_module": "@jupyter-widgets/controls",
            "_model_module_version": "1.5.0",
            "_model_name": "ProgressStyleModel",
            "_view_count": null,
            "_view_module": "@jupyter-widgets/base",
            "_view_module_version": "1.2.0",
            "_view_name": "StyleView",
            "bar_color": null,
            "description_width": ""
          }
        },
        "8869dd50e22949b69e47e8401d1f3917": {
          "model_module": "@jupyter-widgets/base",
          "model_name": "LayoutModel",
          "model_module_version": "1.2.0",
          "state": {
            "_model_module": "@jupyter-widgets/base",
            "_model_module_version": "1.2.0",
            "_model_name": "LayoutModel",
            "_view_count": null,
            "_view_module": "@jupyter-widgets/base",
            "_view_module_version": "1.2.0",
            "_view_name": "LayoutView",
            "align_content": null,
            "align_items": null,
            "align_self": null,
            "border": null,
            "bottom": null,
            "display": null,
            "flex": null,
            "flex_flow": null,
            "grid_area": null,
            "grid_auto_columns": null,
            "grid_auto_flow": null,
            "grid_auto_rows": null,
            "grid_column": null,
            "grid_gap": null,
            "grid_row": null,
            "grid_template_areas": null,
            "grid_template_columns": null,
            "grid_template_rows": null,
            "height": null,
            "justify_content": null,
            "justify_items": null,
            "left": null,
            "margin": null,
            "max_height": null,
            "max_width": null,
            "min_height": null,
            "min_width": null,
            "object_fit": null,
            "object_position": null,
            "order": null,
            "overflow": null,
            "overflow_x": null,
            "overflow_y": null,
            "padding": null,
            "right": null,
            "top": null,
            "visibility": null,
            "width": null
          }
        },
        "fa6fc875f911445294a61a25323e9ea2": {
          "model_module": "@jupyter-widgets/controls",
          "model_name": "DescriptionStyleModel",
          "model_module_version": "1.5.0",
          "state": {
            "_model_module": "@jupyter-widgets/controls",
            "_model_module_version": "1.5.0",
            "_model_name": "DescriptionStyleModel",
            "_view_count": null,
            "_view_module": "@jupyter-widgets/base",
            "_view_module_version": "1.2.0",
            "_view_name": "StyleView",
            "description_width": ""
          }
        }
      }
    }
  },
  "nbformat": 4,
  "nbformat_minor": 0
}